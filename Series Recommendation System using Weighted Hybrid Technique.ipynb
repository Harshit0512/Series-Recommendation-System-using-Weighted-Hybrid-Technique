{
 "cells": [
  {
   "cell_type": "code",
   "execution_count": 1,
   "metadata": {},
   "outputs": [],
   "source": [
    "import pandas as pd\n",
    "import numpy as np"
   ]
  },
  {
   "cell_type": "code",
   "execution_count": 2,
   "metadata": {},
   "outputs": [],
   "source": [
    "shows = pd.read_csv('All_Streaming_Shows.csv')"
   ]
  },
  {
   "cell_type": "code",
   "execution_count": 3,
   "metadata": {},
   "outputs": [
    {
     "name": "stdout",
     "output_type": "stream",
     "text": [
      "<class 'pandas.core.frame.DataFrame'>\n",
      "RangeIndex: 12353 entries, 0 to 12352\n",
      "Data columns (total 9 columns):\n",
      "Series Title          12353 non-null object\n",
      "Year Released         12353 non-null int64\n",
      "Content Rating        7232 non-null object\n",
      "IMDB Rating           10207 non-null float64\n",
      "R Rating              12353 non-null int64\n",
      "Genre                 12353 non-null object\n",
      "Description           12353 non-null object\n",
      "No of Seasons         12353 non-null object\n",
      "Streaming Platform    10370 non-null object\n",
      "dtypes: float64(1), int64(2), object(6)\n",
      "memory usage: 868.6+ KB\n"
     ]
    }
   ],
   "source": [
    "shows.info()"
   ]
  },
  {
   "cell_type": "code",
   "execution_count": 4,
   "metadata": {},
   "outputs": [
    {
     "data": {
      "text/html": [
       "<div>\n",
       "<style scoped>\n",
       "    .dataframe tbody tr th:only-of-type {\n",
       "        vertical-align: middle;\n",
       "    }\n",
       "\n",
       "    .dataframe tbody tr th {\n",
       "        vertical-align: top;\n",
       "    }\n",
       "\n",
       "    .dataframe thead th {\n",
       "        text-align: right;\n",
       "    }\n",
       "</style>\n",
       "<table border=\"1\" class=\"dataframe\">\n",
       "  <thead>\n",
       "    <tr style=\"text-align: right;\">\n",
       "      <th></th>\n",
       "      <th>Series Title</th>\n",
       "      <th>Year Released</th>\n",
       "      <th>Content Rating</th>\n",
       "      <th>IMDB Rating</th>\n",
       "      <th>R Rating</th>\n",
       "      <th>Genre</th>\n",
       "      <th>Description</th>\n",
       "      <th>No of Seasons</th>\n",
       "      <th>Streaming Platform</th>\n",
       "    </tr>\n",
       "  </thead>\n",
       "  <tbody>\n",
       "    <tr>\n",
       "      <th>0</th>\n",
       "      <td>Breaking Bad</td>\n",
       "      <td>2008</td>\n",
       "      <td>18+</td>\n",
       "      <td>9.5</td>\n",
       "      <td>100</td>\n",
       "      <td>Crime,Drama</td>\n",
       "      <td>When Walter White, a New Mexico chemistry teac...</td>\n",
       "      <td>5Seasons</td>\n",
       "      <td>Netflix</td>\n",
       "    </tr>\n",
       "    <tr>\n",
       "      <th>1</th>\n",
       "      <td>Game of Thrones</td>\n",
       "      <td>2011</td>\n",
       "      <td>18+</td>\n",
       "      <td>9.3</td>\n",
       "      <td>99</td>\n",
       "      <td>Action &amp; Adventure,Drama</td>\n",
       "      <td>Seven noble families fight for control of the ...</td>\n",
       "      <td>8Seasons</td>\n",
       "      <td>HBO MAX,HBO</td>\n",
       "    </tr>\n",
       "    <tr>\n",
       "      <th>2</th>\n",
       "      <td>Rick and Morty</td>\n",
       "      <td>2013</td>\n",
       "      <td>18+</td>\n",
       "      <td>9.2</td>\n",
       "      <td>97</td>\n",
       "      <td>Animation,Comedy</td>\n",
       "      <td>Rick is a mentally-unbalanced but scientifical...</td>\n",
       "      <td>4Seasons</td>\n",
       "      <td>Free Services,HBO MAX,Hulu</td>\n",
       "    </tr>\n",
       "    <tr>\n",
       "      <th>3</th>\n",
       "      <td>Stranger Things</td>\n",
       "      <td>2016</td>\n",
       "      <td>16+</td>\n",
       "      <td>8.8</td>\n",
       "      <td>96</td>\n",
       "      <td>Drama,Fantasy</td>\n",
       "      <td>When a young boy vanishes, a small town uncove...</td>\n",
       "      <td>3Seasons</td>\n",
       "      <td>Netflix</td>\n",
       "    </tr>\n",
       "    <tr>\n",
       "      <th>4</th>\n",
       "      <td>The Boys</td>\n",
       "      <td>2019</td>\n",
       "      <td>18+</td>\n",
       "      <td>8.7</td>\n",
       "      <td>95</td>\n",
       "      <td>Action &amp; Adventure,Comedy</td>\n",
       "      <td>A group of vigilantes known informally as “The...</td>\n",
       "      <td>2Seasons</td>\n",
       "      <td>Prime Video</td>\n",
       "    </tr>\n",
       "  </tbody>\n",
       "</table>\n",
       "</div>"
      ],
      "text/plain": [
       "      Series Title  Year Released Content Rating  IMDB Rating  R Rating  \\\n",
       "0     Breaking Bad           2008            18+          9.5       100   \n",
       "1  Game of Thrones           2011            18+          9.3        99   \n",
       "2   Rick and Morty           2013            18+          9.2        97   \n",
       "3  Stranger Things           2016            16+          8.8        96   \n",
       "4         The Boys           2019            18+          8.7        95   \n",
       "\n",
       "                       Genre  \\\n",
       "0                Crime,Drama   \n",
       "1   Action & Adventure,Drama   \n",
       "2           Animation,Comedy   \n",
       "3              Drama,Fantasy   \n",
       "4  Action & Adventure,Comedy   \n",
       "\n",
       "                                         Description No of Seasons  \\\n",
       "0  When Walter White, a New Mexico chemistry teac...      5Seasons   \n",
       "1  Seven noble families fight for control of the ...      8Seasons   \n",
       "2  Rick is a mentally-unbalanced but scientifical...      4Seasons   \n",
       "3  When a young boy vanishes, a small town uncove...      3Seasons   \n",
       "4  A group of vigilantes known informally as “The...      2Seasons   \n",
       "\n",
       "           Streaming Platform  \n",
       "0                     Netflix  \n",
       "1                 HBO MAX,HBO  \n",
       "2  Free Services,HBO MAX,Hulu  \n",
       "3                     Netflix  \n",
       "4                 Prime Video  "
      ]
     },
     "execution_count": 4,
     "metadata": {},
     "output_type": "execute_result"
    }
   ],
   "source": [
    "shows.head()"
   ]
  },
  {
   "cell_type": "code",
   "execution_count": 5,
   "metadata": {},
   "outputs": [
    {
     "data": {
      "text/plain": [
       "Series Title             0\n",
       "Year Released            0\n",
       "Content Rating        5121\n",
       "IMDB Rating           2146\n",
       "R Rating                 0\n",
       "Genre                    0\n",
       "Description              0\n",
       "No of Seasons            0\n",
       "Streaming Platform    1983\n",
       "dtype: int64"
      ]
     },
     "execution_count": 5,
     "metadata": {},
     "output_type": "execute_result"
    }
   ],
   "source": [
    "shows.isnull().sum()"
   ]
  },
  {
   "cell_type": "code",
   "execution_count": 6,
   "metadata": {},
   "outputs": [
    {
     "data": {
      "text/plain": [
       "array(['5Seasons', '8Seasons', '4Seasons', '3Seasons', '2Seasons',\n",
       "       '1Season', '10Seasons', '9Seasons', '15 Seasons', '1 Season',\n",
       "       '5 Seasons', '31 Seasons', '6Seasons', '6 Seasons', '7 Seasons',\n",
       "       '23 Seasons', '7Seasons', '10 Seasons', '12Seasons', '11 Seasons',\n",
       "       '14Seasons', '3 Seasons', '4 Seasons', '16 Seasons', '11Seasons',\n",
       "       '2 Seasons', '9 Seasons', '8 Seasons', '24 Seasons', '19 Seasons',\n",
       "       '18 Seasons', '17 Seasons', '12 Seasons', '21 Seasons',\n",
       "       '16Seasons', '28 Seasons', '13Seasons', '29 Seasons', '45 Seasons',\n",
       "       '21Seasons', '27 Seasons', '25 Seasons', '40 Seasons', '20Seasons',\n",
       "       '14 Seasons', '51 Seasons', '13 Seasons', '15Seasons',\n",
       "       '20 Seasons', '24Seasons', '62 Seasons', '35 Seasons',\n",
       "       '44 Seasons', '18Seasons', '17Seasons', '75 Seasons', '54 Seasons',\n",
       "       '27Seasons', '22 Seasons', '32Seasons', '187 Seasons', '31Seasons',\n",
       "       '36 Seasons', '26 Seasons', '32 Seasons', '52 Seasons',\n",
       "       '34 Seasons', '37 Seasons', '77 Seasons', '41 Seasons',\n",
       "       '42 Seasons', '60 Seasons', '33 Seasons', '160 Seasons',\n",
       "       '38Seasons', '22Seasons', '84Seasons', '23Seasons', '25Seasons',\n",
       "       '64Seasons', '39Seasons', '19Seasons', '-1', '42Seasons',\n",
       "       '33Seasons', '40Seasons', '43 Seasons', '48 Seasons', '29Seasons',\n",
       "       '71 Seasons', '82 Seasons', '57Seasons', '45Seasons', '26Seasons'],\n",
       "      dtype=object)"
      ]
     },
     "execution_count": 6,
     "metadata": {},
     "output_type": "execute_result"
    }
   ],
   "source": [
    "shows['No of Seasons'].unique()"
   ]
  },
  {
   "cell_type": "code",
   "execution_count": 7,
   "metadata": {},
   "outputs": [
    {
     "data": {
      "text/plain": [
       "Series Title             0\n",
       "Year Released            0\n",
       "Content Rating        5121\n",
       "IMDB Rating           2146\n",
       "R Rating                 0\n",
       "Genre                    0\n",
       "Description              0\n",
       "No of Seasons            0\n",
       "Streaming Platform    1983\n",
       "dtype: int64"
      ]
     },
     "execution_count": 7,
     "metadata": {},
     "output_type": "execute_result"
    }
   ],
   "source": [
    "shows.isnull().sum()"
   ]
  },
  {
   "cell_type": "code",
   "execution_count": 8,
   "metadata": {},
   "outputs": [
    {
     "data": {
      "text/plain": [
       "array([100,  99,  97,  96,  95,  94,  93,  92,  91,  90,  89,  88,  87,\n",
       "        86,  85,  84,  83,  82,  81,  80,  79,  78,  77,  76,  75,  74,\n",
       "        73,  72,  71,  70,  69,  68,  67,  66,  65,  64,  63,  62,  61,\n",
       "        60,  59,  58,  57,  56,  55,  54,  53,  52,  51,  50,  49,  48,\n",
       "        47,  46,  45,  44,  43,  42,  41,  40,  39,  38,  37,  36,  35,\n",
       "        34,  33,  32,  31,  30,  29,  28,  27,  26,  25,  24,  23,  22,\n",
       "        21,  20,  19,  18,  17,  16,  15,  13,  10,  -1], dtype=int64)"
      ]
     },
     "execution_count": 8,
     "metadata": {},
     "output_type": "execute_result"
    }
   ],
   "source": [
    "shows['R Rating'].unique() "
   ]
  },
  {
   "cell_type": "code",
   "execution_count": 9,
   "metadata": {},
   "outputs": [],
   "source": [
    "shows['Content Rating'] = shows['Content Rating'].replace(np.nan, 'unknown')\n",
    "shows['Streaming Platform'] = shows['Streaming Platform'].replace(np.nan, 'unknown')\n",
    "shows['Streaming Platform'] = shows['Streaming Platform'].replace('-1', 'unknown')\n",
    "shows['No of Seasons'] = shows['No of Seasons'].replace('-1', 'unknown')\n",
    "shows['Description'] = shows['Description'].replace('-1', 'unknown')\n",
    "shows['Genre'] = shows['Genre'].replace('-1', 'unknown')\n",
    "shows['R Rating'] = shows['R Rating'].replace(-1, np.nan)"
   ]
  },
  {
   "cell_type": "code",
   "execution_count": 10,
   "metadata": {},
   "outputs": [
    {
     "name": "stdout",
     "output_type": "stream",
     "text": [
      "<class 'pandas.core.frame.DataFrame'>\n",
      "RangeIndex: 12353 entries, 0 to 12352\n",
      "Data columns (total 9 columns):\n",
      "Series Title          12353 non-null object\n",
      "Year Released         12353 non-null int64\n",
      "Content Rating        12353 non-null object\n",
      "IMDB Rating           10207 non-null float64\n",
      "R Rating              11546 non-null float64\n",
      "Genre                 12353 non-null object\n",
      "Description           12353 non-null object\n",
      "No of Seasons         12353 non-null object\n",
      "Streaming Platform    12353 non-null object\n",
      "dtypes: float64(2), int64(1), object(6)\n",
      "memory usage: 868.6+ KB\n"
     ]
    }
   ],
   "source": [
    "shows.info()"
   ]
  },
  {
   "cell_type": "code",
   "execution_count": 11,
   "metadata": {},
   "outputs": [
    {
     "data": {
      "text/plain": [
       "array([100.,  99.,  97.,  96.,  95.,  94.,  93.,  92.,  91.,  90.,  89.,\n",
       "        88.,  87.,  86.,  85.,  84.,  83.,  82.,  81.,  80.,  79.,  78.,\n",
       "        77.,  76.,  75.,  74.,  73.,  72.,  71.,  70.,  69.,  68.,  67.,\n",
       "        66.,  65.,  64.,  63.,  62.,  61.,  60.,  59.,  58.,  57.,  56.,\n",
       "        55.,  54.,  53.,  52.,  51.,  50.,  49.,  48.,  47.,  46.,  45.,\n",
       "        44.,  43.,  42.,  41.,  40.,  39.,  38.,  37.,  36.,  35.,  34.,\n",
       "        33.,  32.,  31.,  30.,  29.,  28.,  27.,  26.,  25.,  24.,  23.,\n",
       "        22.,  21.,  20.,  19.,  18.,  17.,  16.,  15.,  13.,  10.,  nan])"
      ]
     },
     "execution_count": 11,
     "metadata": {},
     "output_type": "execute_result"
    }
   ],
   "source": [
    "shows['R Rating'].unique()"
   ]
  },
  {
   "cell_type": "code",
   "execution_count": 12,
   "metadata": {},
   "outputs": [],
   "source": [
    "shows['R Rating'] = shows['R Rating'].fillna(method = 'bfill', axis = 0).fillna(0)"
   ]
  },
  {
   "cell_type": "code",
   "execution_count": 13,
   "metadata": {},
   "outputs": [
    {
     "name": "stdout",
     "output_type": "stream",
     "text": [
      "<class 'pandas.core.frame.DataFrame'>\n",
      "RangeIndex: 12353 entries, 0 to 12352\n",
      "Data columns (total 9 columns):\n",
      "Series Title          12353 non-null object\n",
      "Year Released         12353 non-null int64\n",
      "Content Rating        12353 non-null object\n",
      "IMDB Rating           10207 non-null float64\n",
      "R Rating              12353 non-null float64\n",
      "Genre                 12353 non-null object\n",
      "Description           12353 non-null object\n",
      "No of Seasons         12353 non-null object\n",
      "Streaming Platform    12353 non-null object\n",
      "dtypes: float64(2), int64(1), object(6)\n",
      "memory usage: 868.6+ KB\n"
     ]
    }
   ],
   "source": [
    "shows.info()"
   ]
  },
  {
   "cell_type": "code",
   "execution_count": 14,
   "metadata": {},
   "outputs": [
    {
     "data": {
      "text/plain": [
       "Series Title             0\n",
       "Year Released            0\n",
       "Content Rating           0\n",
       "IMDB Rating           2146\n",
       "R Rating                 0\n",
       "Genre                    0\n",
       "Description              0\n",
       "No of Seasons            0\n",
       "Streaming Platform       0\n",
       "dtype: int64"
      ]
     },
     "execution_count": 14,
     "metadata": {},
     "output_type": "execute_result"
    }
   ],
   "source": [
    "shows.isnull().sum()"
   ]
  },
  {
   "cell_type": "code",
   "execution_count": 15,
   "metadata": {},
   "outputs": [
    {
     "data": {
      "text/plain": [
       "Series Title             0\n",
       "Year Released            0\n",
       "Content Rating           0\n",
       "IMDB Rating           2146\n",
       "R Rating                 0\n",
       "Genre                    0\n",
       "Description              0\n",
       "No of Seasons            0\n",
       "Streaming Platform       0\n",
       "dtype: int64"
      ]
     },
     "execution_count": 15,
     "metadata": {},
     "output_type": "execute_result"
    }
   ],
   "source": [
    "shows.isnull().sum()"
   ]
  },
  {
   "cell_type": "code",
   "execution_count": 16,
   "metadata": {},
   "outputs": [
    {
     "data": {
      "text/plain": [
       "(12353, 9)"
      ]
     },
     "execution_count": 16,
     "metadata": {},
     "output_type": "execute_result"
    }
   ],
   "source": [
    "shows.shape"
   ]
  },
  {
   "cell_type": "code",
   "execution_count": 17,
   "metadata": {},
   "outputs": [],
   "source": [
    "shows = shows.dropna()"
   ]
  },
  {
   "cell_type": "code",
   "execution_count": 18,
   "metadata": {},
   "outputs": [
    {
     "data": {
      "text/plain": [
       "(10207, 9)"
      ]
     },
     "execution_count": 18,
     "metadata": {},
     "output_type": "execute_result"
    }
   ],
   "source": [
    "shows.shape"
   ]
  },
  {
   "cell_type": "code",
   "execution_count": 19,
   "metadata": {},
   "outputs": [
    {
     "data": {
      "text/html": [
       "<div>\n",
       "<style scoped>\n",
       "    .dataframe tbody tr th:only-of-type {\n",
       "        vertical-align: middle;\n",
       "    }\n",
       "\n",
       "    .dataframe tbody tr th {\n",
       "        vertical-align: top;\n",
       "    }\n",
       "\n",
       "    .dataframe thead th {\n",
       "        text-align: right;\n",
       "    }\n",
       "</style>\n",
       "<table border=\"1\" class=\"dataframe\">\n",
       "  <thead>\n",
       "    <tr style=\"text-align: right;\">\n",
       "      <th></th>\n",
       "      <th>Series Title</th>\n",
       "      <th>Year Released</th>\n",
       "      <th>Content Rating</th>\n",
       "      <th>IMDB Rating</th>\n",
       "      <th>R Rating</th>\n",
       "      <th>Genre</th>\n",
       "      <th>Description</th>\n",
       "      <th>No of Seasons</th>\n",
       "      <th>Streaming Platform</th>\n",
       "    </tr>\n",
       "  </thead>\n",
       "  <tbody>\n",
       "    <tr>\n",
       "      <th>0</th>\n",
       "      <td>Breaking Bad</td>\n",
       "      <td>2008</td>\n",
       "      <td>18+</td>\n",
       "      <td>9.5</td>\n",
       "      <td>100.0</td>\n",
       "      <td>Crime,Drama</td>\n",
       "      <td>When Walter White, a New Mexico chemistry teac...</td>\n",
       "      <td>5Seasons</td>\n",
       "      <td>Netflix</td>\n",
       "    </tr>\n",
       "    <tr>\n",
       "      <th>1</th>\n",
       "      <td>Game of Thrones</td>\n",
       "      <td>2011</td>\n",
       "      <td>18+</td>\n",
       "      <td>9.3</td>\n",
       "      <td>99.0</td>\n",
       "      <td>Action &amp; Adventure,Drama</td>\n",
       "      <td>Seven noble families fight for control of the ...</td>\n",
       "      <td>8Seasons</td>\n",
       "      <td>HBO MAX,HBO</td>\n",
       "    </tr>\n",
       "    <tr>\n",
       "      <th>2</th>\n",
       "      <td>Rick and Morty</td>\n",
       "      <td>2013</td>\n",
       "      <td>18+</td>\n",
       "      <td>9.2</td>\n",
       "      <td>97.0</td>\n",
       "      <td>Animation,Comedy</td>\n",
       "      <td>Rick is a mentally-unbalanced but scientifical...</td>\n",
       "      <td>4Seasons</td>\n",
       "      <td>Free Services,HBO MAX,Hulu</td>\n",
       "    </tr>\n",
       "    <tr>\n",
       "      <th>3</th>\n",
       "      <td>Stranger Things</td>\n",
       "      <td>2016</td>\n",
       "      <td>16+</td>\n",
       "      <td>8.8</td>\n",
       "      <td>96.0</td>\n",
       "      <td>Drama,Fantasy</td>\n",
       "      <td>When a young boy vanishes, a small town uncove...</td>\n",
       "      <td>3Seasons</td>\n",
       "      <td>Netflix</td>\n",
       "    </tr>\n",
       "    <tr>\n",
       "      <th>4</th>\n",
       "      <td>The Boys</td>\n",
       "      <td>2019</td>\n",
       "      <td>18+</td>\n",
       "      <td>8.7</td>\n",
       "      <td>95.0</td>\n",
       "      <td>Action &amp; Adventure,Comedy</td>\n",
       "      <td>A group of vigilantes known informally as “The...</td>\n",
       "      <td>2Seasons</td>\n",
       "      <td>Prime Video</td>\n",
       "    </tr>\n",
       "  </tbody>\n",
       "</table>\n",
       "</div>"
      ],
      "text/plain": [
       "      Series Title  Year Released Content Rating  IMDB Rating  R Rating  \\\n",
       "0     Breaking Bad           2008            18+          9.5     100.0   \n",
       "1  Game of Thrones           2011            18+          9.3      99.0   \n",
       "2   Rick and Morty           2013            18+          9.2      97.0   \n",
       "3  Stranger Things           2016            16+          8.8      96.0   \n",
       "4         The Boys           2019            18+          8.7      95.0   \n",
       "\n",
       "                       Genre  \\\n",
       "0                Crime,Drama   \n",
       "1   Action & Adventure,Drama   \n",
       "2           Animation,Comedy   \n",
       "3              Drama,Fantasy   \n",
       "4  Action & Adventure,Comedy   \n",
       "\n",
       "                                         Description No of Seasons  \\\n",
       "0  When Walter White, a New Mexico chemistry teac...      5Seasons   \n",
       "1  Seven noble families fight for control of the ...      8Seasons   \n",
       "2  Rick is a mentally-unbalanced but scientifical...      4Seasons   \n",
       "3  When a young boy vanishes, a small town uncove...      3Seasons   \n",
       "4  A group of vigilantes known informally as “The...      2Seasons   \n",
       "\n",
       "           Streaming Platform  \n",
       "0                     Netflix  \n",
       "1                 HBO MAX,HBO  \n",
       "2  Free Services,HBO MAX,Hulu  \n",
       "3                     Netflix  \n",
       "4                 Prime Video  "
      ]
     },
     "execution_count": 19,
     "metadata": {},
     "output_type": "execute_result"
    }
   ],
   "source": [
    "shows.head()"
   ]
  },
  {
   "cell_type": "code",
   "execution_count": 20,
   "metadata": {},
   "outputs": [
    {
     "name": "stdout",
     "output_type": "stream",
     "text": [
      "<class 'pandas.core.frame.DataFrame'>\n",
      "Int64Index: 10207 entries, 0 to 12071\n",
      "Data columns (total 9 columns):\n",
      "Series Title          10207 non-null object\n",
      "Year Released         10207 non-null int64\n",
      "Content Rating        10207 non-null object\n",
      "IMDB Rating           10207 non-null float64\n",
      "R Rating              10207 non-null float64\n",
      "Genre                 10207 non-null object\n",
      "Description           10207 non-null object\n",
      "No of Seasons         10207 non-null object\n",
      "Streaming Platform    10207 non-null object\n",
      "dtypes: float64(2), int64(1), object(6)\n",
      "memory usage: 797.4+ KB\n"
     ]
    }
   ],
   "source": [
    "shows.info()"
   ]
  },
  {
   "cell_type": "markdown",
   "metadata": {},
   "source": [
    "### Extracting numbers of seasons from the column "
   ]
  },
  {
   "cell_type": "code",
   "execution_count": 21,
   "metadata": {},
   "outputs": [
    {
     "data": {
      "text/plain": [
       "array(['5Seasons', '8Seasons', '4Seasons', '3Seasons', '2Seasons',\n",
       "       '1Season', '10Seasons', '9Seasons', '15 Seasons', '1 Season',\n",
       "       '5 Seasons', '31 Seasons', '6Seasons', '6 Seasons', '7 Seasons',\n",
       "       '23 Seasons', '7Seasons', '10 Seasons', '12Seasons', '11 Seasons',\n",
       "       '14Seasons', '3 Seasons', '4 Seasons', '16 Seasons', '11Seasons',\n",
       "       '2 Seasons', '9 Seasons', '8 Seasons', '24 Seasons', '19 Seasons',\n",
       "       '18 Seasons', '17 Seasons', '12 Seasons', '21 Seasons',\n",
       "       '16Seasons', '28 Seasons', '13Seasons', '29 Seasons', '45 Seasons',\n",
       "       '21Seasons', '27 Seasons', '25 Seasons', '40 Seasons', '20Seasons',\n",
       "       '14 Seasons', '51 Seasons', '13 Seasons', '15Seasons',\n",
       "       '20 Seasons', '24Seasons', '62 Seasons', '35 Seasons',\n",
       "       '44 Seasons', '18Seasons', '17Seasons', '75 Seasons', '54 Seasons',\n",
       "       '27Seasons', '22 Seasons', '32Seasons', '187 Seasons', '31Seasons',\n",
       "       '36 Seasons', '26 Seasons', '32 Seasons', '52 Seasons',\n",
       "       '34 Seasons', '37 Seasons', '77 Seasons', '41 Seasons',\n",
       "       '42 Seasons', '60 Seasons', '33 Seasons', '160 Seasons',\n",
       "       '38Seasons', '22Seasons', '84Seasons', '23Seasons', '25Seasons',\n",
       "       '64Seasons', '39Seasons', '19Seasons', '42Seasons', '33Seasons',\n",
       "       '40Seasons', '43 Seasons', '48 Seasons', 'unknown', '29Seasons',\n",
       "       '71 Seasons', '82 Seasons', '45Seasons'], dtype=object)"
      ]
     },
     "execution_count": 21,
     "metadata": {},
     "output_type": "execute_result"
    }
   ],
   "source": [
    "shows['No of Seasons'].unique()"
   ]
  },
  {
   "cell_type": "code",
   "execution_count": 22,
   "metadata": {},
   "outputs": [
    {
     "data": {
      "text/plain": [
       "0    5\n",
       "1    8\n",
       "2    4\n",
       "3    3\n",
       "4    2\n",
       "Name: No of Seasons, dtype: object"
      ]
     },
     "execution_count": 22,
     "metadata": {},
     "output_type": "execute_result"
    }
   ],
   "source": [
    "shows['No of Seasons'] = shows['No of Seasons'].str.extract('(\\d+)')\n",
    "shows['No of Seasons'].head()"
   ]
  },
  {
   "cell_type": "code",
   "execution_count": 23,
   "metadata": {},
   "outputs": [
    {
     "data": {
      "text/plain": [
       "array(['5', '8', '4', '3', '2', '1', '10', '9', '15', '31', '6', '7',\n",
       "       '23', '12', '11', '14', '16', '24', '19', '18', '17', '21', '28',\n",
       "       '13', '29', '45', '27', '25', '40', '20', '51', '62', '35', '44',\n",
       "       '75', '54', '22', '32', '187', '36', '26', '52', '34', '37', '77',\n",
       "       '41', '42', '60', '33', '160', '38', '84', '64', '39', '43', '48',\n",
       "       nan, '71', '82'], dtype=object)"
      ]
     },
     "execution_count": 23,
     "metadata": {},
     "output_type": "execute_result"
    }
   ],
   "source": [
    "shows['No of Seasons'].unique()"
   ]
  },
  {
   "cell_type": "code",
   "execution_count": 24,
   "metadata": {},
   "outputs": [],
   "source": [
    "shows['No of Seasons'] = shows['No of Seasons'].replace(np.nan, 'unknown')"
   ]
  },
  {
   "cell_type": "code",
   "execution_count": 25,
   "metadata": {},
   "outputs": [
    {
     "data": {
      "text/plain": [
       "array(['5', '8', '4', '3', '2', '1', '10', '9', '15', '31', '6', '7',\n",
       "       '23', '12', '11', '14', '16', '24', '19', '18', '17', '21', '28',\n",
       "       '13', '29', '45', '27', '25', '40', '20', '51', '62', '35', '44',\n",
       "       '75', '54', '22', '32', '187', '36', '26', '52', '34', '37', '77',\n",
       "       '41', '42', '60', '33', '160', '38', '84', '64', '39', '43', '48',\n",
       "       'unknown', '71', '82'], dtype=object)"
      ]
     },
     "execution_count": 25,
     "metadata": {},
     "output_type": "execute_result"
    }
   ],
   "source": [
    "shows['No of Seasons'].unique()"
   ]
  },
  {
   "cell_type": "code",
   "execution_count": 26,
   "metadata": {},
   "outputs": [
    {
     "data": {
      "text/plain": [
       "array(['18+', '16+', '7+', 'all', 'unknown', '13+'], dtype=object)"
      ]
     },
     "execution_count": 26,
     "metadata": {},
     "output_type": "execute_result"
    }
   ],
   "source": [
    "shows['Content Rating'].unique()"
   ]
  },
  {
   "cell_type": "code",
   "execution_count": 27,
   "metadata": {},
   "outputs": [
    {
     "data": {
      "text/plain": [
       "array([100.,  99.,  97.,  96.,  95.,  94.,  93.,  92.,  91.,  90.,  89.,\n",
       "        88.,  87.,  86.,  85.,  84.,  83.,  82.,  81.,  80.,  79.,  78.,\n",
       "        77.,  76.,  75.,  74.,  73.,  72.,  71.,  70.,  69.,  68.,  67.,\n",
       "        66.,  65.,  64.,  63.,  62.,  61.,  60.,  59.,  58.,  57.,  56.,\n",
       "        55.,  54.,  53.,  52.,  51.,  50.,  49.,  48.,  47.,  46.,  45.,\n",
       "        44.,  43.,  42.,  41.,  40.,  39.,  38.,  37.,  36.,  35.,  34.,\n",
       "        33.,  32.,  31.,  30.,  29.,  28.,  27.,  26.,  25.,  24.,  23.,\n",
       "        22.,  21.,  20.,  19.,  18.,  17.,  13.,   0.])"
      ]
     },
     "execution_count": 27,
     "metadata": {},
     "output_type": "execute_result"
    }
   ],
   "source": [
    "shows['R Rating'].unique()"
   ]
  },
  {
   "cell_type": "code",
   "execution_count": 28,
   "metadata": {},
   "outputs": [],
   "source": [
    "shows = shows.rename(columns={\"Series Title\":\"Series_Title\", \"R Rating\": \"Rotten_Tomatoes\", \"Year Released\": \"Released Year\", \"IMDB Rating\": \"IMDB_Rating\", \"No of Seasons\": \"No. of Seasons\"})"
   ]
  },
  {
   "cell_type": "code",
   "execution_count": 29,
   "metadata": {},
   "outputs": [
    {
     "data": {
      "text/html": [
       "<div>\n",
       "<style scoped>\n",
       "    .dataframe tbody tr th:only-of-type {\n",
       "        vertical-align: middle;\n",
       "    }\n",
       "\n",
       "    .dataframe tbody tr th {\n",
       "        vertical-align: top;\n",
       "    }\n",
       "\n",
       "    .dataframe thead th {\n",
       "        text-align: right;\n",
       "    }\n",
       "</style>\n",
       "<table border=\"1\" class=\"dataframe\">\n",
       "  <thead>\n",
       "    <tr style=\"text-align: right;\">\n",
       "      <th></th>\n",
       "      <th>Series_Title</th>\n",
       "      <th>Released Year</th>\n",
       "      <th>Content Rating</th>\n",
       "      <th>IMDB_Rating</th>\n",
       "      <th>Rotten_Tomatoes</th>\n",
       "      <th>Genre</th>\n",
       "      <th>Description</th>\n",
       "      <th>No. of Seasons</th>\n",
       "      <th>Streaming Platform</th>\n",
       "    </tr>\n",
       "  </thead>\n",
       "  <tbody>\n",
       "    <tr>\n",
       "      <th>0</th>\n",
       "      <td>Breaking Bad</td>\n",
       "      <td>2008</td>\n",
       "      <td>18+</td>\n",
       "      <td>9.5</td>\n",
       "      <td>100.0</td>\n",
       "      <td>Crime,Drama</td>\n",
       "      <td>When Walter White, a New Mexico chemistry teac...</td>\n",
       "      <td>5</td>\n",
       "      <td>Netflix</td>\n",
       "    </tr>\n",
       "    <tr>\n",
       "      <th>1</th>\n",
       "      <td>Game of Thrones</td>\n",
       "      <td>2011</td>\n",
       "      <td>18+</td>\n",
       "      <td>9.3</td>\n",
       "      <td>99.0</td>\n",
       "      <td>Action &amp; Adventure,Drama</td>\n",
       "      <td>Seven noble families fight for control of the ...</td>\n",
       "      <td>8</td>\n",
       "      <td>HBO MAX,HBO</td>\n",
       "    </tr>\n",
       "    <tr>\n",
       "      <th>2</th>\n",
       "      <td>Rick and Morty</td>\n",
       "      <td>2013</td>\n",
       "      <td>18+</td>\n",
       "      <td>9.2</td>\n",
       "      <td>97.0</td>\n",
       "      <td>Animation,Comedy</td>\n",
       "      <td>Rick is a mentally-unbalanced but scientifical...</td>\n",
       "      <td>4</td>\n",
       "      <td>Free Services,HBO MAX,Hulu</td>\n",
       "    </tr>\n",
       "    <tr>\n",
       "      <th>3</th>\n",
       "      <td>Stranger Things</td>\n",
       "      <td>2016</td>\n",
       "      <td>16+</td>\n",
       "      <td>8.8</td>\n",
       "      <td>96.0</td>\n",
       "      <td>Drama,Fantasy</td>\n",
       "      <td>When a young boy vanishes, a small town uncove...</td>\n",
       "      <td>3</td>\n",
       "      <td>Netflix</td>\n",
       "    </tr>\n",
       "    <tr>\n",
       "      <th>4</th>\n",
       "      <td>The Boys</td>\n",
       "      <td>2019</td>\n",
       "      <td>18+</td>\n",
       "      <td>8.7</td>\n",
       "      <td>95.0</td>\n",
       "      <td>Action &amp; Adventure,Comedy</td>\n",
       "      <td>A group of vigilantes known informally as “The...</td>\n",
       "      <td>2</td>\n",
       "      <td>Prime Video</td>\n",
       "    </tr>\n",
       "  </tbody>\n",
       "</table>\n",
       "</div>"
      ],
      "text/plain": [
       "      Series_Title  Released Year Content Rating  IMDB_Rating  \\\n",
       "0     Breaking Bad           2008            18+          9.5   \n",
       "1  Game of Thrones           2011            18+          9.3   \n",
       "2   Rick and Morty           2013            18+          9.2   \n",
       "3  Stranger Things           2016            16+          8.8   \n",
       "4         The Boys           2019            18+          8.7   \n",
       "\n",
       "   Rotten_Tomatoes                      Genre  \\\n",
       "0            100.0                Crime,Drama   \n",
       "1             99.0   Action & Adventure,Drama   \n",
       "2             97.0           Animation,Comedy   \n",
       "3             96.0              Drama,Fantasy   \n",
       "4             95.0  Action & Adventure,Comedy   \n",
       "\n",
       "                                         Description No. of Seasons  \\\n",
       "0  When Walter White, a New Mexico chemistry teac...              5   \n",
       "1  Seven noble families fight for control of the ...              8   \n",
       "2  Rick is a mentally-unbalanced but scientifical...              4   \n",
       "3  When a young boy vanishes, a small town uncove...              3   \n",
       "4  A group of vigilantes known informally as “The...              2   \n",
       "\n",
       "           Streaming Platform  \n",
       "0                     Netflix  \n",
       "1                 HBO MAX,HBO  \n",
       "2  Free Services,HBO MAX,Hulu  \n",
       "3                     Netflix  \n",
       "4                 Prime Video  "
      ]
     },
     "execution_count": 29,
     "metadata": {},
     "output_type": "execute_result"
    }
   ],
   "source": [
    "shows.head()"
   ]
  },
  {
   "cell_type": "code",
   "execution_count": 30,
   "metadata": {},
   "outputs": [
    {
     "name": "stdout",
     "output_type": "stream",
     "text": [
      "<class 'pandas.core.frame.DataFrame'>\n",
      "Int64Index: 10207 entries, 0 to 12071\n",
      "Data columns (total 9 columns):\n",
      "Series_Title          10207 non-null object\n",
      "Released Year         10207 non-null int64\n",
      "Content Rating        10207 non-null object\n",
      "IMDB_Rating           10207 non-null float64\n",
      "Rotten_Tomatoes       10207 non-null float64\n",
      "Genre                 10207 non-null object\n",
      "Description           10207 non-null object\n",
      "No. of Seasons        10207 non-null object\n",
      "Streaming Platform    10207 non-null object\n",
      "dtypes: float64(2), int64(1), object(6)\n",
      "memory usage: 797.4+ KB\n"
     ]
    }
   ],
   "source": [
    "shows.info()"
   ]
  },
  {
   "cell_type": "code",
   "execution_count": 31,
   "metadata": {},
   "outputs": [
    {
     "name": "stdout",
     "output_type": "stream",
     "text": [
      "0.0\n",
      "100.0\n",
      "50.8235524639953\n"
     ]
    }
   ],
   "source": [
    "print(shows['Rotten_Tomatoes'].min())\n",
    "print(shows['Rotten_Tomatoes'].max())\n",
    "print(shows['Rotten_Tomatoes'].mean())"
   ]
  },
  {
   "cell_type": "code",
   "execution_count": 32,
   "metadata": {},
   "outputs": [
    {
     "data": {
      "text/plain": [
       "48.0     283\n",
       "45.0     270\n",
       "44.0     270\n",
       "46.0     270\n",
       "47.0     270\n",
       "49.0     267\n",
       "53.0     265\n",
       "50.0     262\n",
       "55.0     261\n",
       "52.0     256\n",
       "42.0     253\n",
       "51.0     247\n",
       "54.0     240\n",
       "56.0     234\n",
       "57.0     230\n",
       "43.0     227\n",
       "40.0     224\n",
       "41.0     217\n",
       "58.0     214\n",
       "59.0     214\n",
       "39.0     213\n",
       "60.0     204\n",
       "63.0     202\n",
       "36.0     198\n",
       "61.0     198\n",
       "38.0     195\n",
       "37.0     190\n",
       "34.0     181\n",
       "62.0     179\n",
       "66.0     178\n",
       "        ... \n",
       "80.0      54\n",
       "79.0      53\n",
       "77.0      51\n",
       "22.0      47\n",
       "81.0      44\n",
       "82.0      38\n",
       "84.0      37\n",
       "21.0      33\n",
       "83.0      33\n",
       "85.0      24\n",
       "86.0      23\n",
       "20.0      21\n",
       "90.0      17\n",
       "88.0      16\n",
       "87.0      16\n",
       "91.0      15\n",
       "89.0      12\n",
       "92.0       9\n",
       "94.0       4\n",
       "95.0       3\n",
       "93.0       3\n",
       "19.0       3\n",
       "0.0        2\n",
       "18.0       1\n",
       "99.0       1\n",
       "13.0       1\n",
       "97.0       1\n",
       "17.0       1\n",
       "96.0       1\n",
       "100.0      1\n",
       "Name: Rotten_Tomatoes, Length: 85, dtype: int64"
      ]
     },
     "execution_count": 32,
     "metadata": {},
     "output_type": "execute_result"
    }
   ],
   "source": [
    "shows['Rotten_Tomatoes'].value_counts()"
   ]
  },
  {
   "cell_type": "code",
   "execution_count": 33,
   "metadata": {},
   "outputs": [
    {
     "name": "stdout",
     "output_type": "stream",
     "text": [
      "AxesSubplot(0.125,0.125;0.775x0.755)\n"
     ]
    },
    {
     "data": {
      "image/png": "[encoded data removed]",
      "text/plain": [
       "<Figure size 432x288 with 1 Axes>"
      ]
     },
     "metadata": {
      "needs_background": "light"
     },
     "output_type": "display_data"
    }
   ],
   "source": [
    "import matplotlib as plt\n",
    "import seaborn as sns\n",
    "%matplotlib inline \n",
    "x = shows['Rotten_Tomatoes']\n",
    "print(sns.distplot(x))"
   ]
  },
  {
   "cell_type": "code",
   "execution_count": 34,
   "metadata": {},
   "outputs": [
    {
     "name": "stdout",
     "output_type": "stream",
     "text": [
      "AxesSubplot(0.125,0.125;0.775x0.755)\n"
     ]
    },
    {
     "data": {
      "image/png": "[encoded data removed]",
      "text/plain": [
       "<Figure size 432x288 with 1 Axes>"
      ]
     },
     "metadata": {
      "needs_background": "light"
     },
     "output_type": "display_data"
    }
   ],
   "source": [
    "y = shows['IMDB_Rating']\n",
    "print(sns.distplot(y))"
   ]
  },
  {
   "cell_type": "code",
   "execution_count": 35,
   "metadata": {},
   "outputs": [
    {
     "name": "stdout",
     "output_type": "stream",
     "text": [
      "1.0\n",
      "9.7\n",
      "6.973155677476236\n"
     ]
    }
   ],
   "source": [
    "print(shows['IMDB_Rating'].min())\n",
    "print(shows['IMDB_Rating'].max())\n",
    "print(shows['IMDB_Rating'].mean())"
   ]
  },
  {
   "cell_type": "code",
   "execution_count": 36,
   "metadata": {},
   "outputs": [
    {
     "data": {
      "text/html": [
       "<div>\n",
       "<style scoped>\n",
       "    .dataframe tbody tr th:only-of-type {\n",
       "        vertical-align: middle;\n",
       "    }\n",
       "\n",
       "    .dataframe tbody tr th {\n",
       "        vertical-align: top;\n",
       "    }\n",
       "\n",
       "    .dataframe thead th {\n",
       "        text-align: right;\n",
       "    }\n",
       "</style>\n",
       "<table border=\"1\" class=\"dataframe\">\n",
       "  <thead>\n",
       "    <tr style=\"text-align: right;\">\n",
       "      <th></th>\n",
       "      <th>Series_Title</th>\n",
       "      <th>Released Year</th>\n",
       "      <th>Content Rating</th>\n",
       "      <th>IMDB_Rating</th>\n",
       "      <th>Rotten_Tomatoes</th>\n",
       "      <th>Genre</th>\n",
       "      <th>Description</th>\n",
       "      <th>No. of Seasons</th>\n",
       "      <th>Streaming Platform</th>\n",
       "    </tr>\n",
       "  </thead>\n",
       "  <tbody>\n",
       "    <tr>\n",
       "      <th>12068</th>\n",
       "      <td>Battles BC</td>\n",
       "      <td>2009</td>\n",
       "      <td>7+</td>\n",
       "      <td>7.7</td>\n",
       "      <td>0.0</td>\n",
       "      <td>Documentary,Action &amp; Adventure</td>\n",
       "      <td>Battles BC is a 2009 documentary series lookin...</td>\n",
       "      <td>1</td>\n",
       "      <td>unknown</td>\n",
       "    </tr>\n",
       "    <tr>\n",
       "      <th>12071</th>\n",
       "      <td>Lost Worlds</td>\n",
       "      <td>2006</td>\n",
       "      <td>all</td>\n",
       "      <td>7.5</td>\n",
       "      <td>0.0</td>\n",
       "      <td>Documentary,History</td>\n",
       "      <td>Lost Worlds is a documentary television series...</td>\n",
       "      <td>2</td>\n",
       "      <td>unknown</td>\n",
       "    </tr>\n",
       "  </tbody>\n",
       "</table>\n",
       "</div>"
      ],
      "text/plain": [
       "      Series_Title  Released Year Content Rating  IMDB_Rating  \\\n",
       "12068   Battles BC           2009             7+          7.7   \n",
       "12071  Lost Worlds           2006            all          7.5   \n",
       "\n",
       "       Rotten_Tomatoes                           Genre  \\\n",
       "12068              0.0  Documentary,Action & Adventure   \n",
       "12071              0.0             Documentary,History   \n",
       "\n",
       "                                             Description No. of Seasons  \\\n",
       "12068  Battles BC is a 2009 documentary series lookin...              1   \n",
       "12071  Lost Worlds is a documentary television series...              2   \n",
       "\n",
       "      Streaming Platform  \n",
       "12068            unknown  \n",
       "12071            unknown  "
      ]
     },
     "execution_count": 36,
     "metadata": {},
     "output_type": "execute_result"
    }
   ],
   "source": [
    "shows.loc[shows['Rotten_Tomatoes'] == 0.0]"
   ]
  },
  {
   "cell_type": "code",
   "execution_count": 37,
   "metadata": {},
   "outputs": [],
   "source": [
    "shows['Rotten_Tomatoes'] = shows['Rotten_Tomatoes'].astype('int64')"
   ]
  },
  {
   "cell_type": "code",
   "execution_count": 38,
   "metadata": {},
   "outputs": [
    {
     "name": "stdout",
     "output_type": "stream",
     "text": [
      "<class 'pandas.core.frame.DataFrame'>\n",
      "Int64Index: 10207 entries, 0 to 12071\n",
      "Data columns (total 9 columns):\n",
      "Series_Title          10207 non-null object\n",
      "Released Year         10207 non-null int64\n",
      "Content Rating        10207 non-null object\n",
      "IMDB_Rating           10207 non-null float64\n",
      "Rotten_Tomatoes       10207 non-null int64\n",
      "Genre                 10207 non-null object\n",
      "Description           10207 non-null object\n",
      "No. of Seasons        10207 non-null object\n",
      "Streaming Platform    10207 non-null object\n",
      "dtypes: float64(1), int64(2), object(6)\n",
      "memory usage: 797.4+ KB\n"
     ]
    }
   ],
   "source": [
    "shows.info()"
   ]
  },
  {
   "cell_type": "code",
   "execution_count": 39,
   "metadata": {},
   "outputs": [
    {
     "data": {
      "text/plain": [
       "(10207, 9)"
      ]
     },
     "execution_count": 39,
     "metadata": {},
     "output_type": "execute_result"
    }
   ],
   "source": [
    "shows.shape"
   ]
  },
  {
   "cell_type": "code",
   "execution_count": 40,
   "metadata": {},
   "outputs": [],
   "source": [
    "v = shows['Rotten_Tomatoes']\n",
    "R = shows['IMDB_Rating']\n",
    "C = shows['IMDB_Rating'].mean()\n",
    "m = shows['Rotten_Tomatoes'].quantile(0.70)"
   ]
  },
  {
   "cell_type": "code",
   "execution_count": 41,
   "metadata": {},
   "outputs": [],
   "source": [
    "shows['weighted_average'] = ((R*v) + (C*m))/(v+m)"
   ]
  },
  {
   "cell_type": "code",
   "execution_count": 42,
   "metadata": {},
   "outputs": [
    {
     "data": {
      "text/html": [
       "<div>\n",
       "<style scoped>\n",
       "    .dataframe tbody tr th:only-of-type {\n",
       "        vertical-align: middle;\n",
       "    }\n",
       "\n",
       "    .dataframe tbody tr th {\n",
       "        vertical-align: top;\n",
       "    }\n",
       "\n",
       "    .dataframe thead th {\n",
       "        text-align: right;\n",
       "    }\n",
       "</style>\n",
       "<table border=\"1\" class=\"dataframe\">\n",
       "  <thead>\n",
       "    <tr style=\"text-align: right;\">\n",
       "      <th></th>\n",
       "      <th>Series_Title</th>\n",
       "      <th>Released Year</th>\n",
       "      <th>Content Rating</th>\n",
       "      <th>IMDB_Rating</th>\n",
       "      <th>Rotten_Tomatoes</th>\n",
       "      <th>Genre</th>\n",
       "      <th>Description</th>\n",
       "      <th>No. of Seasons</th>\n",
       "      <th>Streaming Platform</th>\n",
       "      <th>weighted_average</th>\n",
       "    </tr>\n",
       "  </thead>\n",
       "  <tbody>\n",
       "    <tr>\n",
       "      <th>0</th>\n",
       "      <td>Breaking Bad</td>\n",
       "      <td>2008</td>\n",
       "      <td>18+</td>\n",
       "      <td>9.5</td>\n",
       "      <td>100</td>\n",
       "      <td>Crime,Drama</td>\n",
       "      <td>When Walter White, a New Mexico chemistry teac...</td>\n",
       "      <td>5</td>\n",
       "      <td>Netflix</td>\n",
       "      <td>8.572424</td>\n",
       "    </tr>\n",
       "    <tr>\n",
       "      <th>1</th>\n",
       "      <td>Game of Thrones</td>\n",
       "      <td>2011</td>\n",
       "      <td>18+</td>\n",
       "      <td>9.3</td>\n",
       "      <td>99</td>\n",
       "      <td>Action &amp; Adventure,Drama</td>\n",
       "      <td>Seven noble families fight for control of the ...</td>\n",
       "      <td>8</td>\n",
       "      <td>HBO MAX,HBO</td>\n",
       "      <td>8.440401</td>\n",
       "    </tr>\n",
       "    <tr>\n",
       "      <th>2</th>\n",
       "      <td>Rick and Morty</td>\n",
       "      <td>2013</td>\n",
       "      <td>18+</td>\n",
       "      <td>9.2</td>\n",
       "      <td>97</td>\n",
       "      <td>Animation,Comedy</td>\n",
       "      <td>Rick is a mentally-unbalanced but scientifical...</td>\n",
       "      <td>4</td>\n",
       "      <td>Free Services,HBO MAX,Hulu</td>\n",
       "      <td>8.366729</td>\n",
       "    </tr>\n",
       "    <tr>\n",
       "      <th>3</th>\n",
       "      <td>Stranger Things</td>\n",
       "      <td>2016</td>\n",
       "      <td>16+</td>\n",
       "      <td>8.8</td>\n",
       "      <td>96</td>\n",
       "      <td>Drama,Fantasy</td>\n",
       "      <td>When a young boy vanishes, a small town uncove...</td>\n",
       "      <td>3</td>\n",
       "      <td>Netflix</td>\n",
       "      <td>8.111968</td>\n",
       "    </tr>\n",
       "    <tr>\n",
       "      <th>4</th>\n",
       "      <td>The Boys</td>\n",
       "      <td>2019</td>\n",
       "      <td>18+</td>\n",
       "      <td>8.7</td>\n",
       "      <td>95</td>\n",
       "      <td>Action &amp; Adventure,Comedy</td>\n",
       "      <td>A group of vigilantes known informally as “The...</td>\n",
       "      <td>2</td>\n",
       "      <td>Prime Video</td>\n",
       "      <td>8.045379</td>\n",
       "    </tr>\n",
       "  </tbody>\n",
       "</table>\n",
       "</div>"
      ],
      "text/plain": [
       "      Series_Title  Released Year Content Rating  IMDB_Rating  \\\n",
       "0     Breaking Bad           2008            18+          9.5   \n",
       "1  Game of Thrones           2011            18+          9.3   \n",
       "2   Rick and Morty           2013            18+          9.2   \n",
       "3  Stranger Things           2016            16+          8.8   \n",
       "4         The Boys           2019            18+          8.7   \n",
       "\n",
       "   Rotten_Tomatoes                      Genre  \\\n",
       "0              100                Crime,Drama   \n",
       "1               99   Action & Adventure,Drama   \n",
       "2               97           Animation,Comedy   \n",
       "3               96              Drama,Fantasy   \n",
       "4               95  Action & Adventure,Comedy   \n",
       "\n",
       "                                         Description No. of Seasons  \\\n",
       "0  When Walter White, a New Mexico chemistry teac...              5   \n",
       "1  Seven noble families fight for control of the ...              8   \n",
       "2  Rick is a mentally-unbalanced but scientifical...              4   \n",
       "3  When a young boy vanishes, a small town uncove...              3   \n",
       "4  A group of vigilantes known informally as “The...              2   \n",
       "\n",
       "           Streaming Platform  weighted_average  \n",
       "0                     Netflix          8.572424  \n",
       "1                 HBO MAX,HBO          8.440401  \n",
       "2  Free Services,HBO MAX,Hulu          8.366729  \n",
       "3                     Netflix          8.111968  \n",
       "4                 Prime Video          8.045379  "
      ]
     },
     "execution_count": 42,
     "metadata": {},
     "output_type": "execute_result"
    }
   ],
   "source": [
    "shows.head()"
   ]
  },
  {
   "cell_type": "code",
   "execution_count": 43,
   "metadata": {},
   "outputs": [
    {
     "data": {
      "text/html": [
       "<div>\n",
       "<style scoped>\n",
       "    .dataframe tbody tr th:only-of-type {\n",
       "        vertical-align: middle;\n",
       "    }\n",
       "\n",
       "    .dataframe tbody tr th {\n",
       "        vertical-align: top;\n",
       "    }\n",
       "\n",
       "    .dataframe thead th {\n",
       "        text-align: right;\n",
       "    }\n",
       "</style>\n",
       "<table border=\"1\" class=\"dataframe\">\n",
       "  <thead>\n",
       "    <tr style=\"text-align: right;\">\n",
       "      <th></th>\n",
       "      <th>Series_Title</th>\n",
       "      <th>Released Year</th>\n",
       "      <th>Content Rating</th>\n",
       "      <th>IMDB_Rating</th>\n",
       "      <th>Rotten_Tomatoes</th>\n",
       "      <th>Genre</th>\n",
       "      <th>Description</th>\n",
       "      <th>No. of Seasons</th>\n",
       "      <th>Streaming Platform</th>\n",
       "      <th>weighted_average</th>\n",
       "    </tr>\n",
       "  </thead>\n",
       "  <tbody>\n",
       "    <tr>\n",
       "      <th>0</th>\n",
       "      <td>Breaking Bad</td>\n",
       "      <td>2008</td>\n",
       "      <td>18+</td>\n",
       "      <td>9.5</td>\n",
       "      <td>100</td>\n",
       "      <td>Crime,Drama</td>\n",
       "      <td>When Walter White, a New Mexico chemistry teac...</td>\n",
       "      <td>5</td>\n",
       "      <td>Netflix</td>\n",
       "      <td>8.572424</td>\n",
       "    </tr>\n",
       "    <tr>\n",
       "      <th>120</th>\n",
       "      <td>Planet Earth II</td>\n",
       "      <td>2016</td>\n",
       "      <td>all</td>\n",
       "      <td>9.5</td>\n",
       "      <td>86</td>\n",
       "      <td>Documentary,2016</td>\n",
       "      <td>David Attenborough presents a documentary seri...</td>\n",
       "      <td>1</td>\n",
       "      <td>BBC America</td>\n",
       "      <td>8.482243</td>\n",
       "    </tr>\n",
       "    <tr>\n",
       "      <th>6</th>\n",
       "      <td>Chernobyl</td>\n",
       "      <td>2019</td>\n",
       "      <td>18+</td>\n",
       "      <td>9.4</td>\n",
       "      <td>95</td>\n",
       "      <td>Drama,History</td>\n",
       "      <td>The true story of one of the worst man-made ca...</td>\n",
       "      <td>1</td>\n",
       "      <td>HBO MAX,HBO</td>\n",
       "      <td>8.480020</td>\n",
       "    </tr>\n",
       "    <tr>\n",
       "      <th>17</th>\n",
       "      <td>Band of Brothers</td>\n",
       "      <td>2001</td>\n",
       "      <td>18+</td>\n",
       "      <td>9.4</td>\n",
       "      <td>92</td>\n",
       "      <td>Action &amp; Adventure,Drama</td>\n",
       "      <td>Drawn from interviews with survivors of Easy C...</td>\n",
       "      <td>1</td>\n",
       "      <td>HBO MAX,HBO</td>\n",
       "      <td>8.461620</td>\n",
       "    </tr>\n",
       "    <tr>\n",
       "      <th>1</th>\n",
       "      <td>Game of Thrones</td>\n",
       "      <td>2011</td>\n",
       "      <td>18+</td>\n",
       "      <td>9.3</td>\n",
       "      <td>99</td>\n",
       "      <td>Action &amp; Adventure,Drama</td>\n",
       "      <td>Seven noble families fight for control of the ...</td>\n",
       "      <td>8</td>\n",
       "      <td>HBO MAX,HBO</td>\n",
       "      <td>8.440401</td>\n",
       "    </tr>\n",
       "  </tbody>\n",
       "</table>\n",
       "</div>"
      ],
      "text/plain": [
       "         Series_Title  Released Year Content Rating  IMDB_Rating  \\\n",
       "0        Breaking Bad           2008            18+          9.5   \n",
       "120   Planet Earth II           2016            all          9.5   \n",
       "6           Chernobyl           2019            18+          9.4   \n",
       "17   Band of Brothers           2001            18+          9.4   \n",
       "1     Game of Thrones           2011            18+          9.3   \n",
       "\n",
       "     Rotten_Tomatoes                     Genre  \\\n",
       "0                100               Crime,Drama   \n",
       "120               86          Documentary,2016   \n",
       "6                 95             Drama,History   \n",
       "17                92  Action & Adventure,Drama   \n",
       "1                 99  Action & Adventure,Drama   \n",
       "\n",
       "                                           Description No. of Seasons  \\\n",
       "0    When Walter White, a New Mexico chemistry teac...              5   \n",
       "120  David Attenborough presents a documentary seri...              1   \n",
       "6    The true story of one of the worst man-made ca...              1   \n",
       "17   Drawn from interviews with survivors of Easy C...              1   \n",
       "1    Seven noble families fight for control of the ...              8   \n",
       "\n",
       "    Streaming Platform  weighted_average  \n",
       "0              Netflix          8.572424  \n",
       "120        BBC America          8.482243  \n",
       "6          HBO MAX,HBO          8.480020  \n",
       "17         HBO MAX,HBO          8.461620  \n",
       "1          HBO MAX,HBO          8.440401  "
      ]
     },
     "execution_count": 43,
     "metadata": {},
     "output_type": "execute_result"
    }
   ],
   "source": [
    "shows_rating = shows.sort_values('weighted_average', ascending = False)\n",
    "shows_rating.head()"
   ]
  },
  {
   "cell_type": "code",
   "execution_count": 44,
   "metadata": {},
   "outputs": [
    {
     "data": {
      "text/html": [
       "<div>\n",
       "<style scoped>\n",
       "    .dataframe tbody tr th:only-of-type {\n",
       "        vertical-align: middle;\n",
       "    }\n",
       "\n",
       "    .dataframe tbody tr th {\n",
       "        vertical-align: top;\n",
       "    }\n",
       "\n",
       "    .dataframe thead th {\n",
       "        text-align: right;\n",
       "    }\n",
       "</style>\n",
       "<table border=\"1\" class=\"dataframe\">\n",
       "  <thead>\n",
       "    <tr style=\"text-align: right;\">\n",
       "      <th></th>\n",
       "      <th>Series_Title</th>\n",
       "      <th>IMDB_Rating</th>\n",
       "      <th>Rotten_Tomatoes</th>\n",
       "      <th>weighted_average</th>\n",
       "    </tr>\n",
       "  </thead>\n",
       "  <tbody>\n",
       "    <tr>\n",
       "      <th>0</th>\n",
       "      <td>Breaking Bad</td>\n",
       "      <td>9.5</td>\n",
       "      <td>100</td>\n",
       "      <td>8.572424</td>\n",
       "    </tr>\n",
       "    <tr>\n",
       "      <th>120</th>\n",
       "      <td>Planet Earth II</td>\n",
       "      <td>9.5</td>\n",
       "      <td>86</td>\n",
       "      <td>8.482243</td>\n",
       "    </tr>\n",
       "    <tr>\n",
       "      <th>6</th>\n",
       "      <td>Chernobyl</td>\n",
       "      <td>9.4</td>\n",
       "      <td>95</td>\n",
       "      <td>8.480020</td>\n",
       "    </tr>\n",
       "    <tr>\n",
       "      <th>17</th>\n",
       "      <td>Band of Brothers</td>\n",
       "      <td>9.4</td>\n",
       "      <td>92</td>\n",
       "      <td>8.461620</td>\n",
       "    </tr>\n",
       "    <tr>\n",
       "      <th>1</th>\n",
       "      <td>Game of Thrones</td>\n",
       "      <td>9.3</td>\n",
       "      <td>99</td>\n",
       "      <td>8.440401</td>\n",
       "    </tr>\n",
       "  </tbody>\n",
       "</table>\n",
       "</div>"
      ],
      "text/plain": [
       "         Series_Title  IMDB_Rating  Rotten_Tomatoes  weighted_average\n",
       "0        Breaking Bad          9.5              100          8.572424\n",
       "120   Planet Earth II          9.5               86          8.482243\n",
       "6           Chernobyl          9.4               95          8.480020\n",
       "17   Band of Brothers          9.4               92          8.461620\n",
       "1     Game of Thrones          9.3               99          8.440401"
      ]
     },
     "execution_count": 44,
     "metadata": {},
     "output_type": "execute_result"
    }
   ],
   "source": [
    "shows_rating[['Series_Title', 'IMDB_Rating', 'Rotten_Tomatoes', 'weighted_average']].head()"
   ]
  },
  {
   "cell_type": "markdown",
   "metadata": {},
   "source": [
    "#### Drawing Graph"
   ]
  },
  {
   "cell_type": "code",
   "execution_count": 45,
   "metadata": {},
   "outputs": [
    {
     "data": {
      "text/html": [
       "<div>\n",
       "<style scoped>\n",
       "    .dataframe tbody tr th:only-of-type {\n",
       "        vertical-align: middle;\n",
       "    }\n",
       "\n",
       "    .dataframe tbody tr th {\n",
       "        vertical-align: top;\n",
       "    }\n",
       "\n",
       "    .dataframe thead th {\n",
       "        text-align: right;\n",
       "    }\n",
       "</style>\n",
       "<table border=\"1\" class=\"dataframe\">\n",
       "  <thead>\n",
       "    <tr style=\"text-align: right;\">\n",
       "      <th></th>\n",
       "      <th>Series_Title</th>\n",
       "      <th>Released Year</th>\n",
       "      <th>Content Rating</th>\n",
       "      <th>IMDB_Rating</th>\n",
       "      <th>Rotten_Tomatoes</th>\n",
       "      <th>Genre</th>\n",
       "      <th>Description</th>\n",
       "      <th>No. of Seasons</th>\n",
       "      <th>Streaming Platform</th>\n",
       "      <th>weighted_average</th>\n",
       "    </tr>\n",
       "  </thead>\n",
       "  <tbody>\n",
       "    <tr>\n",
       "      <th>0</th>\n",
       "      <td>Breaking Bad</td>\n",
       "      <td>2008</td>\n",
       "      <td>18+</td>\n",
       "      <td>9.5</td>\n",
       "      <td>100</td>\n",
       "      <td>Crime,Drama</td>\n",
       "      <td>When Walter White, a New Mexico chemistry teac...</td>\n",
       "      <td>5</td>\n",
       "      <td>Netflix</td>\n",
       "      <td>8.572424</td>\n",
       "    </tr>\n",
       "    <tr>\n",
       "      <th>120</th>\n",
       "      <td>Planet Earth II</td>\n",
       "      <td>2016</td>\n",
       "      <td>all</td>\n",
       "      <td>9.5</td>\n",
       "      <td>86</td>\n",
       "      <td>Documentary,2016</td>\n",
       "      <td>David Attenborough presents a documentary seri...</td>\n",
       "      <td>1</td>\n",
       "      <td>BBC America</td>\n",
       "      <td>8.482243</td>\n",
       "    </tr>\n",
       "    <tr>\n",
       "      <th>6</th>\n",
       "      <td>Chernobyl</td>\n",
       "      <td>2019</td>\n",
       "      <td>18+</td>\n",
       "      <td>9.4</td>\n",
       "      <td>95</td>\n",
       "      <td>Drama,History</td>\n",
       "      <td>The true story of one of the worst man-made ca...</td>\n",
       "      <td>1</td>\n",
       "      <td>HBO MAX,HBO</td>\n",
       "      <td>8.480020</td>\n",
       "    </tr>\n",
       "    <tr>\n",
       "      <th>17</th>\n",
       "      <td>Band of Brothers</td>\n",
       "      <td>2001</td>\n",
       "      <td>18+</td>\n",
       "      <td>9.4</td>\n",
       "      <td>92</td>\n",
       "      <td>Action &amp; Adventure,Drama</td>\n",
       "      <td>Drawn from interviews with survivors of Easy C...</td>\n",
       "      <td>1</td>\n",
       "      <td>HBO MAX,HBO</td>\n",
       "      <td>8.461620</td>\n",
       "    </tr>\n",
       "    <tr>\n",
       "      <th>1</th>\n",
       "      <td>Game of Thrones</td>\n",
       "      <td>2011</td>\n",
       "      <td>18+</td>\n",
       "      <td>9.3</td>\n",
       "      <td>99</td>\n",
       "      <td>Action &amp; Adventure,Drama</td>\n",
       "      <td>Seven noble families fight for control of the ...</td>\n",
       "      <td>8</td>\n",
       "      <td>HBO MAX,HBO</td>\n",
       "      <td>8.440401</td>\n",
       "    </tr>\n",
       "  </tbody>\n",
       "</table>\n",
       "</div>"
      ],
      "text/plain": [
       "         Series_Title  Released Year Content Rating  IMDB_Rating  \\\n",
       "0        Breaking Bad           2008            18+          9.5   \n",
       "120   Planet Earth II           2016            all          9.5   \n",
       "6           Chernobyl           2019            18+          9.4   \n",
       "17   Band of Brothers           2001            18+          9.4   \n",
       "1     Game of Thrones           2011            18+          9.3   \n",
       "\n",
       "     Rotten_Tomatoes                     Genre  \\\n",
       "0                100               Crime,Drama   \n",
       "120               86          Documentary,2016   \n",
       "6                 95             Drama,History   \n",
       "17                92  Action & Adventure,Drama   \n",
       "1                 99  Action & Adventure,Drama   \n",
       "\n",
       "                                           Description No. of Seasons  \\\n",
       "0    When Walter White, a New Mexico chemistry teac...              5   \n",
       "120  David Attenborough presents a documentary seri...              1   \n",
       "6    The true story of one of the worst man-made ca...              1   \n",
       "17   Drawn from interviews with survivors of Easy C...              1   \n",
       "1    Seven noble families fight for control of the ...              8   \n",
       "\n",
       "    Streaming Platform  weighted_average  \n",
       "0              Netflix          8.572424  \n",
       "120        BBC America          8.482243  \n",
       "6          HBO MAX,HBO          8.480020  \n",
       "17         HBO MAX,HBO          8.461620  \n",
       "1          HBO MAX,HBO          8.440401  "
      ]
     },
     "execution_count": 45,
     "metadata": {},
     "output_type": "execute_result"
    }
   ],
   "source": [
    "weight_average = shows_rating.sort_values('weighted_average', ascending = False)\n",
    "weight_average.head()"
   ]
  },
  {
   "cell_type": "code",
   "execution_count": 46,
   "metadata": {},
   "outputs": [
    {
     "data": {
      "image/png": "[encoded data removed]",
      "text/plain": [
       "<Figure size 432x288 with 1 Axes>"
      ]
     },
     "metadata": {
      "needs_background": "light"
     },
     "output_type": "display_data"
    }
   ],
   "source": [
    "import matplotlib.pyplot as plt\n",
    "axis1 = sns.barplot(x = weight_average['weighted_average'].head(10), y = weight_average['Series_Title'].head(10), data = weight_average)\n",
    "\n",
    "plt.xlim(4,10)\n",
    "plt.title('Top 10 Best Series', weight = 'bold')\n",
    "plt.xlabel('Weighted Average Score', weight = 'bold')\n",
    "plt.ylabel('Series Title', weight = 'bold')\n",
    "plt.savefig('bestseries.png')"
   ]
  },
  {
   "cell_type": "code",
   "execution_count": 47,
   "metadata": {},
   "outputs": [
    {
     "data": {
      "image/png": "[encoded data removed]",
      "text/plain": [
       "<Figure size 864x432 with 1 Axes>"
      ]
     },
     "metadata": {
      "needs_background": "light"
     },
     "output_type": "display_data"
    }
   ],
   "source": [
    "rotten_tomatoes_popularity = shows.sort_values('Rotten_Tomatoes', ascending = False)\n",
    "plt.figure(figsize = (12,6))\n",
    "ax = sns.barplot(x = rotten_tomatoes_popularity['Rotten_Tomatoes'].head(10), y = rotten_tomatoes_popularity['Series_Title'].head(10), data = rotten_tomatoes_popularity)\n",
    "\n",
    "plt.title('Top 10 Most popular shows by Rotten Tomatoes Popularity', weight = 'bold')\n",
    "plt.xlabel('Score of popularity', weight = 'bold')\n",
    "plt.ylabel('Series Title', weight = 'bold')\n",
    "plt.savefig('best_popular_series.png')"
   ]
  },
  {
   "cell_type": "code",
   "execution_count": 48,
   "metadata": {},
   "outputs": [
    {
     "data": {
      "image/png": "[encoded data removed]",
      "text/plain": [
       "<Figure size 864x432 with 1 Axes>"
      ]
     },
     "metadata": {
      "needs_background": "light"
     },
     "output_type": "display_data"
    }
   ],
   "source": [
    "imdb_rating_popularity = shows.sort_values('IMDB_Rating', ascending = False)\n",
    "plt.figure(figsize = (12,6))\n",
    "ax = sns.barplot(x = imdb_rating_popularity['IMDB_Rating'].head(10), y = imdb_rating_popularity['Series_Title'].head(10), data = imdb_rating_popularity)\n",
    "\n",
    "plt.title('Top 10 Most popular shows by IMDB Rating Popularity', weight = 'bold')\n",
    "plt.xlabel('Score of popularity_by_imdb', weight = 'bold')\n",
    "plt.ylabel('Series Title', weight = 'bold')\n",
    "plt.savefig('best_popular_series_by_imdb.png')"
   ]
  },
  {
   "cell_type": "markdown",
   "metadata": {},
   "source": [
    "#### Creating Model"
   ]
  },
  {
   "cell_type": "code",
   "execution_count": 49,
   "metadata": {},
   "outputs": [],
   "source": [
    "from sklearn.preprocessing import MinMaxScaler"
   ]
  },
  {
   "cell_type": "code",
   "execution_count": 50,
   "metadata": {},
   "outputs": [
    {
     "data": {
      "text/plain": [
       "0    8.572424\n",
       "1    8.440401\n",
       "2    8.366729\n",
       "3    8.111968\n",
       "4    8.045379\n",
       "Name: weighted_average, dtype: float64"
      ]
     },
     "execution_count": 50,
     "metadata": {},
     "output_type": "execute_result"
    }
   ],
   "source": [
    "shows['weighted_average'].head()"
   ]
  },
  {
   "cell_type": "code",
   "execution_count": 51,
   "metadata": {},
   "outputs": [
    {
     "name": "stdout",
     "output_type": "stream",
     "text": [
      "  weighted_average Rotten_Tomatoes IMDB_Rating\n",
      "0         1.000000            1.00    0.977011\n",
      "1         0.966549            0.99    0.954023\n",
      "2         0.947883            0.97    0.942529\n",
      "3         0.883333            0.96    0.896552\n",
      "4         0.866461            0.95    0.885057\n"
     ]
    }
   ],
   "source": [
    "Scaling = MinMaxScaler()\n",
    "series_scaled = Scaling.fit_transform(shows[['weighted_average', 'Rotten_Tomatoes', 'IMDB_Rating']])\n",
    "\n",
    "series_normalized = pd.DataFrame(series_scaled, columns = [['weighted_average', 'Rotten_Tomatoes', 'IMDB_Rating']])\n",
    "\n",
    "print(series_normalized.head())\n",
    "\n",
    "shows[['normalized_weighted_average', 'normalized_rotten_tomatoes_popularity', 'normalized_imdb_rating_popularity']] = series_normalized"
   ]
  },
  {
   "cell_type": "code",
   "execution_count": 52,
   "metadata": {},
   "outputs": [
    {
     "data": {
      "text/html": [
       "<div>\n",
       "<style scoped>\n",
       "    .dataframe tbody tr th:only-of-type {\n",
       "        vertical-align: middle;\n",
       "    }\n",
       "\n",
       "    .dataframe tbody tr th {\n",
       "        vertical-align: top;\n",
       "    }\n",
       "\n",
       "    .dataframe thead tr th {\n",
       "        text-align: left;\n",
       "    }\n",
       "</style>\n",
       "<table border=\"1\" class=\"dataframe\">\n",
       "  <thead>\n",
       "    <tr>\n",
       "      <th></th>\n",
       "      <th>weighted_average</th>\n",
       "      <th>Rotten_Tomatoes</th>\n",
       "      <th>IMDB_Rating</th>\n",
       "    </tr>\n",
       "  </thead>\n",
       "  <tbody>\n",
       "    <tr>\n",
       "      <th>0</th>\n",
       "      <td>1.000000</td>\n",
       "      <td>1.00</td>\n",
       "      <td>0.977011</td>\n",
       "    </tr>\n",
       "    <tr>\n",
       "      <th>1</th>\n",
       "      <td>0.966549</td>\n",
       "      <td>0.99</td>\n",
       "      <td>0.954023</td>\n",
       "    </tr>\n",
       "    <tr>\n",
       "      <th>2</th>\n",
       "      <td>0.947883</td>\n",
       "      <td>0.97</td>\n",
       "      <td>0.942529</td>\n",
       "    </tr>\n",
       "    <tr>\n",
       "      <th>3</th>\n",
       "      <td>0.883333</td>\n",
       "      <td>0.96</td>\n",
       "      <td>0.896552</td>\n",
       "    </tr>\n",
       "    <tr>\n",
       "      <th>4</th>\n",
       "      <td>0.866461</td>\n",
       "      <td>0.95</td>\n",
       "      <td>0.885057</td>\n",
       "    </tr>\n",
       "    <tr>\n",
       "      <th>5</th>\n",
       "      <td>0.882194</td>\n",
       "      <td>0.95</td>\n",
       "      <td>0.896552</td>\n",
       "    </tr>\n",
       "    <tr>\n",
       "      <th>6</th>\n",
       "      <td>0.976587</td>\n",
       "      <td>0.95</td>\n",
       "      <td>0.965517</td>\n",
       "    </tr>\n",
       "    <tr>\n",
       "      <th>7</th>\n",
       "      <td>0.928047</td>\n",
       "      <td>0.94</td>\n",
       "      <td>0.931034</td>\n",
       "    </tr>\n",
       "    <tr>\n",
       "      <th>8</th>\n",
       "      <td>0.896708</td>\n",
       "      <td>0.94</td>\n",
       "      <td>0.908046</td>\n",
       "    </tr>\n",
       "    <tr>\n",
       "      <th>9</th>\n",
       "      <td>0.943716</td>\n",
       "      <td>0.94</td>\n",
       "      <td>0.942529</td>\n",
       "    </tr>\n",
       "  </tbody>\n",
       "</table>\n",
       "</div>"
      ],
      "text/plain": [
       "  weighted_average Rotten_Tomatoes IMDB_Rating\n",
       "0         1.000000            1.00    0.977011\n",
       "1         0.966549            0.99    0.954023\n",
       "2         0.947883            0.97    0.942529\n",
       "3         0.883333            0.96    0.896552\n",
       "4         0.866461            0.95    0.885057\n",
       "5         0.882194            0.95    0.896552\n",
       "6         0.976587            0.95    0.965517\n",
       "7         0.928047            0.94    0.931034\n",
       "8         0.896708            0.94    0.908046\n",
       "9         0.943716            0.94    0.942529"
      ]
     },
     "execution_count": 52,
     "metadata": {},
     "output_type": "execute_result"
    }
   ],
   "source": [
    "series_normalized.head(10)"
   ]
  },
  {
   "cell_type": "code",
   "execution_count": 53,
   "metadata": {},
   "outputs": [
    {
     "data": {
      "text/html": [
       "<div>\n",
       "<style scoped>\n",
       "    .dataframe tbody tr th:only-of-type {\n",
       "        vertical-align: middle;\n",
       "    }\n",
       "\n",
       "    .dataframe tbody tr th {\n",
       "        vertical-align: top;\n",
       "    }\n",
       "\n",
       "    .dataframe thead th {\n",
       "        text-align: right;\n",
       "    }\n",
       "</style>\n",
       "<table border=\"1\" class=\"dataframe\">\n",
       "  <thead>\n",
       "    <tr style=\"text-align: right;\">\n",
       "      <th></th>\n",
       "      <th>Series_Title</th>\n",
       "      <th>Released Year</th>\n",
       "      <th>Content Rating</th>\n",
       "      <th>IMDB_Rating</th>\n",
       "      <th>Rotten_Tomatoes</th>\n",
       "      <th>Genre</th>\n",
       "      <th>Description</th>\n",
       "      <th>No. of Seasons</th>\n",
       "      <th>Streaming Platform</th>\n",
       "      <th>weighted_average</th>\n",
       "      <th>normalized_weighted_average</th>\n",
       "      <th>normalized_rotten_tomatoes_popularity</th>\n",
       "      <th>normalized_imdb_rating_popularity</th>\n",
       "    </tr>\n",
       "  </thead>\n",
       "  <tbody>\n",
       "    <tr>\n",
       "      <th>0</th>\n",
       "      <td>Breaking Bad</td>\n",
       "      <td>2008</td>\n",
       "      <td>18+</td>\n",
       "      <td>9.5</td>\n",
       "      <td>100</td>\n",
       "      <td>Crime,Drama</td>\n",
       "      <td>When Walter White, a New Mexico chemistry teac...</td>\n",
       "      <td>5</td>\n",
       "      <td>Netflix</td>\n",
       "      <td>8.572424</td>\n",
       "      <td>1.000000</td>\n",
       "      <td>1.00</td>\n",
       "      <td>0.977011</td>\n",
       "    </tr>\n",
       "    <tr>\n",
       "      <th>1</th>\n",
       "      <td>Game of Thrones</td>\n",
       "      <td>2011</td>\n",
       "      <td>18+</td>\n",
       "      <td>9.3</td>\n",
       "      <td>99</td>\n",
       "      <td>Action &amp; Adventure,Drama</td>\n",
       "      <td>Seven noble families fight for control of the ...</td>\n",
       "      <td>8</td>\n",
       "      <td>HBO MAX,HBO</td>\n",
       "      <td>8.440401</td>\n",
       "      <td>0.966549</td>\n",
       "      <td>0.99</td>\n",
       "      <td>0.954023</td>\n",
       "    </tr>\n",
       "  </tbody>\n",
       "</table>\n",
       "</div>"
      ],
      "text/plain": [
       "      Series_Title  Released Year Content Rating  IMDB_Rating  \\\n",
       "0     Breaking Bad           2008            18+          9.5   \n",
       "1  Game of Thrones           2011            18+          9.3   \n",
       "\n",
       "   Rotten_Tomatoes                     Genre  \\\n",
       "0              100               Crime,Drama   \n",
       "1               99  Action & Adventure,Drama   \n",
       "\n",
       "                                         Description No. of Seasons  \\\n",
       "0  When Walter White, a New Mexico chemistry teac...              5   \n",
       "1  Seven noble families fight for control of the ...              8   \n",
       "\n",
       "  Streaming Platform  weighted_average  normalized_weighted_average  \\\n",
       "0            Netflix          8.572424                     1.000000   \n",
       "1        HBO MAX,HBO          8.440401                     0.966549   \n",
       "\n",
       "   normalized_rotten_tomatoes_popularity  normalized_imdb_rating_popularity  \n",
       "0                                   1.00                           0.977011  \n",
       "1                                   0.99                           0.954023  "
      ]
     },
     "execution_count": 53,
     "metadata": {},
     "output_type": "execute_result"
    }
   ],
   "source": [
    "shows.head(2)"
   ]
  },
  {
   "cell_type": "code",
   "execution_count": 54,
   "metadata": {},
   "outputs": [],
   "source": [
    "shows['score'] = shows['normalized_weighted_average'] * 0.6 + shows['normalized_rotten_tomatoes_popularity'] * 0.2 + shows['normalized_imdb_rating_popularity'] * 0.2"
   ]
  },
  {
   "cell_type": "code",
   "execution_count": 55,
   "metadata": {},
   "outputs": [
    {
     "data": {
      "text/html": [
       "<div>\n",
       "<style scoped>\n",
       "    .dataframe tbody tr th:only-of-type {\n",
       "        vertical-align: middle;\n",
       "    }\n",
       "\n",
       "    .dataframe tbody tr th {\n",
       "        vertical-align: top;\n",
       "    }\n",
       "\n",
       "    .dataframe thead th {\n",
       "        text-align: right;\n",
       "    }\n",
       "</style>\n",
       "<table border=\"1\" class=\"dataframe\">\n",
       "  <thead>\n",
       "    <tr style=\"text-align: right;\">\n",
       "      <th></th>\n",
       "      <th>Series_Title</th>\n",
       "      <th>Released Year</th>\n",
       "      <th>Content Rating</th>\n",
       "      <th>IMDB_Rating</th>\n",
       "      <th>Rotten_Tomatoes</th>\n",
       "      <th>Genre</th>\n",
       "      <th>Description</th>\n",
       "      <th>No. of Seasons</th>\n",
       "      <th>Streaming Platform</th>\n",
       "      <th>weighted_average</th>\n",
       "      <th>normalized_weighted_average</th>\n",
       "      <th>normalized_rotten_tomatoes_popularity</th>\n",
       "      <th>normalized_imdb_rating_popularity</th>\n",
       "      <th>score</th>\n",
       "    </tr>\n",
       "  </thead>\n",
       "  <tbody>\n",
       "    <tr>\n",
       "      <th>0</th>\n",
       "      <td>Breaking Bad</td>\n",
       "      <td>2008</td>\n",
       "      <td>18+</td>\n",
       "      <td>9.5</td>\n",
       "      <td>100</td>\n",
       "      <td>Crime,Drama</td>\n",
       "      <td>When Walter White, a New Mexico chemistry teac...</td>\n",
       "      <td>5</td>\n",
       "      <td>Netflix</td>\n",
       "      <td>8.572424</td>\n",
       "      <td>1.000000</td>\n",
       "      <td>1.00</td>\n",
       "      <td>0.977011</td>\n",
       "      <td>0.995402</td>\n",
       "    </tr>\n",
       "    <tr>\n",
       "      <th>6</th>\n",
       "      <td>Chernobyl</td>\n",
       "      <td>2019</td>\n",
       "      <td>18+</td>\n",
       "      <td>9.4</td>\n",
       "      <td>95</td>\n",
       "      <td>Drama,History</td>\n",
       "      <td>The true story of one of the worst man-made ca...</td>\n",
       "      <td>1</td>\n",
       "      <td>HBO MAX,HBO</td>\n",
       "      <td>8.480020</td>\n",
       "      <td>0.976587</td>\n",
       "      <td>0.95</td>\n",
       "      <td>0.965517</td>\n",
       "      <td>0.969056</td>\n",
       "    </tr>\n",
       "    <tr>\n",
       "      <th>1</th>\n",
       "      <td>Game of Thrones</td>\n",
       "      <td>2011</td>\n",
       "      <td>18+</td>\n",
       "      <td>9.3</td>\n",
       "      <td>99</td>\n",
       "      <td>Action &amp; Adventure,Drama</td>\n",
       "      <td>Seven noble families fight for control of the ...</td>\n",
       "      <td>8</td>\n",
       "      <td>HBO MAX,HBO</td>\n",
       "      <td>8.440401</td>\n",
       "      <td>0.966549</td>\n",
       "      <td>0.99</td>\n",
       "      <td>0.954023</td>\n",
       "      <td>0.968734</td>\n",
       "    </tr>\n",
       "    <tr>\n",
       "      <th>17</th>\n",
       "      <td>Band of Brothers</td>\n",
       "      <td>2001</td>\n",
       "      <td>18+</td>\n",
       "      <td>9.4</td>\n",
       "      <td>92</td>\n",
       "      <td>Action &amp; Adventure,Drama</td>\n",
       "      <td>Drawn from interviews with survivors of Easy C...</td>\n",
       "      <td>1</td>\n",
       "      <td>HBO MAX,HBO</td>\n",
       "      <td>8.461620</td>\n",
       "      <td>0.971925</td>\n",
       "      <td>0.92</td>\n",
       "      <td>0.965517</td>\n",
       "      <td>0.960259</td>\n",
       "    </tr>\n",
       "    <tr>\n",
       "      <th>120</th>\n",
       "      <td>Planet Earth II</td>\n",
       "      <td>2016</td>\n",
       "      <td>all</td>\n",
       "      <td>9.5</td>\n",
       "      <td>86</td>\n",
       "      <td>Documentary,2016</td>\n",
       "      <td>David Attenborough presents a documentary seri...</td>\n",
       "      <td>1</td>\n",
       "      <td>BBC America</td>\n",
       "      <td>8.482243</td>\n",
       "      <td>0.977151</td>\n",
       "      <td>0.86</td>\n",
       "      <td>0.977011</td>\n",
       "      <td>0.953693</td>\n",
       "    </tr>\n",
       "  </tbody>\n",
       "</table>\n",
       "</div>"
      ],
      "text/plain": [
       "         Series_Title  Released Year Content Rating  IMDB_Rating  \\\n",
       "0        Breaking Bad           2008            18+          9.5   \n",
       "6           Chernobyl           2019            18+          9.4   \n",
       "1     Game of Thrones           2011            18+          9.3   \n",
       "17   Band of Brothers           2001            18+          9.4   \n",
       "120   Planet Earth II           2016            all          9.5   \n",
       "\n",
       "     Rotten_Tomatoes                     Genre  \\\n",
       "0                100               Crime,Drama   \n",
       "6                 95             Drama,History   \n",
       "1                 99  Action & Adventure,Drama   \n",
       "17                92  Action & Adventure,Drama   \n",
       "120               86          Documentary,2016   \n",
       "\n",
       "                                           Description No. of Seasons  \\\n",
       "0    When Walter White, a New Mexico chemistry teac...              5   \n",
       "6    The true story of one of the worst man-made ca...              1   \n",
       "1    Seven noble families fight for control of the ...              8   \n",
       "17   Drawn from interviews with survivors of Easy C...              1   \n",
       "120  David Attenborough presents a documentary seri...              1   \n",
       "\n",
       "    Streaming Platform  weighted_average  normalized_weighted_average  \\\n",
       "0              Netflix          8.572424                     1.000000   \n",
       "6          HBO MAX,HBO          8.480020                     0.976587   \n",
       "1          HBO MAX,HBO          8.440401                     0.966549   \n",
       "17         HBO MAX,HBO          8.461620                     0.971925   \n",
       "120        BBC America          8.482243                     0.977151   \n",
       "\n",
       "     normalized_rotten_tomatoes_popularity  normalized_imdb_rating_popularity  \\\n",
       "0                                     1.00                           0.977011   \n",
       "6                                     0.95                           0.965517   \n",
       "1                                     0.99                           0.954023   \n",
       "17                                    0.92                           0.965517   \n",
       "120                                   0.86                           0.977011   \n",
       "\n",
       "        score  \n",
       "0    0.995402  \n",
       "6    0.969056  \n",
       "1    0.968734  \n",
       "17   0.960259  \n",
       "120  0.953693  "
      ]
     },
     "execution_count": 55,
     "metadata": {},
     "output_type": "execute_result"
    }
   ],
   "source": [
    "series_score = shows.sort_values(['score'], ascending = False)\n",
    "series_score.head()"
   ]
  },
  {
   "cell_type": "code",
   "execution_count": 56,
   "metadata": {},
   "outputs": [
    {
     "data": {
      "text/html": [
       "<div>\n",
       "<style scoped>\n",
       "    .dataframe tbody tr th:only-of-type {\n",
       "        vertical-align: middle;\n",
       "    }\n",
       "\n",
       "    .dataframe tbody tr th {\n",
       "        vertical-align: top;\n",
       "    }\n",
       "\n",
       "    .dataframe thead th {\n",
       "        text-align: right;\n",
       "    }\n",
       "</style>\n",
       "<table border=\"1\" class=\"dataframe\">\n",
       "  <thead>\n",
       "    <tr style=\"text-align: right;\">\n",
       "      <th></th>\n",
       "      <th>Series_Title</th>\n",
       "      <th>normalized_weighted_average</th>\n",
       "      <th>normalized_rotten_tomatoes_popularity</th>\n",
       "      <th>normalized_imdb_rating_popularity</th>\n",
       "      <th>score</th>\n",
       "    </tr>\n",
       "  </thead>\n",
       "  <tbody>\n",
       "    <tr>\n",
       "      <th>0</th>\n",
       "      <td>Breaking Bad</td>\n",
       "      <td>1.000000</td>\n",
       "      <td>1.00</td>\n",
       "      <td>0.977011</td>\n",
       "      <td>0.995402</td>\n",
       "    </tr>\n",
       "    <tr>\n",
       "      <th>6</th>\n",
       "      <td>Chernobyl</td>\n",
       "      <td>0.976587</td>\n",
       "      <td>0.95</td>\n",
       "      <td>0.965517</td>\n",
       "      <td>0.969056</td>\n",
       "    </tr>\n",
       "    <tr>\n",
       "      <th>1</th>\n",
       "      <td>Game of Thrones</td>\n",
       "      <td>0.966549</td>\n",
       "      <td>0.99</td>\n",
       "      <td>0.954023</td>\n",
       "      <td>0.968734</td>\n",
       "    </tr>\n",
       "    <tr>\n",
       "      <th>17</th>\n",
       "      <td>Band of Brothers</td>\n",
       "      <td>0.971925</td>\n",
       "      <td>0.92</td>\n",
       "      <td>0.965517</td>\n",
       "      <td>0.960259</td>\n",
       "    </tr>\n",
       "    <tr>\n",
       "      <th>120</th>\n",
       "      <td>Planet Earth II</td>\n",
       "      <td>0.977151</td>\n",
       "      <td>0.86</td>\n",
       "      <td>0.977011</td>\n",
       "      <td>0.953693</td>\n",
       "    </tr>\n",
       "  </tbody>\n",
       "</table>\n",
       "</div>"
      ],
      "text/plain": [
       "         Series_Title  normalized_weighted_average  \\\n",
       "0        Breaking Bad                     1.000000   \n",
       "6           Chernobyl                     0.976587   \n",
       "1     Game of Thrones                     0.966549   \n",
       "17   Band of Brothers                     0.971925   \n",
       "120   Planet Earth II                     0.977151   \n",
       "\n",
       "     normalized_rotten_tomatoes_popularity  normalized_imdb_rating_popularity  \\\n",
       "0                                     1.00                           0.977011   \n",
       "6                                     0.95                           0.965517   \n",
       "1                                     0.99                           0.954023   \n",
       "17                                    0.92                           0.965517   \n",
       "120                                   0.86                           0.977011   \n",
       "\n",
       "        score  \n",
       "0    0.995402  \n",
       "6    0.969056  \n",
       "1    0.968734  \n",
       "17   0.960259  \n",
       "120  0.953693  "
      ]
     },
     "execution_count": 56,
     "metadata": {},
     "output_type": "execute_result"
    }
   ],
   "source": [
    "series_score[['Series_Title', 'normalized_weighted_average', 'normalized_rotten_tomatoes_popularity', 'normalized_imdb_rating_popularity', 'score']].head()"
   ]
  },
  {
   "cell_type": "code",
   "execution_count": 57,
   "metadata": {},
   "outputs": [
    {
     "data": {
      "image/png": "[encoded data removed]",
      "text/plain": [
       "<Figure size 1152x432 with 1 Axes>"
      ]
     },
     "metadata": {
      "needs_background": "light"
     },
     "output_type": "display_data"
    }
   ],
   "source": [
    "plt.figure(figsize=(16,6))\n",
    "\n",
    "sns.barplot(x=shows.sort_values(['score'], ascending=False)['score'].head(10), y=shows.sort_values(['score'], ascending=False)['Series_Title'].head(10), data=shows.sort_values(['score'], ascending=False), palette='deep')\n",
    "\n",
    "plt.title('Top 10 Best Rated & Most Popular Series', weight='bold')\n",
    "plt.xlabel('Score', weight='bold')\n",
    "plt.ylabel('Series Title', weight='bold');"
   ]
  }
 ],
 "metadata": {
  "kernelspec": {
   "display_name": "Python 3",
   "language": "python",
   "name": "python3"
  },
  "language_info": {
   "codemirror_mode": {
    "name": "ipython",
    "version": 3
   },
   "file_extension": ".py",
   "mimetype": "text/x-python",
   "name": "python",
   "nbconvert_exporter": "python",
   "pygments_lexer": "ipython3",
   "version": "3.7.3"
  }
 },
 "nbformat": 4,
 "nbformat_minor": 2
}
