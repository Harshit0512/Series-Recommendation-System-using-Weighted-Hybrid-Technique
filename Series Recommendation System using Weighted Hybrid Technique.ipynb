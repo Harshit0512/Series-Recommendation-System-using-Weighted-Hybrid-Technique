{
 "cells": [
  {
   "cell_type": "code",
   "execution_count": 1,
   "metadata": {},
   "outputs": [],
   "source": [
    "import pandas as pd\n",
    "import numpy as np"
   ]
  },
  {
   "cell_type": "code",
   "execution_count": 2,
   "metadata": {},
   "outputs": [],
   "source": [
    "shows = pd.read_csv('All_Streaming_Shows.csv')"
   ]
  },
  {
   "cell_type": "code",
   "execution_count": 3,
   "metadata": {},
   "outputs": [
    {
     "name": "stdout",
     "output_type": "stream",
     "text": [
      "<class 'pandas.core.frame.DataFrame'>\n",
      "RangeIndex: 12353 entries, 0 to 12352\n",
      "Data columns (total 9 columns):\n",
      "Series Title          12353 non-null object\n",
      "Year Released         12353 non-null int64\n",
      "Content Rating        7232 non-null object\n",
      "IMDB Rating           10207 non-null float64\n",
      "R Rating              12353 non-null int64\n",
      "Genre                 12353 non-null object\n",
      "Description           12353 non-null object\n",
      "No of Seasons         12353 non-null object\n",
      "Streaming Platform    10370 non-null object\n",
      "dtypes: float64(1), int64(2), object(6)\n",
      "memory usage: 868.6+ KB\n"
     ]
    }
   ],
   "source": [
    "shows.info()"
   ]
  },
  {
   "cell_type": "code",
   "execution_count": 4,
   "metadata": {},
   "outputs": [
    {
     "data": {
      "text/html": [
       "<div>\n",
       "<style scoped>\n",
       "    .dataframe tbody tr th:only-of-type {\n",
       "        vertical-align: middle;\n",
       "    }\n",
       "\n",
       "    .dataframe tbody tr th {\n",
       "        vertical-align: top;\n",
       "    }\n",
       "\n",
       "    .dataframe thead th {\n",
       "        text-align: right;\n",
       "    }\n",
       "</style>\n",
       "<table border=\"1\" class=\"dataframe\">\n",
       "  <thead>\n",
       "    <tr style=\"text-align: right;\">\n",
       "      <th></th>\n",
       "      <th>Series Title</th>\n",
       "      <th>Year Released</th>\n",
       "      <th>Content Rating</th>\n",
       "      <th>IMDB Rating</th>\n",
       "      <th>R Rating</th>\n",
       "      <th>Genre</th>\n",
       "      <th>Description</th>\n",
       "      <th>No of Seasons</th>\n",
       "      <th>Streaming Platform</th>\n",
       "    </tr>\n",
       "  </thead>\n",
       "  <tbody>\n",
       "    <tr>\n",
       "      <th>0</th>\n",
       "      <td>Breaking Bad</td>\n",
       "      <td>2008</td>\n",
       "      <td>18+</td>\n",
       "      <td>9.5</td>\n",
       "      <td>100</td>\n",
       "      <td>Crime,Drama</td>\n",
       "      <td>When Walter White, a New Mexico chemistry teac...</td>\n",
       "      <td>5Seasons</td>\n",
       "      <td>Netflix</td>\n",
       "    </tr>\n",
       "    <tr>\n",
       "      <th>1</th>\n",
       "      <td>Game of Thrones</td>\n",
       "      <td>2011</td>\n",
       "      <td>18+</td>\n",
       "      <td>9.3</td>\n",
       "      <td>99</td>\n",
       "      <td>Action &amp; Adventure,Drama</td>\n",
       "      <td>Seven noble families fight for control of the ...</td>\n",
       "      <td>8Seasons</td>\n",
       "      <td>HBO MAX,HBO</td>\n",
       "    </tr>\n",
       "    <tr>\n",
       "      <th>2</th>\n",
       "      <td>Rick and Morty</td>\n",
       "      <td>2013</td>\n",
       "      <td>18+</td>\n",
       "      <td>9.2</td>\n",
       "      <td>97</td>\n",
       "      <td>Animation,Comedy</td>\n",
       "      <td>Rick is a mentally-unbalanced but scientifical...</td>\n",
       "      <td>4Seasons</td>\n",
       "      <td>Free Services,HBO MAX,Hulu</td>\n",
       "    </tr>\n",
       "    <tr>\n",
       "      <th>3</th>\n",
       "      <td>Stranger Things</td>\n",
       "      <td>2016</td>\n",
       "      <td>16+</td>\n",
       "      <td>8.8</td>\n",
       "      <td>96</td>\n",
       "      <td>Drama,Fantasy</td>\n",
       "      <td>When a young boy vanishes, a small town uncove...</td>\n",
       "      <td>3Seasons</td>\n",
       "      <td>Netflix</td>\n",
       "    </tr>\n",
       "    <tr>\n",
       "      <th>4</th>\n",
       "      <td>The Boys</td>\n",
       "      <td>2019</td>\n",
       "      <td>18+</td>\n",
       "      <td>8.7</td>\n",
       "      <td>95</td>\n",
       "      <td>Action &amp; Adventure,Comedy</td>\n",
       "      <td>A group of vigilantes known informally as “The...</td>\n",
       "      <td>2Seasons</td>\n",
       "      <td>Prime Video</td>\n",
       "    </tr>\n",
       "  </tbody>\n",
       "</table>\n",
       "</div>"
      ],
      "text/plain": [
       "      Series Title  Year Released Content Rating  IMDB Rating  R Rating  \\\n",
       "0     Breaking Bad           2008            18+          9.5       100   \n",
       "1  Game of Thrones           2011            18+          9.3        99   \n",
       "2   Rick and Morty           2013            18+          9.2        97   \n",
       "3  Stranger Things           2016            16+          8.8        96   \n",
       "4         The Boys           2019            18+          8.7        95   \n",
       "\n",
       "                       Genre  \\\n",
       "0                Crime,Drama   \n",
       "1   Action & Adventure,Drama   \n",
       "2           Animation,Comedy   \n",
       "3              Drama,Fantasy   \n",
       "4  Action & Adventure,Comedy   \n",
       "\n",
       "                                         Description No of Seasons  \\\n",
       "0  When Walter White, a New Mexico chemistry teac...      5Seasons   \n",
       "1  Seven noble families fight for control of the ...      8Seasons   \n",
       "2  Rick is a mentally-unbalanced but scientifical...      4Seasons   \n",
       "3  When a young boy vanishes, a small town uncove...      3Seasons   \n",
       "4  A group of vigilantes known informally as “The...      2Seasons   \n",
       "\n",
       "           Streaming Platform  \n",
       "0                     Netflix  \n",
       "1                 HBO MAX,HBO  \n",
       "2  Free Services,HBO MAX,Hulu  \n",
       "3                     Netflix  \n",
       "4                 Prime Video  "
      ]
     },
     "execution_count": 4,
     "metadata": {},
     "output_type": "execute_result"
    }
   ],
   "source": [
    "shows.head()"
   ]
  },
  {
   "cell_type": "code",
   "execution_count": 5,
   "metadata": {},
   "outputs": [],
   "source": [
    "shows.insert(0, 'Series_ID', range(1, 1 + len(shows)))"
   ]
  },
  {
   "cell_type": "code",
   "execution_count": 6,
   "metadata": {},
   "outputs": [
    {
     "data": {
      "text/html": [
       "<div>\n",
       "<style scoped>\n",
       "    .dataframe tbody tr th:only-of-type {\n",
       "        vertical-align: middle;\n",
       "    }\n",
       "\n",
       "    .dataframe tbody tr th {\n",
       "        vertical-align: top;\n",
       "    }\n",
       "\n",
       "    .dataframe thead th {\n",
       "        text-align: right;\n",
       "    }\n",
       "</style>\n",
       "<table border=\"1\" class=\"dataframe\">\n",
       "  <thead>\n",
       "    <tr style=\"text-align: right;\">\n",
       "      <th></th>\n",
       "      <th>Series_ID</th>\n",
       "      <th>Series Title</th>\n",
       "      <th>Year Released</th>\n",
       "      <th>Content Rating</th>\n",
       "      <th>IMDB Rating</th>\n",
       "      <th>R Rating</th>\n",
       "      <th>Genre</th>\n",
       "      <th>Description</th>\n",
       "      <th>No of Seasons</th>\n",
       "      <th>Streaming Platform</th>\n",
       "    </tr>\n",
       "  </thead>\n",
       "  <tbody>\n",
       "    <tr>\n",
       "      <th>0</th>\n",
       "      <td>1</td>\n",
       "      <td>Breaking Bad</td>\n",
       "      <td>2008</td>\n",
       "      <td>18+</td>\n",
       "      <td>9.5</td>\n",
       "      <td>100</td>\n",
       "      <td>Crime,Drama</td>\n",
       "      <td>When Walter White, a New Mexico chemistry teac...</td>\n",
       "      <td>5Seasons</td>\n",
       "      <td>Netflix</td>\n",
       "    </tr>\n",
       "    <tr>\n",
       "      <th>1</th>\n",
       "      <td>2</td>\n",
       "      <td>Game of Thrones</td>\n",
       "      <td>2011</td>\n",
       "      <td>18+</td>\n",
       "      <td>9.3</td>\n",
       "      <td>99</td>\n",
       "      <td>Action &amp; Adventure,Drama</td>\n",
       "      <td>Seven noble families fight for control of the ...</td>\n",
       "      <td>8Seasons</td>\n",
       "      <td>HBO MAX,HBO</td>\n",
       "    </tr>\n",
       "    <tr>\n",
       "      <th>2</th>\n",
       "      <td>3</td>\n",
       "      <td>Rick and Morty</td>\n",
       "      <td>2013</td>\n",
       "      <td>18+</td>\n",
       "      <td>9.2</td>\n",
       "      <td>97</td>\n",
       "      <td>Animation,Comedy</td>\n",
       "      <td>Rick is a mentally-unbalanced but scientifical...</td>\n",
       "      <td>4Seasons</td>\n",
       "      <td>Free Services,HBO MAX,Hulu</td>\n",
       "    </tr>\n",
       "    <tr>\n",
       "      <th>3</th>\n",
       "      <td>4</td>\n",
       "      <td>Stranger Things</td>\n",
       "      <td>2016</td>\n",
       "      <td>16+</td>\n",
       "      <td>8.8</td>\n",
       "      <td>96</td>\n",
       "      <td>Drama,Fantasy</td>\n",
       "      <td>When a young boy vanishes, a small town uncove...</td>\n",
       "      <td>3Seasons</td>\n",
       "      <td>Netflix</td>\n",
       "    </tr>\n",
       "    <tr>\n",
       "      <th>4</th>\n",
       "      <td>5</td>\n",
       "      <td>The Boys</td>\n",
       "      <td>2019</td>\n",
       "      <td>18+</td>\n",
       "      <td>8.7</td>\n",
       "      <td>95</td>\n",
       "      <td>Action &amp; Adventure,Comedy</td>\n",
       "      <td>A group of vigilantes known informally as “The...</td>\n",
       "      <td>2Seasons</td>\n",
       "      <td>Prime Video</td>\n",
       "    </tr>\n",
       "  </tbody>\n",
       "</table>\n",
       "</div>"
      ],
      "text/plain": [
       "   Series_ID     Series Title  Year Released Content Rating  IMDB Rating  \\\n",
       "0          1     Breaking Bad           2008            18+          9.5   \n",
       "1          2  Game of Thrones           2011            18+          9.3   \n",
       "2          3   Rick and Morty           2013            18+          9.2   \n",
       "3          4  Stranger Things           2016            16+          8.8   \n",
       "4          5         The Boys           2019            18+          8.7   \n",
       "\n",
       "   R Rating                      Genre  \\\n",
       "0       100                Crime,Drama   \n",
       "1        99   Action & Adventure,Drama   \n",
       "2        97           Animation,Comedy   \n",
       "3        96              Drama,Fantasy   \n",
       "4        95  Action & Adventure,Comedy   \n",
       "\n",
       "                                         Description No of Seasons  \\\n",
       "0  When Walter White, a New Mexico chemistry teac...      5Seasons   \n",
       "1  Seven noble families fight for control of the ...      8Seasons   \n",
       "2  Rick is a mentally-unbalanced but scientifical...      4Seasons   \n",
       "3  When a young boy vanishes, a small town uncove...      3Seasons   \n",
       "4  A group of vigilantes known informally as “The...      2Seasons   \n",
       "\n",
       "           Streaming Platform  \n",
       "0                     Netflix  \n",
       "1                 HBO MAX,HBO  \n",
       "2  Free Services,HBO MAX,Hulu  \n",
       "3                     Netflix  \n",
       "4                 Prime Video  "
      ]
     },
     "execution_count": 6,
     "metadata": {},
     "output_type": "execute_result"
    }
   ],
   "source": [
    "shows.head()"
   ]
  },
  {
   "cell_type": "code",
   "execution_count": 7,
   "metadata": {},
   "outputs": [
    {
     "data": {
      "text/plain": [
       "Series_ID                0\n",
       "Series Title             0\n",
       "Year Released            0\n",
       "Content Rating        5121\n",
       "IMDB Rating           2146\n",
       "R Rating                 0\n",
       "Genre                    0\n",
       "Description              0\n",
       "No of Seasons            0\n",
       "Streaming Platform    1983\n",
       "dtype: int64"
      ]
     },
     "execution_count": 7,
     "metadata": {},
     "output_type": "execute_result"
    }
   ],
   "source": [
    "shows.isnull().sum()"
   ]
  },
  {
   "cell_type": "code",
   "execution_count": 8,
   "metadata": {},
   "outputs": [
    {
     "data": {
      "text/plain": [
       "array(['5Seasons', '8Seasons', '4Seasons', '3Seasons', '2Seasons',\n",
       "       '1Season', '10Seasons', '9Seasons', '15 Seasons', '1 Season',\n",
       "       '5 Seasons', '31 Seasons', '6Seasons', '6 Seasons', '7 Seasons',\n",
       "       '23 Seasons', '7Seasons', '10 Seasons', '12Seasons', '11 Seasons',\n",
       "       '14Seasons', '3 Seasons', '4 Seasons', '16 Seasons', '11Seasons',\n",
       "       '2 Seasons', '9 Seasons', '8 Seasons', '24 Seasons', '19 Seasons',\n",
       "       '18 Seasons', '17 Seasons', '12 Seasons', '21 Seasons',\n",
       "       '16Seasons', '28 Seasons', '13Seasons', '29 Seasons', '45 Seasons',\n",
       "       '21Seasons', '27 Seasons', '25 Seasons', '40 Seasons', '20Seasons',\n",
       "       '14 Seasons', '51 Seasons', '13 Seasons', '15Seasons',\n",
       "       '20 Seasons', '24Seasons', '62 Seasons', '35 Seasons',\n",
       "       '44 Seasons', '18Seasons', '17Seasons', '75 Seasons', '54 Seasons',\n",
       "       '27Seasons', '22 Seasons', '32Seasons', '187 Seasons', '31Seasons',\n",
       "       '36 Seasons', '26 Seasons', '32 Seasons', '52 Seasons',\n",
       "       '34 Seasons', '37 Seasons', '77 Seasons', '41 Seasons',\n",
       "       '42 Seasons', '60 Seasons', '33 Seasons', '160 Seasons',\n",
       "       '38Seasons', '22Seasons', '84Seasons', '23Seasons', '25Seasons',\n",
       "       '64Seasons', '39Seasons', '19Seasons', '-1', '42Seasons',\n",
       "       '33Seasons', '40Seasons', '43 Seasons', '48 Seasons', '29Seasons',\n",
       "       '71 Seasons', '82 Seasons', '57Seasons', '45Seasons', '26Seasons'],\n",
       "      dtype=object)"
      ]
     },
     "execution_count": 8,
     "metadata": {},
     "output_type": "execute_result"
    }
   ],
   "source": [
    "shows['No of Seasons'].unique()"
   ]
  },
  {
   "cell_type": "code",
   "execution_count": 9,
   "metadata": {},
   "outputs": [
    {
     "data": {
      "text/plain": [
       "Series_ID                0\n",
       "Series Title             0\n",
       "Year Released            0\n",
       "Content Rating        5121\n",
       "IMDB Rating           2146\n",
       "R Rating                 0\n",
       "Genre                    0\n",
       "Description              0\n",
       "No of Seasons            0\n",
       "Streaming Platform    1983\n",
       "dtype: int64"
      ]
     },
     "execution_count": 9,
     "metadata": {},
     "output_type": "execute_result"
    }
   ],
   "source": [
    "shows.isnull().sum()"
   ]
  },
  {
   "cell_type": "code",
   "execution_count": 10,
   "metadata": {},
   "outputs": [
    {
     "data": {
      "text/plain": [
       "array([100,  99,  97,  96,  95,  94,  93,  92,  91,  90,  89,  88,  87,\n",
       "        86,  85,  84,  83,  82,  81,  80,  79,  78,  77,  76,  75,  74,\n",
       "        73,  72,  71,  70,  69,  68,  67,  66,  65,  64,  63,  62,  61,\n",
       "        60,  59,  58,  57,  56,  55,  54,  53,  52,  51,  50,  49,  48,\n",
       "        47,  46,  45,  44,  43,  42,  41,  40,  39,  38,  37,  36,  35,\n",
       "        34,  33,  32,  31,  30,  29,  28,  27,  26,  25,  24,  23,  22,\n",
       "        21,  20,  19,  18,  17,  16,  15,  13,  10,  -1], dtype=int64)"
      ]
     },
     "execution_count": 10,
     "metadata": {},
     "output_type": "execute_result"
    }
   ],
   "source": [
    "shows['R Rating'].unique() "
   ]
  },
  {
   "cell_type": "code",
   "execution_count": 11,
   "metadata": {},
   "outputs": [],
   "source": [
    "shows['Content Rating'] = shows['Content Rating'].replace(np.nan, 'unknown')\n",
    "shows['Streaming Platform'] = shows['Streaming Platform'].replace(np.nan, 'unknown')\n",
    "shows['Streaming Platform'] = shows['Streaming Platform'].replace('-1', 'unknown')\n",
    "shows['No of Seasons'] = shows['No of Seasons'].replace('-1', 'unknown')\n",
    "shows['Description'] = shows['Description'].replace('-1', 'unknown')\n",
    "shows['Genre'] = shows['Genre'].replace('-1', 'unknown')\n",
    "shows['R Rating'] = shows['R Rating'].replace(-1, np.nan)"
   ]
  },
  {
   "cell_type": "code",
   "execution_count": 12,
   "metadata": {},
   "outputs": [
    {
     "name": "stdout",
     "output_type": "stream",
     "text": [
      "<class 'pandas.core.frame.DataFrame'>\n",
      "RangeIndex: 12353 entries, 0 to 12352\n",
      "Data columns (total 10 columns):\n",
      "Series_ID             12353 non-null int32\n",
      "Series Title          12353 non-null object\n",
      "Year Released         12353 non-null int64\n",
      "Content Rating        12353 non-null object\n",
      "IMDB Rating           10207 non-null float64\n",
      "R Rating              11546 non-null float64\n",
      "Genre                 12353 non-null object\n",
      "Description           12353 non-null object\n",
      "No of Seasons         12353 non-null object\n",
      "Streaming Platform    12353 non-null object\n",
      "dtypes: float64(2), int32(1), int64(1), object(6)\n",
      "memory usage: 916.9+ KB\n"
     ]
    }
   ],
   "source": [
    "shows.info()"
   ]
  },
  {
   "cell_type": "code",
   "execution_count": 13,
   "metadata": {},
   "outputs": [
    {
     "data": {
      "text/plain": [
       "array([100.,  99.,  97.,  96.,  95.,  94.,  93.,  92.,  91.,  90.,  89.,\n",
       "        88.,  87.,  86.,  85.,  84.,  83.,  82.,  81.,  80.,  79.,  78.,\n",
       "        77.,  76.,  75.,  74.,  73.,  72.,  71.,  70.,  69.,  68.,  67.,\n",
       "        66.,  65.,  64.,  63.,  62.,  61.,  60.,  59.,  58.,  57.,  56.,\n",
       "        55.,  54.,  53.,  52.,  51.,  50.,  49.,  48.,  47.,  46.,  45.,\n",
       "        44.,  43.,  42.,  41.,  40.,  39.,  38.,  37.,  36.,  35.,  34.,\n",
       "        33.,  32.,  31.,  30.,  29.,  28.,  27.,  26.,  25.,  24.,  23.,\n",
       "        22.,  21.,  20.,  19.,  18.,  17.,  16.,  15.,  13.,  10.,  nan])"
      ]
     },
     "execution_count": 13,
     "metadata": {},
     "output_type": "execute_result"
    }
   ],
   "source": [
    "shows['R Rating'].unique()"
   ]
  },
  {
   "cell_type": "code",
   "execution_count": 14,
   "metadata": {},
   "outputs": [],
   "source": [
    "shows['R Rating'] = shows['R Rating'].fillna(method = 'bfill', axis = 0).fillna(0)"
   ]
  },
  {
   "cell_type": "code",
   "execution_count": 15,
   "metadata": {},
   "outputs": [
    {
     "name": "stdout",
     "output_type": "stream",
     "text": [
      "<class 'pandas.core.frame.DataFrame'>\n",
      "RangeIndex: 12353 entries, 0 to 12352\n",
      "Data columns (total 10 columns):\n",
      "Series_ID             12353 non-null int32\n",
      "Series Title          12353 non-null object\n",
      "Year Released         12353 non-null int64\n",
      "Content Rating        12353 non-null object\n",
      "IMDB Rating           10207 non-null float64\n",
      "R Rating              12353 non-null float64\n",
      "Genre                 12353 non-null object\n",
      "Description           12353 non-null object\n",
      "No of Seasons         12353 non-null object\n",
      "Streaming Platform    12353 non-null object\n",
      "dtypes: float64(2), int32(1), int64(1), object(6)\n",
      "memory usage: 916.9+ KB\n"
     ]
    }
   ],
   "source": [
    "shows.info()"
   ]
  },
  {
   "cell_type": "code",
   "execution_count": 16,
   "metadata": {},
   "outputs": [
    {
     "data": {
      "text/plain": [
       "Series_ID                0\n",
       "Series Title             0\n",
       "Year Released            0\n",
       "Content Rating           0\n",
       "IMDB Rating           2146\n",
       "R Rating                 0\n",
       "Genre                    0\n",
       "Description              0\n",
       "No of Seasons            0\n",
       "Streaming Platform       0\n",
       "dtype: int64"
      ]
     },
     "execution_count": 16,
     "metadata": {},
     "output_type": "execute_result"
    }
   ],
   "source": [
    "shows.isnull().sum()"
   ]
  },
  {
   "cell_type": "code",
   "execution_count": 17,
   "metadata": {},
   "outputs": [
    {
     "data": {
      "text/plain": [
       "Series_ID                0\n",
       "Series Title             0\n",
       "Year Released            0\n",
       "Content Rating           0\n",
       "IMDB Rating           2146\n",
       "R Rating                 0\n",
       "Genre                    0\n",
       "Description              0\n",
       "No of Seasons            0\n",
       "Streaming Platform       0\n",
       "dtype: int64"
      ]
     },
     "execution_count": 17,
     "metadata": {},
     "output_type": "execute_result"
    }
   ],
   "source": [
    "shows.isnull().sum()"
   ]
  },
  {
   "cell_type": "code",
   "execution_count": 18,
   "metadata": {},
   "outputs": [
    {
     "data": {
      "text/plain": [
       "(12353, 10)"
      ]
     },
     "execution_count": 18,
     "metadata": {},
     "output_type": "execute_result"
    }
   ],
   "source": [
    "shows.shape"
   ]
  },
  {
   "cell_type": "code",
   "execution_count": 19,
   "metadata": {},
   "outputs": [],
   "source": [
    "shows = shows.dropna()"
   ]
  },
  {
   "cell_type": "code",
   "execution_count": 20,
   "metadata": {},
   "outputs": [
    {
     "data": {
      "text/plain": [
       "(10207, 10)"
      ]
     },
     "execution_count": 20,
     "metadata": {},
     "output_type": "execute_result"
    }
   ],
   "source": [
    "shows.shape"
   ]
  },
  {
   "cell_type": "code",
   "execution_count": 21,
   "metadata": {},
   "outputs": [
    {
     "data": {
      "text/html": [
       "<div>\n",
       "<style scoped>\n",
       "    .dataframe tbody tr th:only-of-type {\n",
       "        vertical-align: middle;\n",
       "    }\n",
       "\n",
       "    .dataframe tbody tr th {\n",
       "        vertical-align: top;\n",
       "    }\n",
       "\n",
       "    .dataframe thead th {\n",
       "        text-align: right;\n",
       "    }\n",
       "</style>\n",
       "<table border=\"1\" class=\"dataframe\">\n",
       "  <thead>\n",
       "    <tr style=\"text-align: right;\">\n",
       "      <th></th>\n",
       "      <th>Series_ID</th>\n",
       "      <th>Series Title</th>\n",
       "      <th>Year Released</th>\n",
       "      <th>Content Rating</th>\n",
       "      <th>IMDB Rating</th>\n",
       "      <th>R Rating</th>\n",
       "      <th>Genre</th>\n",
       "      <th>Description</th>\n",
       "      <th>No of Seasons</th>\n",
       "      <th>Streaming Platform</th>\n",
       "    </tr>\n",
       "  </thead>\n",
       "  <tbody>\n",
       "    <tr>\n",
       "      <th>0</th>\n",
       "      <td>1</td>\n",
       "      <td>Breaking Bad</td>\n",
       "      <td>2008</td>\n",
       "      <td>18+</td>\n",
       "      <td>9.5</td>\n",
       "      <td>100.0</td>\n",
       "      <td>Crime,Drama</td>\n",
       "      <td>When Walter White, a New Mexico chemistry teac...</td>\n",
       "      <td>5Seasons</td>\n",
       "      <td>Netflix</td>\n",
       "    </tr>\n",
       "    <tr>\n",
       "      <th>1</th>\n",
       "      <td>2</td>\n",
       "      <td>Game of Thrones</td>\n",
       "      <td>2011</td>\n",
       "      <td>18+</td>\n",
       "      <td>9.3</td>\n",
       "      <td>99.0</td>\n",
       "      <td>Action &amp; Adventure,Drama</td>\n",
       "      <td>Seven noble families fight for control of the ...</td>\n",
       "      <td>8Seasons</td>\n",
       "      <td>HBO MAX,HBO</td>\n",
       "    </tr>\n",
       "    <tr>\n",
       "      <th>2</th>\n",
       "      <td>3</td>\n",
       "      <td>Rick and Morty</td>\n",
       "      <td>2013</td>\n",
       "      <td>18+</td>\n",
       "      <td>9.2</td>\n",
       "      <td>97.0</td>\n",
       "      <td>Animation,Comedy</td>\n",
       "      <td>Rick is a mentally-unbalanced but scientifical...</td>\n",
       "      <td>4Seasons</td>\n",
       "      <td>Free Services,HBO MAX,Hulu</td>\n",
       "    </tr>\n",
       "    <tr>\n",
       "      <th>3</th>\n",
       "      <td>4</td>\n",
       "      <td>Stranger Things</td>\n",
       "      <td>2016</td>\n",
       "      <td>16+</td>\n",
       "      <td>8.8</td>\n",
       "      <td>96.0</td>\n",
       "      <td>Drama,Fantasy</td>\n",
       "      <td>When a young boy vanishes, a small town uncove...</td>\n",
       "      <td>3Seasons</td>\n",
       "      <td>Netflix</td>\n",
       "    </tr>\n",
       "    <tr>\n",
       "      <th>4</th>\n",
       "      <td>5</td>\n",
       "      <td>The Boys</td>\n",
       "      <td>2019</td>\n",
       "      <td>18+</td>\n",
       "      <td>8.7</td>\n",
       "      <td>95.0</td>\n",
       "      <td>Action &amp; Adventure,Comedy</td>\n",
       "      <td>A group of vigilantes known informally as “The...</td>\n",
       "      <td>2Seasons</td>\n",
       "      <td>Prime Video</td>\n",
       "    </tr>\n",
       "  </tbody>\n",
       "</table>\n",
       "</div>"
      ],
      "text/plain": [
       "   Series_ID     Series Title  Year Released Content Rating  IMDB Rating  \\\n",
       "0          1     Breaking Bad           2008            18+          9.5   \n",
       "1          2  Game of Thrones           2011            18+          9.3   \n",
       "2          3   Rick and Morty           2013            18+          9.2   \n",
       "3          4  Stranger Things           2016            16+          8.8   \n",
       "4          5         The Boys           2019            18+          8.7   \n",
       "\n",
       "   R Rating                      Genre  \\\n",
       "0     100.0                Crime,Drama   \n",
       "1      99.0   Action & Adventure,Drama   \n",
       "2      97.0           Animation,Comedy   \n",
       "3      96.0              Drama,Fantasy   \n",
       "4      95.0  Action & Adventure,Comedy   \n",
       "\n",
       "                                         Description No of Seasons  \\\n",
       "0  When Walter White, a New Mexico chemistry teac...      5Seasons   \n",
       "1  Seven noble families fight for control of the ...      8Seasons   \n",
       "2  Rick is a mentally-unbalanced but scientifical...      4Seasons   \n",
       "3  When a young boy vanishes, a small town uncove...      3Seasons   \n",
       "4  A group of vigilantes known informally as “The...      2Seasons   \n",
       "\n",
       "           Streaming Platform  \n",
       "0                     Netflix  \n",
       "1                 HBO MAX,HBO  \n",
       "2  Free Services,HBO MAX,Hulu  \n",
       "3                     Netflix  \n",
       "4                 Prime Video  "
      ]
     },
     "execution_count": 21,
     "metadata": {},
     "output_type": "execute_result"
    }
   ],
   "source": [
    "shows.head()"
   ]
  },
  {
   "cell_type": "code",
   "execution_count": 22,
   "metadata": {},
   "outputs": [
    {
     "name": "stdout",
     "output_type": "stream",
     "text": [
      "<class 'pandas.core.frame.DataFrame'>\n",
      "Int64Index: 10207 entries, 0 to 12071\n",
      "Data columns (total 10 columns):\n",
      "Series_ID             10207 non-null int32\n",
      "Series Title          10207 non-null object\n",
      "Year Released         10207 non-null int64\n",
      "Content Rating        10207 non-null object\n",
      "IMDB Rating           10207 non-null float64\n",
      "R Rating              10207 non-null float64\n",
      "Genre                 10207 non-null object\n",
      "Description           10207 non-null object\n",
      "No of Seasons         10207 non-null object\n",
      "Streaming Platform    10207 non-null object\n",
      "dtypes: float64(2), int32(1), int64(1), object(6)\n",
      "memory usage: 837.3+ KB\n"
     ]
    }
   ],
   "source": [
    "shows.info()"
   ]
  },
  {
   "cell_type": "markdown",
   "metadata": {},
   "source": [
    "### Extracting numbers of seasons from the column "
   ]
  },
  {
   "cell_type": "code",
   "execution_count": 23,
   "metadata": {},
   "outputs": [
    {
     "data": {
      "text/plain": [
       "array(['5Seasons', '8Seasons', '4Seasons', '3Seasons', '2Seasons',\n",
       "       '1Season', '10Seasons', '9Seasons', '15 Seasons', '1 Season',\n",
       "       '5 Seasons', '31 Seasons', '6Seasons', '6 Seasons', '7 Seasons',\n",
       "       '23 Seasons', '7Seasons', '10 Seasons', '12Seasons', '11 Seasons',\n",
       "       '14Seasons', '3 Seasons', '4 Seasons', '16 Seasons', '11Seasons',\n",
       "       '2 Seasons', '9 Seasons', '8 Seasons', '24 Seasons', '19 Seasons',\n",
       "       '18 Seasons', '17 Seasons', '12 Seasons', '21 Seasons',\n",
       "       '16Seasons', '28 Seasons', '13Seasons', '29 Seasons', '45 Seasons',\n",
       "       '21Seasons', '27 Seasons', '25 Seasons', '40 Seasons', '20Seasons',\n",
       "       '14 Seasons', '51 Seasons', '13 Seasons', '15Seasons',\n",
       "       '20 Seasons', '24Seasons', '62 Seasons', '35 Seasons',\n",
       "       '44 Seasons', '18Seasons', '17Seasons', '75 Seasons', '54 Seasons',\n",
       "       '27Seasons', '22 Seasons', '32Seasons', '187 Seasons', '31Seasons',\n",
       "       '36 Seasons', '26 Seasons', '32 Seasons', '52 Seasons',\n",
       "       '34 Seasons', '37 Seasons', '77 Seasons', '41 Seasons',\n",
       "       '42 Seasons', '60 Seasons', '33 Seasons', '160 Seasons',\n",
       "       '38Seasons', '22Seasons', '84Seasons', '23Seasons', '25Seasons',\n",
       "       '64Seasons', '39Seasons', '19Seasons', '42Seasons', '33Seasons',\n",
       "       '40Seasons', '43 Seasons', '48 Seasons', 'unknown', '29Seasons',\n",
       "       '71 Seasons', '82 Seasons', '45Seasons'], dtype=object)"
      ]
     },
     "execution_count": 23,
     "metadata": {},
     "output_type": "execute_result"
    }
   ],
   "source": [
    "shows['No of Seasons'].unique()"
   ]
  },
  {
   "cell_type": "code",
   "execution_count": 24,
   "metadata": {},
   "outputs": [
    {
     "data": {
      "text/plain": [
       "0    5\n",
       "1    8\n",
       "2    4\n",
       "3    3\n",
       "4    2\n",
       "Name: No of Seasons, dtype: object"
      ]
     },
     "execution_count": 24,
     "metadata": {},
     "output_type": "execute_result"
    }
   ],
   "source": [
    "shows['No of Seasons'] = shows['No of Seasons'].str.extract('(\\d+)')\n",
    "shows['No of Seasons'].head()"
   ]
  },
  {
   "cell_type": "code",
   "execution_count": 25,
   "metadata": {},
   "outputs": [
    {
     "data": {
      "text/plain": [
       "array(['5', '8', '4', '3', '2', '1', '10', '9', '15', '31', '6', '7',\n",
       "       '23', '12', '11', '14', '16', '24', '19', '18', '17', '21', '28',\n",
       "       '13', '29', '45', '27', '25', '40', '20', '51', '62', '35', '44',\n",
       "       '75', '54', '22', '32', '187', '36', '26', '52', '34', '37', '77',\n",
       "       '41', '42', '60', '33', '160', '38', '84', '64', '39', '43', '48',\n",
       "       nan, '71', '82'], dtype=object)"
      ]
     },
     "execution_count": 25,
     "metadata": {},
     "output_type": "execute_result"
    }
   ],
   "source": [
    "shows['No of Seasons'].unique()"
   ]
  },
  {
   "cell_type": "code",
   "execution_count": 26,
   "metadata": {},
   "outputs": [],
   "source": [
    "shows['No of Seasons'] = shows['No of Seasons'].replace(np.nan, 'unknown')"
   ]
  },
  {
   "cell_type": "code",
   "execution_count": 27,
   "metadata": {},
   "outputs": [
    {
     "data": {
      "text/plain": [
       "array(['5', '8', '4', '3', '2', '1', '10', '9', '15', '31', '6', '7',\n",
       "       '23', '12', '11', '14', '16', '24', '19', '18', '17', '21', '28',\n",
       "       '13', '29', '45', '27', '25', '40', '20', '51', '62', '35', '44',\n",
       "       '75', '54', '22', '32', '187', '36', '26', '52', '34', '37', '77',\n",
       "       '41', '42', '60', '33', '160', '38', '84', '64', '39', '43', '48',\n",
       "       'unknown', '71', '82'], dtype=object)"
      ]
     },
     "execution_count": 27,
     "metadata": {},
     "output_type": "execute_result"
    }
   ],
   "source": [
    "shows['No of Seasons'].unique()"
   ]
  },
  {
   "cell_type": "code",
   "execution_count": 28,
   "metadata": {},
   "outputs": [
    {
     "data": {
      "text/plain": [
       "array(['18+', '16+', '7+', 'all', 'unknown', '13+'], dtype=object)"
      ]
     },
     "execution_count": 28,
     "metadata": {},
     "output_type": "execute_result"
    }
   ],
   "source": [
    "shows['Content Rating'].unique()"
   ]
  },
  {
   "cell_type": "code",
   "execution_count": 29,
   "metadata": {},
   "outputs": [
    {
     "data": {
      "text/plain": [
       "array([100.,  99.,  97.,  96.,  95.,  94.,  93.,  92.,  91.,  90.,  89.,\n",
       "        88.,  87.,  86.,  85.,  84.,  83.,  82.,  81.,  80.,  79.,  78.,\n",
       "        77.,  76.,  75.,  74.,  73.,  72.,  71.,  70.,  69.,  68.,  67.,\n",
       "        66.,  65.,  64.,  63.,  62.,  61.,  60.,  59.,  58.,  57.,  56.,\n",
       "        55.,  54.,  53.,  52.,  51.,  50.,  49.,  48.,  47.,  46.,  45.,\n",
       "        44.,  43.,  42.,  41.,  40.,  39.,  38.,  37.,  36.,  35.,  34.,\n",
       "        33.,  32.,  31.,  30.,  29.,  28.,  27.,  26.,  25.,  24.,  23.,\n",
       "        22.,  21.,  20.,  19.,  18.,  17.,  13.,   0.])"
      ]
     },
     "execution_count": 29,
     "metadata": {},
     "output_type": "execute_result"
    }
   ],
   "source": [
    "shows['R Rating'].unique()"
   ]
  },
  {
   "cell_type": "code",
   "execution_count": 30,
   "metadata": {},
   "outputs": [],
   "source": [
    "shows = shows.rename(columns={\"Series Title\":\"Series_Title\", \"R Rating\": \"Rotten_Tomatoes\", \"Year Released\": \"Released_Year\", \"IMDB Rating\": \"IMDB_Rating\", \"No of Seasons\": \"No_of_Seasons\", \"Content Rating\": \"Content_Rating\", \"Streaming Platform\" : \"Streaming_Platform\"})"
   ]
  },
  {
   "cell_type": "code",
   "execution_count": 31,
   "metadata": {},
   "outputs": [
    {
     "data": {
      "text/html": [
       "<div>\n",
       "<style scoped>\n",
       "    .dataframe tbody tr th:only-of-type {\n",
       "        vertical-align: middle;\n",
       "    }\n",
       "\n",
       "    .dataframe tbody tr th {\n",
       "        vertical-align: top;\n",
       "    }\n",
       "\n",
       "    .dataframe thead th {\n",
       "        text-align: right;\n",
       "    }\n",
       "</style>\n",
       "<table border=\"1\" class=\"dataframe\">\n",
       "  <thead>\n",
       "    <tr style=\"text-align: right;\">\n",
       "      <th></th>\n",
       "      <th>Series_ID</th>\n",
       "      <th>Series_Title</th>\n",
       "      <th>Released_Year</th>\n",
       "      <th>Content_Rating</th>\n",
       "      <th>IMDB_Rating</th>\n",
       "      <th>Rotten_Tomatoes</th>\n",
       "      <th>Genre</th>\n",
       "      <th>Description</th>\n",
       "      <th>No_of_Seasons</th>\n",
       "      <th>Streaming_Platform</th>\n",
       "    </tr>\n",
       "  </thead>\n",
       "  <tbody>\n",
       "    <tr>\n",
       "      <th>0</th>\n",
       "      <td>1</td>\n",
       "      <td>Breaking Bad</td>\n",
       "      <td>2008</td>\n",
       "      <td>18+</td>\n",
       "      <td>9.5</td>\n",
       "      <td>100.0</td>\n",
       "      <td>Crime,Drama</td>\n",
       "      <td>When Walter White, a New Mexico chemistry teac...</td>\n",
       "      <td>5</td>\n",
       "      <td>Netflix</td>\n",
       "    </tr>\n",
       "    <tr>\n",
       "      <th>1</th>\n",
       "      <td>2</td>\n",
       "      <td>Game of Thrones</td>\n",
       "      <td>2011</td>\n",
       "      <td>18+</td>\n",
       "      <td>9.3</td>\n",
       "      <td>99.0</td>\n",
       "      <td>Action &amp; Adventure,Drama</td>\n",
       "      <td>Seven noble families fight for control of the ...</td>\n",
       "      <td>8</td>\n",
       "      <td>HBO MAX,HBO</td>\n",
       "    </tr>\n",
       "    <tr>\n",
       "      <th>2</th>\n",
       "      <td>3</td>\n",
       "      <td>Rick and Morty</td>\n",
       "      <td>2013</td>\n",
       "      <td>18+</td>\n",
       "      <td>9.2</td>\n",
       "      <td>97.0</td>\n",
       "      <td>Animation,Comedy</td>\n",
       "      <td>Rick is a mentally-unbalanced but scientifical...</td>\n",
       "      <td>4</td>\n",
       "      <td>Free Services,HBO MAX,Hulu</td>\n",
       "    </tr>\n",
       "    <tr>\n",
       "      <th>3</th>\n",
       "      <td>4</td>\n",
       "      <td>Stranger Things</td>\n",
       "      <td>2016</td>\n",
       "      <td>16+</td>\n",
       "      <td>8.8</td>\n",
       "      <td>96.0</td>\n",
       "      <td>Drama,Fantasy</td>\n",
       "      <td>When a young boy vanishes, a small town uncove...</td>\n",
       "      <td>3</td>\n",
       "      <td>Netflix</td>\n",
       "    </tr>\n",
       "    <tr>\n",
       "      <th>4</th>\n",
       "      <td>5</td>\n",
       "      <td>The Boys</td>\n",
       "      <td>2019</td>\n",
       "      <td>18+</td>\n",
       "      <td>8.7</td>\n",
       "      <td>95.0</td>\n",
       "      <td>Action &amp; Adventure,Comedy</td>\n",
       "      <td>A group of vigilantes known informally as “The...</td>\n",
       "      <td>2</td>\n",
       "      <td>Prime Video</td>\n",
       "    </tr>\n",
       "  </tbody>\n",
       "</table>\n",
       "</div>"
      ],
      "text/plain": [
       "   Series_ID     Series_Title  Released_Year Content_Rating  IMDB_Rating  \\\n",
       "0          1     Breaking Bad           2008            18+          9.5   \n",
       "1          2  Game of Thrones           2011            18+          9.3   \n",
       "2          3   Rick and Morty           2013            18+          9.2   \n",
       "3          4  Stranger Things           2016            16+          8.8   \n",
       "4          5         The Boys           2019            18+          8.7   \n",
       "\n",
       "   Rotten_Tomatoes                      Genre  \\\n",
       "0            100.0                Crime,Drama   \n",
       "1             99.0   Action & Adventure,Drama   \n",
       "2             97.0           Animation,Comedy   \n",
       "3             96.0              Drama,Fantasy   \n",
       "4             95.0  Action & Adventure,Comedy   \n",
       "\n",
       "                                         Description No_of_Seasons  \\\n",
       "0  When Walter White, a New Mexico chemistry teac...             5   \n",
       "1  Seven noble families fight for control of the ...             8   \n",
       "2  Rick is a mentally-unbalanced but scientifical...             4   \n",
       "3  When a young boy vanishes, a small town uncove...             3   \n",
       "4  A group of vigilantes known informally as “The...             2   \n",
       "\n",
       "           Streaming_Platform  \n",
       "0                     Netflix  \n",
       "1                 HBO MAX,HBO  \n",
       "2  Free Services,HBO MAX,Hulu  \n",
       "3                     Netflix  \n",
       "4                 Prime Video  "
      ]
     },
     "execution_count": 31,
     "metadata": {},
     "output_type": "execute_result"
    }
   ],
   "source": [
    "shows.head()"
   ]
  },
  {
   "cell_type": "code",
   "execution_count": 32,
   "metadata": {},
   "outputs": [
    {
     "name": "stdout",
     "output_type": "stream",
     "text": [
      "<class 'pandas.core.frame.DataFrame'>\n",
      "Int64Index: 10207 entries, 0 to 12071\n",
      "Data columns (total 10 columns):\n",
      "Series_ID             10207 non-null int32\n",
      "Series_Title          10207 non-null object\n",
      "Released_Year         10207 non-null int64\n",
      "Content_Rating        10207 non-null object\n",
      "IMDB_Rating           10207 non-null float64\n",
      "Rotten_Tomatoes       10207 non-null float64\n",
      "Genre                 10207 non-null object\n",
      "Description           10207 non-null object\n",
      "No_of_Seasons         10207 non-null object\n",
      "Streaming_Platform    10207 non-null object\n",
      "dtypes: float64(2), int32(1), int64(1), object(6)\n",
      "memory usage: 837.3+ KB\n"
     ]
    }
   ],
   "source": [
    "shows.info()"
   ]
  },
  {
   "cell_type": "code",
   "execution_count": 33,
   "metadata": {},
   "outputs": [
    {
     "name": "stdout",
     "output_type": "stream",
     "text": [
      "0.0\n",
      "100.0\n",
      "50.8235524639953\n"
     ]
    }
   ],
   "source": [
    "print(shows['Rotten_Tomatoes'].min())\n",
    "print(shows['Rotten_Tomatoes'].max())\n",
    "print(shows['Rotten_Tomatoes'].mean())"
   ]
  },
  {
   "cell_type": "code",
   "execution_count": 34,
   "metadata": {},
   "outputs": [
    {
     "data": {
      "text/plain": [
       "48.0     283\n",
       "45.0     270\n",
       "44.0     270\n",
       "46.0     270\n",
       "47.0     270\n",
       "49.0     267\n",
       "53.0     265\n",
       "50.0     262\n",
       "55.0     261\n",
       "52.0     256\n",
       "42.0     253\n",
       "51.0     247\n",
       "54.0     240\n",
       "56.0     234\n",
       "57.0     230\n",
       "43.0     227\n",
       "40.0     224\n",
       "41.0     217\n",
       "58.0     214\n",
       "59.0     214\n",
       "39.0     213\n",
       "60.0     204\n",
       "63.0     202\n",
       "36.0     198\n",
       "61.0     198\n",
       "38.0     195\n",
       "37.0     190\n",
       "34.0     181\n",
       "62.0     179\n",
       "66.0     178\n",
       "        ... \n",
       "80.0      54\n",
       "79.0      53\n",
       "77.0      51\n",
       "22.0      47\n",
       "81.0      44\n",
       "82.0      38\n",
       "84.0      37\n",
       "21.0      33\n",
       "83.0      33\n",
       "85.0      24\n",
       "86.0      23\n",
       "20.0      21\n",
       "90.0      17\n",
       "88.0      16\n",
       "87.0      16\n",
       "91.0      15\n",
       "89.0      12\n",
       "92.0       9\n",
       "94.0       4\n",
       "95.0       3\n",
       "93.0       3\n",
       "19.0       3\n",
       "0.0        2\n",
       "18.0       1\n",
       "99.0       1\n",
       "13.0       1\n",
       "97.0       1\n",
       "17.0       1\n",
       "96.0       1\n",
       "100.0      1\n",
       "Name: Rotten_Tomatoes, Length: 85, dtype: int64"
      ]
     },
     "execution_count": 34,
     "metadata": {},
     "output_type": "execute_result"
    }
   ],
   "source": [
    "shows['Rotten_Tomatoes'].value_counts()"
   ]
  },
  {
   "cell_type": "code",
   "execution_count": 35,
   "metadata": {},
   "outputs": [
    {
     "name": "stdout",
     "output_type": "stream",
     "text": [
      "AxesSubplot(0.125,0.125;0.775x0.755)\n"
     ]
    },
    {
     "data": {
      "image/png": "[encoded data removed]",
      "text/plain": [
       "<Figure size 432x288 with 1 Axes>"
      ]
     },
     "metadata": {
      "needs_background": "light"
     },
     "output_type": "display_data"
    }
   ],
   "source": [
    "import matplotlib as plt\n",
    "import seaborn as sns\n",
    "%matplotlib inline \n",
    "x = shows['Rotten_Tomatoes']\n",
    "print(sns.distplot(x))"
   ]
  },
  {
   "cell_type": "code",
   "execution_count": 36,
   "metadata": {},
   "outputs": [
    {
     "name": "stdout",
     "output_type": "stream",
     "text": [
      "AxesSubplot(0.125,0.125;0.775x0.755)\n"
     ]
    },
    {
     "data": {
      "image/png": "[encoded data removed]",
      "text/plain": [
       "<Figure size 432x288 with 1 Axes>"
      ]
     },
     "metadata": {
      "needs_background": "light"
     },
     "output_type": "display_data"
    }
   ],
   "source": [
    "y = shows['IMDB_Rating']\n",
    "print(sns.distplot(y))"
   ]
  },
  {
   "cell_type": "code",
   "execution_count": 37,
   "metadata": {},
   "outputs": [
    {
     "name": "stdout",
     "output_type": "stream",
     "text": [
      "1.0\n",
      "9.7\n",
      "6.973155677476236\n"
     ]
    }
   ],
   "source": [
    "print(shows['IMDB_Rating'].min())\n",
    "print(shows['IMDB_Rating'].max())\n",
    "print(shows['IMDB_Rating'].mean())"
   ]
  },
  {
   "cell_type": "code",
   "execution_count": 38,
   "metadata": {},
   "outputs": [
    {
     "data": {
      "text/html": [
       "<div>\n",
       "<style scoped>\n",
       "    .dataframe tbody tr th:only-of-type {\n",
       "        vertical-align: middle;\n",
       "    }\n",
       "\n",
       "    .dataframe tbody tr th {\n",
       "        vertical-align: top;\n",
       "    }\n",
       "\n",
       "    .dataframe thead th {\n",
       "        text-align: right;\n",
       "    }\n",
       "</style>\n",
       "<table border=\"1\" class=\"dataframe\">\n",
       "  <thead>\n",
       "    <tr style=\"text-align: right;\">\n",
       "      <th></th>\n",
       "      <th>Series_ID</th>\n",
       "      <th>Series_Title</th>\n",
       "      <th>Released_Year</th>\n",
       "      <th>Content_Rating</th>\n",
       "      <th>IMDB_Rating</th>\n",
       "      <th>Rotten_Tomatoes</th>\n",
       "      <th>Genre</th>\n",
       "      <th>Description</th>\n",
       "      <th>No_of_Seasons</th>\n",
       "      <th>Streaming_Platform</th>\n",
       "    </tr>\n",
       "  </thead>\n",
       "  <tbody>\n",
       "    <tr>\n",
       "      <th>12068</th>\n",
       "      <td>12069</td>\n",
       "      <td>Battles BC</td>\n",
       "      <td>2009</td>\n",
       "      <td>7+</td>\n",
       "      <td>7.7</td>\n",
       "      <td>0.0</td>\n",
       "      <td>Documentary,Action &amp; Adventure</td>\n",
       "      <td>Battles BC is a 2009 documentary series lookin...</td>\n",
       "      <td>1</td>\n",
       "      <td>unknown</td>\n",
       "    </tr>\n",
       "    <tr>\n",
       "      <th>12071</th>\n",
       "      <td>12072</td>\n",
       "      <td>Lost Worlds</td>\n",
       "      <td>2006</td>\n",
       "      <td>all</td>\n",
       "      <td>7.5</td>\n",
       "      <td>0.0</td>\n",
       "      <td>Documentary,History</td>\n",
       "      <td>Lost Worlds is a documentary television series...</td>\n",
       "      <td>2</td>\n",
       "      <td>unknown</td>\n",
       "    </tr>\n",
       "  </tbody>\n",
       "</table>\n",
       "</div>"
      ],
      "text/plain": [
       "       Series_ID Series_Title  Released_Year Content_Rating  IMDB_Rating  \\\n",
       "12068      12069   Battles BC           2009             7+          7.7   \n",
       "12071      12072  Lost Worlds           2006            all          7.5   \n",
       "\n",
       "       Rotten_Tomatoes                           Genre  \\\n",
       "12068              0.0  Documentary,Action & Adventure   \n",
       "12071              0.0             Documentary,History   \n",
       "\n",
       "                                             Description No_of_Seasons  \\\n",
       "12068  Battles BC is a 2009 documentary series lookin...             1   \n",
       "12071  Lost Worlds is a documentary television series...             2   \n",
       "\n",
       "      Streaming_Platform  \n",
       "12068            unknown  \n",
       "12071            unknown  "
      ]
     },
     "execution_count": 38,
     "metadata": {},
     "output_type": "execute_result"
    }
   ],
   "source": [
    "shows.loc[shows['Rotten_Tomatoes'] == 0.0]"
   ]
  },
  {
   "cell_type": "code",
   "execution_count": 39,
   "metadata": {},
   "outputs": [],
   "source": [
    "shows['Rotten_Tomatoes'] = shows['Rotten_Tomatoes'].astype('int64')"
   ]
  },
  {
   "cell_type": "code",
   "execution_count": 40,
   "metadata": {},
   "outputs": [
    {
     "name": "stdout",
     "output_type": "stream",
     "text": [
      "<class 'pandas.core.frame.DataFrame'>\n",
      "Int64Index: 10207 entries, 0 to 12071\n",
      "Data columns (total 10 columns):\n",
      "Series_ID             10207 non-null int32\n",
      "Series_Title          10207 non-null object\n",
      "Released_Year         10207 non-null int64\n",
      "Content_Rating        10207 non-null object\n",
      "IMDB_Rating           10207 non-null float64\n",
      "Rotten_Tomatoes       10207 non-null int64\n",
      "Genre                 10207 non-null object\n",
      "Description           10207 non-null object\n",
      "No_of_Seasons         10207 non-null object\n",
      "Streaming_Platform    10207 non-null object\n",
      "dtypes: float64(1), int32(1), int64(2), object(6)\n",
      "memory usage: 837.3+ KB\n"
     ]
    }
   ],
   "source": [
    "shows.info()"
   ]
  },
  {
   "cell_type": "code",
   "execution_count": 41,
   "metadata": {},
   "outputs": [
    {
     "data": {
      "text/plain": [
       "(10207, 10)"
      ]
     },
     "execution_count": 41,
     "metadata": {},
     "output_type": "execute_result"
    }
   ],
   "source": [
    "shows.shape"
   ]
  },
  {
   "cell_type": "code",
   "execution_count": 42,
   "metadata": {},
   "outputs": [],
   "source": [
    "v = shows['IMDB_Rating']\n",
    "R = shows['Rotten_Tomatoes']\n",
    "C = shows['Rotten_Tomatoes'].mean()\n",
    "m = shows['IMDB_Rating'].quantile(0.75)"
   ]
  },
  {
   "cell_type": "code",
   "execution_count": 43,
   "metadata": {},
   "outputs": [],
   "source": [
    "shows['weighted_average'] = ((R*v) + (C*m))/(v+m)"
   ]
  },
  {
   "cell_type": "code",
   "execution_count": 44,
   "metadata": {},
   "outputs": [
    {
     "data": {
      "text/html": [
       "<div>\n",
       "<style scoped>\n",
       "    .dataframe tbody tr th:only-of-type {\n",
       "        vertical-align: middle;\n",
       "    }\n",
       "\n",
       "    .dataframe tbody tr th {\n",
       "        vertical-align: top;\n",
       "    }\n",
       "\n",
       "    .dataframe thead th {\n",
       "        text-align: right;\n",
       "    }\n",
       "</style>\n",
       "<table border=\"1\" class=\"dataframe\">\n",
       "  <thead>\n",
       "    <tr style=\"text-align: right;\">\n",
       "      <th></th>\n",
       "      <th>Series_ID</th>\n",
       "      <th>Series_Title</th>\n",
       "      <th>Released_Year</th>\n",
       "      <th>Content_Rating</th>\n",
       "      <th>IMDB_Rating</th>\n",
       "      <th>Rotten_Tomatoes</th>\n",
       "      <th>Genre</th>\n",
       "      <th>Description</th>\n",
       "      <th>No_of_Seasons</th>\n",
       "      <th>Streaming_Platform</th>\n",
       "      <th>weighted_average</th>\n",
       "    </tr>\n",
       "  </thead>\n",
       "  <tbody>\n",
       "    <tr>\n",
       "      <th>0</th>\n",
       "      <td>1</td>\n",
       "      <td>Breaking Bad</td>\n",
       "      <td>2008</td>\n",
       "      <td>18+</td>\n",
       "      <td>9.5</td>\n",
       "      <td>100</td>\n",
       "      <td>Crime,Drama</td>\n",
       "      <td>When Walter White, a New Mexico chemistry teac...</td>\n",
       "      <td>5</td>\n",
       "      <td>Netflix</td>\n",
       "      <td>77.827960</td>\n",
       "    </tr>\n",
       "    <tr>\n",
       "      <th>1</th>\n",
       "      <td>2</td>\n",
       "      <td>Game of Thrones</td>\n",
       "      <td>2011</td>\n",
       "      <td>18+</td>\n",
       "      <td>9.3</td>\n",
       "      <td>99</td>\n",
       "      <td>Action &amp; Adventure,Drama</td>\n",
       "      <td>Seven noble families fight for control of the ...</td>\n",
       "      <td>8</td>\n",
       "      <td>HBO MAX,HBO</td>\n",
       "      <td>77.024778</td>\n",
       "    </tr>\n",
       "    <tr>\n",
       "      <th>2</th>\n",
       "      <td>3</td>\n",
       "      <td>Rick and Morty</td>\n",
       "      <td>2013</td>\n",
       "      <td>18+</td>\n",
       "      <td>9.2</td>\n",
       "      <td>97</td>\n",
       "      <td>Animation,Comedy</td>\n",
       "      <td>Rick is a mentally-unbalanced but scientifical...</td>\n",
       "      <td>4</td>\n",
       "      <td>Free Services,HBO MAX,Hulu</td>\n",
       "      <td>75.813159</td>\n",
       "    </tr>\n",
       "    <tr>\n",
       "      <th>3</th>\n",
       "      <td>4</td>\n",
       "      <td>Stranger Things</td>\n",
       "      <td>2016</td>\n",
       "      <td>16+</td>\n",
       "      <td>8.8</td>\n",
       "      <td>96</td>\n",
       "      <td>Drama,Fantasy</td>\n",
       "      <td>When a young boy vanishes, a small town uncove...</td>\n",
       "      <td>3</td>\n",
       "      <td>Netflix</td>\n",
       "      <td>74.772513</td>\n",
       "    </tr>\n",
       "    <tr>\n",
       "      <th>4</th>\n",
       "      <td>5</td>\n",
       "      <td>The Boys</td>\n",
       "      <td>2019</td>\n",
       "      <td>18+</td>\n",
       "      <td>8.7</td>\n",
       "      <td>95</td>\n",
       "      <td>Action &amp; Adventure,Comedy</td>\n",
       "      <td>A group of vigilantes known informally as “The...</td>\n",
       "      <td>2</td>\n",
       "      <td>Prime Video</td>\n",
       "      <td>74.116588</td>\n",
       "    </tr>\n",
       "  </tbody>\n",
       "</table>\n",
       "</div>"
      ],
      "text/plain": [
       "   Series_ID     Series_Title  Released_Year Content_Rating  IMDB_Rating  \\\n",
       "0          1     Breaking Bad           2008            18+          9.5   \n",
       "1          2  Game of Thrones           2011            18+          9.3   \n",
       "2          3   Rick and Morty           2013            18+          9.2   \n",
       "3          4  Stranger Things           2016            16+          8.8   \n",
       "4          5         The Boys           2019            18+          8.7   \n",
       "\n",
       "   Rotten_Tomatoes                      Genre  \\\n",
       "0              100                Crime,Drama   \n",
       "1               99   Action & Adventure,Drama   \n",
       "2               97           Animation,Comedy   \n",
       "3               96              Drama,Fantasy   \n",
       "4               95  Action & Adventure,Comedy   \n",
       "\n",
       "                                         Description No_of_Seasons  \\\n",
       "0  When Walter White, a New Mexico chemistry teac...             5   \n",
       "1  Seven noble families fight for control of the ...             8   \n",
       "2  Rick is a mentally-unbalanced but scientifical...             4   \n",
       "3  When a young boy vanishes, a small town uncove...             3   \n",
       "4  A group of vigilantes known informally as “The...             2   \n",
       "\n",
       "           Streaming_Platform  weighted_average  \n",
       "0                     Netflix         77.827960  \n",
       "1                 HBO MAX,HBO         77.024778  \n",
       "2  Free Services,HBO MAX,Hulu         75.813159  \n",
       "3                     Netflix         74.772513  \n",
       "4                 Prime Video         74.116588  "
      ]
     },
     "execution_count": 44,
     "metadata": {},
     "output_type": "execute_result"
    }
   ],
   "source": [
    "shows.head()"
   ]
  },
  {
   "cell_type": "code",
   "execution_count": 45,
   "metadata": {},
   "outputs": [
    {
     "data": {
      "text/html": [
       "<div>\n",
       "<style scoped>\n",
       "    .dataframe tbody tr th:only-of-type {\n",
       "        vertical-align: middle;\n",
       "    }\n",
       "\n",
       "    .dataframe tbody tr th {\n",
       "        vertical-align: top;\n",
       "    }\n",
       "\n",
       "    .dataframe thead th {\n",
       "        text-align: right;\n",
       "    }\n",
       "</style>\n",
       "<table border=\"1\" class=\"dataframe\">\n",
       "  <thead>\n",
       "    <tr style=\"text-align: right;\">\n",
       "      <th></th>\n",
       "      <th>Series_ID</th>\n",
       "      <th>Series_Title</th>\n",
       "      <th>Released_Year</th>\n",
       "      <th>Content_Rating</th>\n",
       "      <th>IMDB_Rating</th>\n",
       "      <th>Rotten_Tomatoes</th>\n",
       "      <th>Genre</th>\n",
       "      <th>Description</th>\n",
       "      <th>No_of_Seasons</th>\n",
       "      <th>Streaming_Platform</th>\n",
       "      <th>weighted_average</th>\n",
       "    </tr>\n",
       "  </thead>\n",
       "  <tbody>\n",
       "    <tr>\n",
       "      <th>0</th>\n",
       "      <td>1</td>\n",
       "      <td>Breaking Bad</td>\n",
       "      <td>2008</td>\n",
       "      <td>18+</td>\n",
       "      <td>9.5</td>\n",
       "      <td>100</td>\n",
       "      <td>Crime,Drama</td>\n",
       "      <td>When Walter White, a New Mexico chemistry teac...</td>\n",
       "      <td>5</td>\n",
       "      <td>Netflix</td>\n",
       "      <td>77.827960</td>\n",
       "    </tr>\n",
       "    <tr>\n",
       "      <th>1</th>\n",
       "      <td>2</td>\n",
       "      <td>Game of Thrones</td>\n",
       "      <td>2011</td>\n",
       "      <td>18+</td>\n",
       "      <td>9.3</td>\n",
       "      <td>99</td>\n",
       "      <td>Action &amp; Adventure,Drama</td>\n",
       "      <td>Seven noble families fight for control of the ...</td>\n",
       "      <td>8</td>\n",
       "      <td>HBO MAX,HBO</td>\n",
       "      <td>77.024778</td>\n",
       "    </tr>\n",
       "    <tr>\n",
       "      <th>2</th>\n",
       "      <td>3</td>\n",
       "      <td>Rick and Morty</td>\n",
       "      <td>2013</td>\n",
       "      <td>18+</td>\n",
       "      <td>9.2</td>\n",
       "      <td>97</td>\n",
       "      <td>Animation,Comedy</td>\n",
       "      <td>Rick is a mentally-unbalanced but scientifical...</td>\n",
       "      <td>4</td>\n",
       "      <td>Free Services,HBO MAX,Hulu</td>\n",
       "      <td>75.813159</td>\n",
       "    </tr>\n",
       "    <tr>\n",
       "      <th>6</th>\n",
       "      <td>7</td>\n",
       "      <td>Chernobyl</td>\n",
       "      <td>2019</td>\n",
       "      <td>18+</td>\n",
       "      <td>9.4</td>\n",
       "      <td>95</td>\n",
       "      <td>Drama,History</td>\n",
       "      <td>The true story of one of the worst man-made ca...</td>\n",
       "      <td>1</td>\n",
       "      <td>HBO MAX,HBO</td>\n",
       "      <td>74.966495</td>\n",
       "    </tr>\n",
       "    <tr>\n",
       "      <th>3</th>\n",
       "      <td>4</td>\n",
       "      <td>Stranger Things</td>\n",
       "      <td>2016</td>\n",
       "      <td>16+</td>\n",
       "      <td>8.8</td>\n",
       "      <td>96</td>\n",
       "      <td>Drama,Fantasy</td>\n",
       "      <td>When a young boy vanishes, a small town uncove...</td>\n",
       "      <td>3</td>\n",
       "      <td>Netflix</td>\n",
       "      <td>74.772513</td>\n",
       "    </tr>\n",
       "  </tbody>\n",
       "</table>\n",
       "</div>"
      ],
      "text/plain": [
       "   Series_ID     Series_Title  Released_Year Content_Rating  IMDB_Rating  \\\n",
       "0          1     Breaking Bad           2008            18+          9.5   \n",
       "1          2  Game of Thrones           2011            18+          9.3   \n",
       "2          3   Rick and Morty           2013            18+          9.2   \n",
       "6          7        Chernobyl           2019            18+          9.4   \n",
       "3          4  Stranger Things           2016            16+          8.8   \n",
       "\n",
       "   Rotten_Tomatoes                     Genre  \\\n",
       "0              100               Crime,Drama   \n",
       "1               99  Action & Adventure,Drama   \n",
       "2               97          Animation,Comedy   \n",
       "6               95             Drama,History   \n",
       "3               96             Drama,Fantasy   \n",
       "\n",
       "                                         Description No_of_Seasons  \\\n",
       "0  When Walter White, a New Mexico chemistry teac...             5   \n",
       "1  Seven noble families fight for control of the ...             8   \n",
       "2  Rick is a mentally-unbalanced but scientifical...             4   \n",
       "6  The true story of one of the worst man-made ca...             1   \n",
       "3  When a young boy vanishes, a small town uncove...             3   \n",
       "\n",
       "           Streaming_Platform  weighted_average  \n",
       "0                     Netflix         77.827960  \n",
       "1                 HBO MAX,HBO         77.024778  \n",
       "2  Free Services,HBO MAX,Hulu         75.813159  \n",
       "6                 HBO MAX,HBO         74.966495  \n",
       "3                     Netflix         74.772513  "
      ]
     },
     "execution_count": 45,
     "metadata": {},
     "output_type": "execute_result"
    }
   ],
   "source": [
    "shows_rating = shows.sort_values('weighted_average', ascending = False)\n",
    "shows_rating.head()"
   ]
  },
  {
   "cell_type": "code",
   "execution_count": 46,
   "metadata": {},
   "outputs": [
    {
     "data": {
      "text/html": [
       "<div>\n",
       "<style scoped>\n",
       "    .dataframe tbody tr th:only-of-type {\n",
       "        vertical-align: middle;\n",
       "    }\n",
       "\n",
       "    .dataframe tbody tr th {\n",
       "        vertical-align: top;\n",
       "    }\n",
       "\n",
       "    .dataframe thead th {\n",
       "        text-align: right;\n",
       "    }\n",
       "</style>\n",
       "<table border=\"1\" class=\"dataframe\">\n",
       "  <thead>\n",
       "    <tr style=\"text-align: right;\">\n",
       "      <th></th>\n",
       "      <th>Series_ID</th>\n",
       "      <th>Series_Title</th>\n",
       "      <th>IMDB_Rating</th>\n",
       "      <th>Rotten_Tomatoes</th>\n",
       "      <th>weighted_average</th>\n",
       "    </tr>\n",
       "  </thead>\n",
       "  <tbody>\n",
       "    <tr>\n",
       "      <th>0</th>\n",
       "      <td>1</td>\n",
       "      <td>Breaking Bad</td>\n",
       "      <td>9.5</td>\n",
       "      <td>100</td>\n",
       "      <td>77.827960</td>\n",
       "    </tr>\n",
       "    <tr>\n",
       "      <th>1</th>\n",
       "      <td>2</td>\n",
       "      <td>Game of Thrones</td>\n",
       "      <td>9.3</td>\n",
       "      <td>99</td>\n",
       "      <td>77.024778</td>\n",
       "    </tr>\n",
       "    <tr>\n",
       "      <th>2</th>\n",
       "      <td>3</td>\n",
       "      <td>Rick and Morty</td>\n",
       "      <td>9.2</td>\n",
       "      <td>97</td>\n",
       "      <td>75.813159</td>\n",
       "    </tr>\n",
       "    <tr>\n",
       "      <th>6</th>\n",
       "      <td>7</td>\n",
       "      <td>Chernobyl</td>\n",
       "      <td>9.4</td>\n",
       "      <td>95</td>\n",
       "      <td>74.966495</td>\n",
       "    </tr>\n",
       "    <tr>\n",
       "      <th>3</th>\n",
       "      <td>4</td>\n",
       "      <td>Stranger Things</td>\n",
       "      <td>8.8</td>\n",
       "      <td>96</td>\n",
       "      <td>74.772513</td>\n",
       "    </tr>\n",
       "  </tbody>\n",
       "</table>\n",
       "</div>"
      ],
      "text/plain": [
       "   Series_ID     Series_Title  IMDB_Rating  Rotten_Tomatoes  weighted_average\n",
       "0          1     Breaking Bad          9.5              100         77.827960\n",
       "1          2  Game of Thrones          9.3               99         77.024778\n",
       "2          3   Rick and Morty          9.2               97         75.813159\n",
       "6          7        Chernobyl          9.4               95         74.966495\n",
       "3          4  Stranger Things          8.8               96         74.772513"
      ]
     },
     "execution_count": 46,
     "metadata": {},
     "output_type": "execute_result"
    }
   ],
   "source": [
    "shows_rating[['Series_ID','Series_Title', 'IMDB_Rating', 'Rotten_Tomatoes', 'weighted_average']].head()"
   ]
  },
  {
   "cell_type": "markdown",
   "metadata": {},
   "source": [
    "#### Drawing Graph"
   ]
  },
  {
   "cell_type": "code",
   "execution_count": 47,
   "metadata": {},
   "outputs": [
    {
     "data": {
      "text/html": [
       "<div>\n",
       "<style scoped>\n",
       "    .dataframe tbody tr th:only-of-type {\n",
       "        vertical-align: middle;\n",
       "    }\n",
       "\n",
       "    .dataframe tbody tr th {\n",
       "        vertical-align: top;\n",
       "    }\n",
       "\n",
       "    .dataframe thead th {\n",
       "        text-align: right;\n",
       "    }\n",
       "</style>\n",
       "<table border=\"1\" class=\"dataframe\">\n",
       "  <thead>\n",
       "    <tr style=\"text-align: right;\">\n",
       "      <th></th>\n",
       "      <th>Series_ID</th>\n",
       "      <th>Series_Title</th>\n",
       "      <th>Released_Year</th>\n",
       "      <th>Content_Rating</th>\n",
       "      <th>IMDB_Rating</th>\n",
       "      <th>Rotten_Tomatoes</th>\n",
       "      <th>Genre</th>\n",
       "      <th>Description</th>\n",
       "      <th>No_of_Seasons</th>\n",
       "      <th>Streaming_Platform</th>\n",
       "      <th>weighted_average</th>\n",
       "    </tr>\n",
       "  </thead>\n",
       "  <tbody>\n",
       "    <tr>\n",
       "      <th>0</th>\n",
       "      <td>1</td>\n",
       "      <td>Breaking Bad</td>\n",
       "      <td>2008</td>\n",
       "      <td>18+</td>\n",
       "      <td>9.5</td>\n",
       "      <td>100</td>\n",
       "      <td>Crime,Drama</td>\n",
       "      <td>When Walter White, a New Mexico chemistry teac...</td>\n",
       "      <td>5</td>\n",
       "      <td>Netflix</td>\n",
       "      <td>77.827960</td>\n",
       "    </tr>\n",
       "    <tr>\n",
       "      <th>1</th>\n",
       "      <td>2</td>\n",
       "      <td>Game of Thrones</td>\n",
       "      <td>2011</td>\n",
       "      <td>18+</td>\n",
       "      <td>9.3</td>\n",
       "      <td>99</td>\n",
       "      <td>Action &amp; Adventure,Drama</td>\n",
       "      <td>Seven noble families fight for control of the ...</td>\n",
       "      <td>8</td>\n",
       "      <td>HBO MAX,HBO</td>\n",
       "      <td>77.024778</td>\n",
       "    </tr>\n",
       "    <tr>\n",
       "      <th>2</th>\n",
       "      <td>3</td>\n",
       "      <td>Rick and Morty</td>\n",
       "      <td>2013</td>\n",
       "      <td>18+</td>\n",
       "      <td>9.2</td>\n",
       "      <td>97</td>\n",
       "      <td>Animation,Comedy</td>\n",
       "      <td>Rick is a mentally-unbalanced but scientifical...</td>\n",
       "      <td>4</td>\n",
       "      <td>Free Services,HBO MAX,Hulu</td>\n",
       "      <td>75.813159</td>\n",
       "    </tr>\n",
       "    <tr>\n",
       "      <th>6</th>\n",
       "      <td>7</td>\n",
       "      <td>Chernobyl</td>\n",
       "      <td>2019</td>\n",
       "      <td>18+</td>\n",
       "      <td>9.4</td>\n",
       "      <td>95</td>\n",
       "      <td>Drama,History</td>\n",
       "      <td>The true story of one of the worst man-made ca...</td>\n",
       "      <td>1</td>\n",
       "      <td>HBO MAX,HBO</td>\n",
       "      <td>74.966495</td>\n",
       "    </tr>\n",
       "    <tr>\n",
       "      <th>3</th>\n",
       "      <td>4</td>\n",
       "      <td>Stranger Things</td>\n",
       "      <td>2016</td>\n",
       "      <td>16+</td>\n",
       "      <td>8.8</td>\n",
       "      <td>96</td>\n",
       "      <td>Drama,Fantasy</td>\n",
       "      <td>When a young boy vanishes, a small town uncove...</td>\n",
       "      <td>3</td>\n",
       "      <td>Netflix</td>\n",
       "      <td>74.772513</td>\n",
       "    </tr>\n",
       "  </tbody>\n",
       "</table>\n",
       "</div>"
      ],
      "text/plain": [
       "   Series_ID     Series_Title  Released_Year Content_Rating  IMDB_Rating  \\\n",
       "0          1     Breaking Bad           2008            18+          9.5   \n",
       "1          2  Game of Thrones           2011            18+          9.3   \n",
       "2          3   Rick and Morty           2013            18+          9.2   \n",
       "6          7        Chernobyl           2019            18+          9.4   \n",
       "3          4  Stranger Things           2016            16+          8.8   \n",
       "\n",
       "   Rotten_Tomatoes                     Genre  \\\n",
       "0              100               Crime,Drama   \n",
       "1               99  Action & Adventure,Drama   \n",
       "2               97          Animation,Comedy   \n",
       "6               95             Drama,History   \n",
       "3               96             Drama,Fantasy   \n",
       "\n",
       "                                         Description No_of_Seasons  \\\n",
       "0  When Walter White, a New Mexico chemistry teac...             5   \n",
       "1  Seven noble families fight for control of the ...             8   \n",
       "2  Rick is a mentally-unbalanced but scientifical...             4   \n",
       "6  The true story of one of the worst man-made ca...             1   \n",
       "3  When a young boy vanishes, a small town uncove...             3   \n",
       "\n",
       "           Streaming_Platform  weighted_average  \n",
       "0                     Netflix         77.827960  \n",
       "1                 HBO MAX,HBO         77.024778  \n",
       "2  Free Services,HBO MAX,Hulu         75.813159  \n",
       "6                 HBO MAX,HBO         74.966495  \n",
       "3                     Netflix         74.772513  "
      ]
     },
     "execution_count": 47,
     "metadata": {},
     "output_type": "execute_result"
    }
   ],
   "source": [
    "weight_average = shows_rating.sort_values('weighted_average', ascending = False)\n",
    "weight_average.head()"
   ]
  },
  {
   "cell_type": "code",
   "execution_count": 48,
   "metadata": {},
   "outputs": [
    {
     "data": {
      "image/png": "[encoded data removed]",
      "text/plain": [
       "<Figure size 432x288 with 1 Axes>"
      ]
     },
     "metadata": {
      "needs_background": "light"
     },
     "output_type": "display_data"
    }
   ],
   "source": [
    "import matplotlib.pyplot as plt\n",
    "axis1 = sns.barplot(x = weight_average['weighted_average'].head(10), y = weight_average['Series_Title'].head(10), data = weight_average)\n",
    "\n",
    "plt.title('Top 10 Best Series', weight = 'bold')\n",
    "plt.xlabel('Weighted Average Score', weight = 'bold')\n",
    "plt.ylabel('Series Title', weight = 'bold')\n",
    "plt.savefig('bestseries.png')"
   ]
  },
  {
   "cell_type": "code",
   "execution_count": 49,
   "metadata": {},
   "outputs": [
    {
     "data": {
      "image/png": "[encoded data removed]",
      "text/plain": [
       "<Figure size 864x432 with 1 Axes>"
      ]
     },
     "metadata": {
      "needs_background": "light"
     },
     "output_type": "display_data"
    }
   ],
   "source": [
    "rotten_tomatoes_popularity = shows.sort_values('Rotten_Tomatoes', ascending = False)\n",
    "plt.figure(figsize = (12,6))\n",
    "ax = sns.barplot(x = rotten_tomatoes_popularity['Rotten_Tomatoes'].head(10), y = rotten_tomatoes_popularity['Series_Title'].head(10), data = rotten_tomatoes_popularity)\n",
    "\n",
    "plt.title('Top 10 Most popular shows by Rotten Tomatoes Popularity', weight = 'bold')\n",
    "plt.xlabel('Score of popularity', weight = 'bold')\n",
    "plt.ylabel('Series Title', weight = 'bold')\n",
    "plt.savefig('best_popular_series.png')"
   ]
  },
  {
   "cell_type": "code",
   "execution_count": 50,
   "metadata": {},
   "outputs": [
    {
     "data": {
      "image/png": "[encoded data removed]",
      "text/plain": [
       "<Figure size 864x432 with 1 Axes>"
      ]
     },
     "metadata": {
      "needs_background": "light"
     },
     "output_type": "display_data"
    }
   ],
   "source": [
    "imdb_rating_popularity = shows.sort_values('IMDB_Rating', ascending = False)\n",
    "plt.figure(figsize = (12,6))\n",
    "ax = sns.barplot(x = imdb_rating_popularity['IMDB_Rating'].head(10), y = imdb_rating_popularity['Series_Title'].head(10), data = imdb_rating_popularity)\n",
    "\n",
    "plt.title('Top 10 Most popular shows by IMDB Rating Popularity', weight = 'bold')\n",
    "plt.xlabel('Score of popularity_by_imdb', weight = 'bold')\n",
    "plt.ylabel('Series Title', weight = 'bold')\n",
    "plt.savefig('best_popular_series_by_imdb.png')"
   ]
  },
  {
   "cell_type": "markdown",
   "metadata": {},
   "source": [
    "#### Creating Model"
   ]
  },
  {
   "cell_type": "code",
   "execution_count": 51,
   "metadata": {},
   "outputs": [],
   "source": [
    "from sklearn.preprocessing import MinMaxScaler"
   ]
  },
  {
   "cell_type": "code",
   "execution_count": 52,
   "metadata": {},
   "outputs": [
    {
     "data": {
      "text/plain": [
       "0    77.827960\n",
       "1    77.024778\n",
       "2    75.813159\n",
       "3    74.772513\n",
       "4    74.116588\n",
       "Name: weighted_average, dtype: float64"
      ]
     },
     "execution_count": 52,
     "metadata": {},
     "output_type": "execute_result"
    }
   ],
   "source": [
    "shows['weighted_average'].head()"
   ]
  },
  {
   "cell_type": "code",
   "execution_count": 53,
   "metadata": {},
   "outputs": [
    {
     "name": "stdout",
     "output_type": "stream",
     "text": [
      "  weighted_average Rotten_Tomatoes IMDB_Rating\n",
      "0         1.000000            1.00    0.977011\n",
      "1         0.984629            0.99    0.954023\n",
      "2         0.961441            0.97    0.942529\n",
      "3         0.941525            0.96    0.896552\n",
      "4         0.928972            0.95    0.885057\n"
     ]
    }
   ],
   "source": [
    "Scaling = MinMaxScaler()\n",
    "series_scaled = Scaling.fit_transform(shows[['weighted_average', 'Rotten_Tomatoes', 'IMDB_Rating']])\n",
    "\n",
    "series_normalized = pd.DataFrame(series_scaled, columns = [['weighted_average', 'Rotten_Tomatoes', 'IMDB_Rating']])\n",
    "\n",
    "print(series_normalized.head())\n"
   ]
  },
  {
   "cell_type": "code",
   "execution_count": 54,
   "metadata": {},
   "outputs": [],
   "source": [
    "shows[['normalized_weighted_average', 'normalized_rotten_tomatoes_popularity', 'normalized_imdb_rating_popularity']] = series_normalized"
   ]
  },
  {
   "cell_type": "code",
   "execution_count": 55,
   "metadata": {},
   "outputs": [
    {
     "data": {
      "text/html": [
       "<div>\n",
       "<style scoped>\n",
       "    .dataframe tbody tr th:only-of-type {\n",
       "        vertical-align: middle;\n",
       "    }\n",
       "\n",
       "    .dataframe tbody tr th {\n",
       "        vertical-align: top;\n",
       "    }\n",
       "\n",
       "    .dataframe thead tr th {\n",
       "        text-align: left;\n",
       "    }\n",
       "</style>\n",
       "<table border=\"1\" class=\"dataframe\">\n",
       "  <thead>\n",
       "    <tr>\n",
       "      <th></th>\n",
       "      <th>weighted_average</th>\n",
       "      <th>Rotten_Tomatoes</th>\n",
       "      <th>IMDB_Rating</th>\n",
       "    </tr>\n",
       "  </thead>\n",
       "  <tbody>\n",
       "    <tr>\n",
       "      <th>0</th>\n",
       "      <td>1.000000</td>\n",
       "      <td>1.00</td>\n",
       "      <td>0.977011</td>\n",
       "    </tr>\n",
       "    <tr>\n",
       "      <th>1</th>\n",
       "      <td>0.984629</td>\n",
       "      <td>0.99</td>\n",
       "      <td>0.954023</td>\n",
       "    </tr>\n",
       "    <tr>\n",
       "      <th>2</th>\n",
       "      <td>0.961441</td>\n",
       "      <td>0.97</td>\n",
       "      <td>0.942529</td>\n",
       "    </tr>\n",
       "    <tr>\n",
       "      <th>3</th>\n",
       "      <td>0.941525</td>\n",
       "      <td>0.96</td>\n",
       "      <td>0.896552</td>\n",
       "    </tr>\n",
       "    <tr>\n",
       "      <th>4</th>\n",
       "      <td>0.928972</td>\n",
       "      <td>0.95</td>\n",
       "      <td>0.885057</td>\n",
       "    </tr>\n",
       "    <tr>\n",
       "      <th>5</th>\n",
       "      <td>0.931380</td>\n",
       "      <td>0.95</td>\n",
       "      <td>0.896552</td>\n",
       "    </tr>\n",
       "    <tr>\n",
       "      <th>6</th>\n",
       "      <td>0.945237</td>\n",
       "      <td>0.95</td>\n",
       "      <td>0.965517</td>\n",
       "    </tr>\n",
       "    <tr>\n",
       "      <th>7</th>\n",
       "      <td>0.928126</td>\n",
       "      <td>0.94</td>\n",
       "      <td>0.931034</td>\n",
       "    </tr>\n",
       "    <tr>\n",
       "      <th>8</th>\n",
       "      <td>0.923559</td>\n",
       "      <td>0.94</td>\n",
       "      <td>0.908046</td>\n",
       "    </tr>\n",
       "    <tr>\n",
       "      <th>9</th>\n",
       "      <td>0.930370</td>\n",
       "      <td>0.94</td>\n",
       "      <td>0.942529</td>\n",
       "    </tr>\n",
       "  </tbody>\n",
       "</table>\n",
       "</div>"
      ],
      "text/plain": [
       "  weighted_average Rotten_Tomatoes IMDB_Rating\n",
       "0         1.000000            1.00    0.977011\n",
       "1         0.984629            0.99    0.954023\n",
       "2         0.961441            0.97    0.942529\n",
       "3         0.941525            0.96    0.896552\n",
       "4         0.928972            0.95    0.885057\n",
       "5         0.931380            0.95    0.896552\n",
       "6         0.945237            0.95    0.965517\n",
       "7         0.928126            0.94    0.931034\n",
       "8         0.923559            0.94    0.908046\n",
       "9         0.930370            0.94    0.942529"
      ]
     },
     "execution_count": 55,
     "metadata": {},
     "output_type": "execute_result"
    }
   ],
   "source": [
    "series_normalized.head(10)"
   ]
  },
  {
   "cell_type": "code",
   "execution_count": 56,
   "metadata": {},
   "outputs": [
    {
     "data": {
      "text/html": [
       "<div>\n",
       "<style scoped>\n",
       "    .dataframe tbody tr th:only-of-type {\n",
       "        vertical-align: middle;\n",
       "    }\n",
       "\n",
       "    .dataframe tbody tr th {\n",
       "        vertical-align: top;\n",
       "    }\n",
       "\n",
       "    .dataframe thead th {\n",
       "        text-align: right;\n",
       "    }\n",
       "</style>\n",
       "<table border=\"1\" class=\"dataframe\">\n",
       "  <thead>\n",
       "    <tr style=\"text-align: right;\">\n",
       "      <th></th>\n",
       "      <th>Series_ID</th>\n",
       "      <th>Series_Title</th>\n",
       "      <th>Released_Year</th>\n",
       "      <th>Content_Rating</th>\n",
       "      <th>IMDB_Rating</th>\n",
       "      <th>Rotten_Tomatoes</th>\n",
       "      <th>Genre</th>\n",
       "      <th>Description</th>\n",
       "      <th>No_of_Seasons</th>\n",
       "      <th>Streaming_Platform</th>\n",
       "      <th>weighted_average</th>\n",
       "      <th>normalized_weighted_average</th>\n",
       "      <th>normalized_rotten_tomatoes_popularity</th>\n",
       "      <th>normalized_imdb_rating_popularity</th>\n",
       "    </tr>\n",
       "  </thead>\n",
       "  <tbody>\n",
       "    <tr>\n",
       "      <th>0</th>\n",
       "      <td>1</td>\n",
       "      <td>Breaking Bad</td>\n",
       "      <td>2008</td>\n",
       "      <td>18+</td>\n",
       "      <td>9.5</td>\n",
       "      <td>100</td>\n",
       "      <td>Crime,Drama</td>\n",
       "      <td>When Walter White, a New Mexico chemistry teac...</td>\n",
       "      <td>5</td>\n",
       "      <td>Netflix</td>\n",
       "      <td>77.827960</td>\n",
       "      <td>1.000000</td>\n",
       "      <td>1.00</td>\n",
       "      <td>0.977011</td>\n",
       "    </tr>\n",
       "    <tr>\n",
       "      <th>1</th>\n",
       "      <td>2</td>\n",
       "      <td>Game of Thrones</td>\n",
       "      <td>2011</td>\n",
       "      <td>18+</td>\n",
       "      <td>9.3</td>\n",
       "      <td>99</td>\n",
       "      <td>Action &amp; Adventure,Drama</td>\n",
       "      <td>Seven noble families fight for control of the ...</td>\n",
       "      <td>8</td>\n",
       "      <td>HBO MAX,HBO</td>\n",
       "      <td>77.024778</td>\n",
       "      <td>0.984629</td>\n",
       "      <td>0.99</td>\n",
       "      <td>0.954023</td>\n",
       "    </tr>\n",
       "  </tbody>\n",
       "</table>\n",
       "</div>"
      ],
      "text/plain": [
       "   Series_ID     Series_Title  Released_Year Content_Rating  IMDB_Rating  \\\n",
       "0          1     Breaking Bad           2008            18+          9.5   \n",
       "1          2  Game of Thrones           2011            18+          9.3   \n",
       "\n",
       "   Rotten_Tomatoes                     Genre  \\\n",
       "0              100               Crime,Drama   \n",
       "1               99  Action & Adventure,Drama   \n",
       "\n",
       "                                         Description No_of_Seasons  \\\n",
       "0  When Walter White, a New Mexico chemistry teac...             5   \n",
       "1  Seven noble families fight for control of the ...             8   \n",
       "\n",
       "  Streaming_Platform  weighted_average  normalized_weighted_average  \\\n",
       "0            Netflix         77.827960                     1.000000   \n",
       "1        HBO MAX,HBO         77.024778                     0.984629   \n",
       "\n",
       "   normalized_rotten_tomatoes_popularity  normalized_imdb_rating_popularity  \n",
       "0                                   1.00                           0.977011  \n",
       "1                                   0.99                           0.954023  "
      ]
     },
     "execution_count": 56,
     "metadata": {},
     "output_type": "execute_result"
    }
   ],
   "source": [
    "shows.head(2)"
   ]
  },
  {
   "cell_type": "code",
   "execution_count": 57,
   "metadata": {},
   "outputs": [],
   "source": [
    "shows['score'] = shows['normalized_weighted_average'] * 0.6 + shows['normalized_rotten_tomatoes_popularity'] * 0.2 + shows['normalized_imdb_rating_popularity'] * 0.2"
   ]
  },
  {
   "cell_type": "code",
   "execution_count": 58,
   "metadata": {},
   "outputs": [
    {
     "data": {
      "text/html": [
       "<div>\n",
       "<style scoped>\n",
       "    .dataframe tbody tr th:only-of-type {\n",
       "        vertical-align: middle;\n",
       "    }\n",
       "\n",
       "    .dataframe tbody tr th {\n",
       "        vertical-align: top;\n",
       "    }\n",
       "\n",
       "    .dataframe thead th {\n",
       "        text-align: right;\n",
       "    }\n",
       "</style>\n",
       "<table border=\"1\" class=\"dataframe\">\n",
       "  <thead>\n",
       "    <tr style=\"text-align: right;\">\n",
       "      <th></th>\n",
       "      <th>Series_ID</th>\n",
       "      <th>Series_Title</th>\n",
       "      <th>Released_Year</th>\n",
       "      <th>Content_Rating</th>\n",
       "      <th>IMDB_Rating</th>\n",
       "      <th>Rotten_Tomatoes</th>\n",
       "      <th>Genre</th>\n",
       "      <th>Description</th>\n",
       "      <th>No_of_Seasons</th>\n",
       "      <th>Streaming_Platform</th>\n",
       "      <th>weighted_average</th>\n",
       "      <th>normalized_weighted_average</th>\n",
       "      <th>normalized_rotten_tomatoes_popularity</th>\n",
       "      <th>normalized_imdb_rating_popularity</th>\n",
       "      <th>score</th>\n",
       "    </tr>\n",
       "  </thead>\n",
       "  <tbody>\n",
       "    <tr>\n",
       "      <th>0</th>\n",
       "      <td>1</td>\n",
       "      <td>Breaking Bad</td>\n",
       "      <td>2008</td>\n",
       "      <td>18+</td>\n",
       "      <td>9.5</td>\n",
       "      <td>100</td>\n",
       "      <td>Crime,Drama</td>\n",
       "      <td>When Walter White, a New Mexico chemistry teac...</td>\n",
       "      <td>5</td>\n",
       "      <td>Netflix</td>\n",
       "      <td>77.827960</td>\n",
       "      <td>1.000000</td>\n",
       "      <td>1.00</td>\n",
       "      <td>0.977011</td>\n",
       "      <td>0.995402</td>\n",
       "    </tr>\n",
       "    <tr>\n",
       "      <th>1</th>\n",
       "      <td>2</td>\n",
       "      <td>Game of Thrones</td>\n",
       "      <td>2011</td>\n",
       "      <td>18+</td>\n",
       "      <td>9.3</td>\n",
       "      <td>99</td>\n",
       "      <td>Action &amp; Adventure,Drama</td>\n",
       "      <td>Seven noble families fight for control of the ...</td>\n",
       "      <td>8</td>\n",
       "      <td>HBO MAX,HBO</td>\n",
       "      <td>77.024778</td>\n",
       "      <td>0.984629</td>\n",
       "      <td>0.99</td>\n",
       "      <td>0.954023</td>\n",
       "      <td>0.979582</td>\n",
       "    </tr>\n",
       "    <tr>\n",
       "      <th>2</th>\n",
       "      <td>3</td>\n",
       "      <td>Rick and Morty</td>\n",
       "      <td>2013</td>\n",
       "      <td>18+</td>\n",
       "      <td>9.2</td>\n",
       "      <td>97</td>\n",
       "      <td>Animation,Comedy</td>\n",
       "      <td>Rick is a mentally-unbalanced but scientifical...</td>\n",
       "      <td>4</td>\n",
       "      <td>Free Services,HBO MAX,Hulu</td>\n",
       "      <td>75.813159</td>\n",
       "      <td>0.961441</td>\n",
       "      <td>0.97</td>\n",
       "      <td>0.942529</td>\n",
       "      <td>0.959370</td>\n",
       "    </tr>\n",
       "    <tr>\n",
       "      <th>6</th>\n",
       "      <td>7</td>\n",
       "      <td>Chernobyl</td>\n",
       "      <td>2019</td>\n",
       "      <td>18+</td>\n",
       "      <td>9.4</td>\n",
       "      <td>95</td>\n",
       "      <td>Drama,History</td>\n",
       "      <td>The true story of one of the worst man-made ca...</td>\n",
       "      <td>1</td>\n",
       "      <td>HBO MAX,HBO</td>\n",
       "      <td>74.966495</td>\n",
       "      <td>0.945237</td>\n",
       "      <td>0.95</td>\n",
       "      <td>0.965517</td>\n",
       "      <td>0.950246</td>\n",
       "    </tr>\n",
       "    <tr>\n",
       "      <th>3</th>\n",
       "      <td>4</td>\n",
       "      <td>Stranger Things</td>\n",
       "      <td>2016</td>\n",
       "      <td>16+</td>\n",
       "      <td>8.8</td>\n",
       "      <td>96</td>\n",
       "      <td>Drama,Fantasy</td>\n",
       "      <td>When a young boy vanishes, a small town uncove...</td>\n",
       "      <td>3</td>\n",
       "      <td>Netflix</td>\n",
       "      <td>74.772513</td>\n",
       "      <td>0.941525</td>\n",
       "      <td>0.96</td>\n",
       "      <td>0.896552</td>\n",
       "      <td>0.936225</td>\n",
       "    </tr>\n",
       "  </tbody>\n",
       "</table>\n",
       "</div>"
      ],
      "text/plain": [
       "   Series_ID     Series_Title  Released_Year Content_Rating  IMDB_Rating  \\\n",
       "0          1     Breaking Bad           2008            18+          9.5   \n",
       "1          2  Game of Thrones           2011            18+          9.3   \n",
       "2          3   Rick and Morty           2013            18+          9.2   \n",
       "6          7        Chernobyl           2019            18+          9.4   \n",
       "3          4  Stranger Things           2016            16+          8.8   \n",
       "\n",
       "   Rotten_Tomatoes                     Genre  \\\n",
       "0              100               Crime,Drama   \n",
       "1               99  Action & Adventure,Drama   \n",
       "2               97          Animation,Comedy   \n",
       "6               95             Drama,History   \n",
       "3               96             Drama,Fantasy   \n",
       "\n",
       "                                         Description No_of_Seasons  \\\n",
       "0  When Walter White, a New Mexico chemistry teac...             5   \n",
       "1  Seven noble families fight for control of the ...             8   \n",
       "2  Rick is a mentally-unbalanced but scientifical...             4   \n",
       "6  The true story of one of the worst man-made ca...             1   \n",
       "3  When a young boy vanishes, a small town uncove...             3   \n",
       "\n",
       "           Streaming_Platform  weighted_average  normalized_weighted_average  \\\n",
       "0                     Netflix         77.827960                     1.000000   \n",
       "1                 HBO MAX,HBO         77.024778                     0.984629   \n",
       "2  Free Services,HBO MAX,Hulu         75.813159                     0.961441   \n",
       "6                 HBO MAX,HBO         74.966495                     0.945237   \n",
       "3                     Netflix         74.772513                     0.941525   \n",
       "\n",
       "   normalized_rotten_tomatoes_popularity  normalized_imdb_rating_popularity  \\\n",
       "0                                   1.00                           0.977011   \n",
       "1                                   0.99                           0.954023   \n",
       "2                                   0.97                           0.942529   \n",
       "6                                   0.95                           0.965517   \n",
       "3                                   0.96                           0.896552   \n",
       "\n",
       "      score  \n",
       "0  0.995402  \n",
       "1  0.979582  \n",
       "2  0.959370  \n",
       "6  0.950246  \n",
       "3  0.936225  "
      ]
     },
     "execution_count": 58,
     "metadata": {},
     "output_type": "execute_result"
    }
   ],
   "source": [
    "series_score = shows.sort_values(['score'], ascending = False)\n",
    "series_score.head()"
   ]
  },
  {
   "cell_type": "code",
   "execution_count": 59,
   "metadata": {},
   "outputs": [],
   "source": [
    "series_scores = series_score[['Series_Title','score', 'Content_Rating', 'IMDB_Rating',  'Genre', 'No_of_Seasons', 'Streaming_Platform']]\n",
    "series_scores = series_scores.dropna()"
   ]
  },
  {
   "cell_type": "code",
   "execution_count": 60,
   "metadata": {},
   "outputs": [
    {
     "data": {
      "text/plain": [
       "Series_Title          0\n",
       "score                 0\n",
       "Content_Rating        0\n",
       "IMDB_Rating           0\n",
       "Genre                 0\n",
       "No_of_Seasons         0\n",
       "Streaming_Platform    0\n",
       "dtype: int64"
      ]
     },
     "execution_count": 60,
     "metadata": {},
     "output_type": "execute_result"
    }
   ],
   "source": [
    "series_scores.isnull().sum()"
   ]
  },
  {
   "cell_type": "code",
   "execution_count": 61,
   "metadata": {},
   "outputs": [
    {
     "data": {
      "text/plain": [
       "(10207, 15)"
      ]
     },
     "execution_count": 61,
     "metadata": {},
     "output_type": "execute_result"
    }
   ],
   "source": [
    "shows.shape"
   ]
  },
  {
   "cell_type": "code",
   "execution_count": 62,
   "metadata": {},
   "outputs": [
    {
     "data": {
      "text/html": [
       "<div>\n",
       "<style scoped>\n",
       "    .dataframe tbody tr th:only-of-type {\n",
       "        vertical-align: middle;\n",
       "    }\n",
       "\n",
       "    .dataframe tbody tr th {\n",
       "        vertical-align: top;\n",
       "    }\n",
       "\n",
       "    .dataframe thead th {\n",
       "        text-align: right;\n",
       "    }\n",
       "</style>\n",
       "<table border=\"1\" class=\"dataframe\">\n",
       "  <thead>\n",
       "    <tr style=\"text-align: right;\">\n",
       "      <th></th>\n",
       "      <th>Series_ID</th>\n",
       "      <th>Series_Title</th>\n",
       "      <th>Released_Year</th>\n",
       "      <th>Content_Rating</th>\n",
       "      <th>IMDB_Rating</th>\n",
       "      <th>Rotten_Tomatoes</th>\n",
       "      <th>Genre</th>\n",
       "      <th>Description</th>\n",
       "      <th>No_of_Seasons</th>\n",
       "      <th>Streaming_Platform</th>\n",
       "      <th>weighted_average</th>\n",
       "      <th>normalized_weighted_average</th>\n",
       "      <th>normalized_rotten_tomatoes_popularity</th>\n",
       "      <th>normalized_imdb_rating_popularity</th>\n",
       "      <th>score</th>\n",
       "    </tr>\n",
       "  </thead>\n",
       "  <tbody>\n",
       "    <tr>\n",
       "      <th>10202</th>\n",
       "      <td>10203</td>\n",
       "      <td>Afropop: The Ultimate Cultural Exchange</td>\n",
       "      <td>2014</td>\n",
       "      <td>unknown</td>\n",
       "      <td>5.1</td>\n",
       "      <td>25</td>\n",
       "      <td>Documentary,2014</td>\n",
       "      <td>AFROPOP: THE ULTIMATE CULTURAL EXCHANGE celebr...</td>\n",
       "      <td>5</td>\n",
       "      <td>Free Services</td>\n",
       "      <td>40.614241</td>\n",
       "      <td>0.399435</td>\n",
       "      <td>0.18</td>\n",
       "      <td>0.022989</td>\n",
       "      <td>0.280259</td>\n",
       "    </tr>\n",
       "    <tr>\n",
       "      <th>10203</th>\n",
       "      <td>10204</td>\n",
       "      <td>Music City Fix</td>\n",
       "      <td>2018</td>\n",
       "      <td>all</td>\n",
       "      <td>7.4</td>\n",
       "      <td>25</td>\n",
       "      <td>Home &amp; Garden,2018</td>\n",
       "      <td>Expert house flipper Dave and Kortney Wilson t...</td>\n",
       "      <td>1</td>\n",
       "      <td>HGTV,fuboTV</td>\n",
       "      <td>38.251560</td>\n",
       "      <td>0.290747</td>\n",
       "      <td>0.17</td>\n",
       "      <td>0.264368</td>\n",
       "      <td>0.261322</td>\n",
       "    </tr>\n",
       "    <tr>\n",
       "      <th>10204</th>\n",
       "      <td>10205</td>\n",
       "      <td>Almost Genius</td>\n",
       "      <td>2015</td>\n",
       "      <td>16+</td>\n",
       "      <td>1.3</td>\n",
       "      <td>25</td>\n",
       "      <td>Comedy,Reality</td>\n",
       "      <td>A celebration of the people, places, and thing...</td>\n",
       "      <td>2</td>\n",
       "      <td>TruTV</td>\n",
       "      <td>47.134474</td>\n",
       "      <td>0.323941</td>\n",
       "      <td>0.13</td>\n",
       "      <td>0.137931</td>\n",
       "      <td>0.247951</td>\n",
       "    </tr>\n",
       "    <tr>\n",
       "      <th>10205</th>\n",
       "      <td>10206</td>\n",
       "      <td>The American Dream Project</td>\n",
       "      <td>2015</td>\n",
       "      <td>unknown</td>\n",
       "      <td>6.8</td>\n",
       "      <td>25</td>\n",
       "      <td>Documentary,2015</td>\n",
       "      <td>A British ex-pat New Yorker and his American b...</td>\n",
       "      <td>1</td>\n",
       "      <td>Prime Video</td>\n",
       "      <td>38.796144</td>\n",
       "      <td>0.000000</td>\n",
       "      <td>0.00</td>\n",
       "      <td>0.770115</td>\n",
       "      <td>0.154023</td>\n",
       "    </tr>\n",
       "    <tr>\n",
       "      <th>10206</th>\n",
       "      <td>10207</td>\n",
       "      <td>STORIbook Weddings</td>\n",
       "      <td>2011</td>\n",
       "      <td>unknown</td>\n",
       "      <td>6.2</td>\n",
       "      <td>25</td>\n",
       "      <td>Reality,2011</td>\n",
       "      <td>Tori &amp; Dean: sTORIbook Weddings is an American...</td>\n",
       "      <td>1</td>\n",
       "      <td>unknown</td>\n",
       "      <td>39.387408</td>\n",
       "      <td>0.006398</td>\n",
       "      <td>0.00</td>\n",
       "      <td>0.747126</td>\n",
       "      <td>0.153264</td>\n",
       "    </tr>\n",
       "  </tbody>\n",
       "</table>\n",
       "</div>"
      ],
      "text/plain": [
       "       Series_ID                             Series_Title  Released_Year  \\\n",
       "10202      10203  Afropop: The Ultimate Cultural Exchange           2014   \n",
       "10203      10204                           Music City Fix           2018   \n",
       "10204      10205                            Almost Genius           2015   \n",
       "10205      10206               The American Dream Project           2015   \n",
       "10206      10207                       STORIbook Weddings           2011   \n",
       "\n",
       "      Content_Rating  IMDB_Rating  Rotten_Tomatoes               Genre  \\\n",
       "10202        unknown          5.1               25    Documentary,2014   \n",
       "10203            all          7.4               25  Home & Garden,2018   \n",
       "10204            16+          1.3               25      Comedy,Reality   \n",
       "10205        unknown          6.8               25    Documentary,2015   \n",
       "10206        unknown          6.2               25        Reality,2011   \n",
       "\n",
       "                                             Description No_of_Seasons  \\\n",
       "10202  AFROPOP: THE ULTIMATE CULTURAL EXCHANGE celebr...             5   \n",
       "10203  Expert house flipper Dave and Kortney Wilson t...             1   \n",
       "10204  A celebration of the people, places, and thing...             2   \n",
       "10205  A British ex-pat New Yorker and his American b...             1   \n",
       "10206  Tori & Dean: sTORIbook Weddings is an American...             1   \n",
       "\n",
       "      Streaming_Platform  weighted_average  normalized_weighted_average  \\\n",
       "10202      Free Services         40.614241                     0.399435   \n",
       "10203        HGTV,fuboTV         38.251560                     0.290747   \n",
       "10204              TruTV         47.134474                     0.323941   \n",
       "10205        Prime Video         38.796144                     0.000000   \n",
       "10206            unknown         39.387408                     0.006398   \n",
       "\n",
       "       normalized_rotten_tomatoes_popularity  \\\n",
       "10202                                   0.18   \n",
       "10203                                   0.17   \n",
       "10204                                   0.13   \n",
       "10205                                   0.00   \n",
       "10206                                   0.00   \n",
       "\n",
       "       normalized_imdb_rating_popularity     score  \n",
       "10202                           0.022989  0.280259  \n",
       "10203                           0.264368  0.261322  \n",
       "10204                           0.137931  0.247951  \n",
       "10205                           0.770115  0.154023  \n",
       "10206                           0.747126  0.153264  "
      ]
     },
     "execution_count": 62,
     "metadata": {},
     "output_type": "execute_result"
    }
   ],
   "source": [
    "shows = shows.dropna()\n",
    "shows.tail()"
   ]
  },
  {
   "cell_type": "code",
   "execution_count": 63,
   "metadata": {},
   "outputs": [
    {
     "name": "stdout",
     "output_type": "stream",
     "text": [
      "<class 'pandas.core.frame.DataFrame'>\n",
      "Int64Index: 9911 entries, 0 to 10206\n",
      "Data columns (total 15 columns):\n",
      "Series_ID                                9911 non-null int32\n",
      "Series_Title                             9911 non-null object\n",
      "Released_Year                            9911 non-null int64\n",
      "Content_Rating                           9911 non-null object\n",
      "IMDB_Rating                              9911 non-null float64\n",
      "Rotten_Tomatoes                          9911 non-null int64\n",
      "Genre                                    9911 non-null object\n",
      "Description                              9911 non-null object\n",
      "No_of_Seasons                            9911 non-null object\n",
      "Streaming_Platform                       9911 non-null object\n",
      "weighted_average                         9911 non-null float64\n",
      "normalized_weighted_average              9911 non-null float64\n",
      "normalized_rotten_tomatoes_popularity    9911 non-null float64\n",
      "normalized_imdb_rating_popularity        9911 non-null float64\n",
      "score                                    9911 non-null float64\n",
      "dtypes: float64(6), int32(1), int64(2), object(6)\n",
      "memory usage: 1.2+ MB\n"
     ]
    }
   ],
   "source": [
    "shows.info()"
   ]
  },
  {
   "cell_type": "code",
   "execution_count": 64,
   "metadata": {},
   "outputs": [
    {
     "data": {
      "image/png": "[encoded data removed]",
      "text/plain": [
       "<Figure size 1152x432 with 1 Axes>"
      ]
     },
     "metadata": {
      "needs_background": "light"
     },
     "output_type": "display_data"
    }
   ],
   "source": [
    "plt.figure(figsize=(16,6))\n",
    "\n",
    "sns.barplot(x=shows.sort_values(['score'], ascending=False)['score'].head(10), y=shows.sort_values(['score'], ascending=False)['Series_Title'].head(10), data=shows.sort_values(['score'], ascending=False), palette='deep')\n",
    "\n",
    "plt.title('Top 10 Best Rated & Most Popular Series', weight='bold')\n",
    "plt.xlabel('Score', weight='bold')\n",
    "plt.ylabel('Series Title', weight='bold');"
   ]
  },
  {
   "cell_type": "code",
   "execution_count": 65,
   "metadata": {},
   "outputs": [
    {
     "data": {
      "text/html": [
       "<div>\n",
       "<style scoped>\n",
       "    .dataframe tbody tr th:only-of-type {\n",
       "        vertical-align: middle;\n",
       "    }\n",
       "\n",
       "    .dataframe tbody tr th {\n",
       "        vertical-align: top;\n",
       "    }\n",
       "\n",
       "    .dataframe thead th {\n",
       "        text-align: right;\n",
       "    }\n",
       "</style>\n",
       "<table border=\"1\" class=\"dataframe\">\n",
       "  <thead>\n",
       "    <tr style=\"text-align: right;\">\n",
       "      <th></th>\n",
       "      <th>Series_Title</th>\n",
       "      <th>score</th>\n",
       "      <th>Content_Rating</th>\n",
       "      <th>IMDB_Rating</th>\n",
       "      <th>Genre</th>\n",
       "      <th>No_of_Seasons</th>\n",
       "      <th>Streaming_Platform</th>\n",
       "    </tr>\n",
       "  </thead>\n",
       "  <tbody>\n",
       "    <tr>\n",
       "      <th>0</th>\n",
       "      <td>Breaking Bad</td>\n",
       "      <td>0.995402</td>\n",
       "      <td>18+</td>\n",
       "      <td>9.5</td>\n",
       "      <td>Crime,Drama</td>\n",
       "      <td>5</td>\n",
       "      <td>Netflix</td>\n",
       "    </tr>\n",
       "    <tr>\n",
       "      <th>1</th>\n",
       "      <td>Game of Thrones</td>\n",
       "      <td>0.979582</td>\n",
       "      <td>18+</td>\n",
       "      <td>9.3</td>\n",
       "      <td>Action &amp; Adventure,Drama</td>\n",
       "      <td>8</td>\n",
       "      <td>HBO MAX,HBO</td>\n",
       "    </tr>\n",
       "    <tr>\n",
       "      <th>2</th>\n",
       "      <td>Rick and Morty</td>\n",
       "      <td>0.959370</td>\n",
       "      <td>18+</td>\n",
       "      <td>9.2</td>\n",
       "      <td>Animation,Comedy</td>\n",
       "      <td>4</td>\n",
       "      <td>Free Services,HBO MAX,Hulu</td>\n",
       "    </tr>\n",
       "    <tr>\n",
       "      <th>6</th>\n",
       "      <td>Chernobyl</td>\n",
       "      <td>0.950246</td>\n",
       "      <td>18+</td>\n",
       "      <td>9.4</td>\n",
       "      <td>Drama,History</td>\n",
       "      <td>1</td>\n",
       "      <td>HBO MAX,HBO</td>\n",
       "    </tr>\n",
       "    <tr>\n",
       "      <th>3</th>\n",
       "      <td>Stranger Things</td>\n",
       "      <td>0.936225</td>\n",
       "      <td>16+</td>\n",
       "      <td>8.8</td>\n",
       "      <td>Drama,Fantasy</td>\n",
       "      <td>3</td>\n",
       "      <td>Netflix</td>\n",
       "    </tr>\n",
       "  </tbody>\n",
       "</table>\n",
       "</div>"
      ],
      "text/plain": [
       "      Series_Title     score Content_Rating  IMDB_Rating  \\\n",
       "0     Breaking Bad  0.995402            18+          9.5   \n",
       "1  Game of Thrones  0.979582            18+          9.3   \n",
       "2   Rick and Morty  0.959370            18+          9.2   \n",
       "6        Chernobyl  0.950246            18+          9.4   \n",
       "3  Stranger Things  0.936225            16+          8.8   \n",
       "\n",
       "                      Genre No_of_Seasons          Streaming_Platform  \n",
       "0               Crime,Drama             5                     Netflix  \n",
       "1  Action & Adventure,Drama             8                 HBO MAX,HBO  \n",
       "2          Animation,Comedy             4  Free Services,HBO MAX,Hulu  \n",
       "6             Drama,History             1                 HBO MAX,HBO  \n",
       "3             Drama,Fantasy             3                     Netflix  "
      ]
     },
     "execution_count": 65,
     "metadata": {},
     "output_type": "execute_result"
    }
   ],
   "source": [
    "series_scores.head()"
   ]
  },
  {
   "cell_type": "code",
   "execution_count": 66,
   "metadata": {},
   "outputs": [
    {
     "data": {
      "text/html": [
       "<div>\n",
       "<style scoped>\n",
       "    .dataframe tbody tr th:only-of-type {\n",
       "        vertical-align: middle;\n",
       "    }\n",
       "\n",
       "    .dataframe tbody tr th {\n",
       "        vertical-align: top;\n",
       "    }\n",
       "\n",
       "    .dataframe thead th {\n",
       "        text-align: right;\n",
       "    }\n",
       "</style>\n",
       "<table border=\"1\" class=\"dataframe\">\n",
       "  <thead>\n",
       "    <tr style=\"text-align: right;\">\n",
       "      <th></th>\n",
       "      <th>Series_Title</th>\n",
       "      <th>score</th>\n",
       "      <th>Content_Rating</th>\n",
       "      <th>IMDB_Rating</th>\n",
       "      <th>Genre</th>\n",
       "      <th>No_of_Seasons</th>\n",
       "      <th>Streaming_Platform</th>\n",
       "    </tr>\n",
       "  </thead>\n",
       "  <tbody>\n",
       "    <tr>\n",
       "      <th>0</th>\n",
       "      <td>breaking bad</td>\n",
       "      <td>0.995402</td>\n",
       "      <td>18+</td>\n",
       "      <td>9.5</td>\n",
       "      <td>Crime,Drama</td>\n",
       "      <td>5</td>\n",
       "      <td>Netflix</td>\n",
       "    </tr>\n",
       "    <tr>\n",
       "      <th>1</th>\n",
       "      <td>game of thrones</td>\n",
       "      <td>0.979582</td>\n",
       "      <td>18+</td>\n",
       "      <td>9.3</td>\n",
       "      <td>Action &amp; Adventure,Drama</td>\n",
       "      <td>8</td>\n",
       "      <td>HBO MAX,HBO</td>\n",
       "    </tr>\n",
       "    <tr>\n",
       "      <th>2</th>\n",
       "      <td>rick and morty</td>\n",
       "      <td>0.959370</td>\n",
       "      <td>18+</td>\n",
       "      <td>9.2</td>\n",
       "      <td>Animation,Comedy</td>\n",
       "      <td>4</td>\n",
       "      <td>Free Services,HBO MAX,Hulu</td>\n",
       "    </tr>\n",
       "    <tr>\n",
       "      <th>6</th>\n",
       "      <td>chernobyl</td>\n",
       "      <td>0.950246</td>\n",
       "      <td>18+</td>\n",
       "      <td>9.4</td>\n",
       "      <td>Drama,History</td>\n",
       "      <td>1</td>\n",
       "      <td>HBO MAX,HBO</td>\n",
       "    </tr>\n",
       "    <tr>\n",
       "      <th>3</th>\n",
       "      <td>stranger things</td>\n",
       "      <td>0.936225</td>\n",
       "      <td>16+</td>\n",
       "      <td>8.8</td>\n",
       "      <td>Drama,Fantasy</td>\n",
       "      <td>3</td>\n",
       "      <td>Netflix</td>\n",
       "    </tr>\n",
       "  </tbody>\n",
       "</table>\n",
       "</div>"
      ],
      "text/plain": [
       "      Series_Title     score Content_Rating  IMDB_Rating  \\\n",
       "0     breaking bad  0.995402            18+          9.5   \n",
       "1  game of thrones  0.979582            18+          9.3   \n",
       "2   rick and morty  0.959370            18+          9.2   \n",
       "6        chernobyl  0.950246            18+          9.4   \n",
       "3  stranger things  0.936225            16+          8.8   \n",
       "\n",
       "                      Genre No_of_Seasons          Streaming_Platform  \n",
       "0               Crime,Drama             5                     Netflix  \n",
       "1  Action & Adventure,Drama             8                 HBO MAX,HBO  \n",
       "2          Animation,Comedy             4  Free Services,HBO MAX,Hulu  \n",
       "6             Drama,History             1                 HBO MAX,HBO  \n",
       "3             Drama,Fantasy             3                     Netflix  "
      ]
     },
     "execution_count": 66,
     "metadata": {},
     "output_type": "execute_result"
    }
   ],
   "source": [
    "series_scores[\"Series_Title\"] = series_scores['Series_Title'].str.lower()\n",
    "series_scores.head()"
   ]
  },
  {
   "cell_type": "code",
   "execution_count": 67,
   "metadata": {},
   "outputs": [
    {
     "data": {
      "text/html": [
       "<div>\n",
       "<style scoped>\n",
       "    .dataframe tbody tr th:only-of-type {\n",
       "        vertical-align: middle;\n",
       "    }\n",
       "\n",
       "    .dataframe tbody tr th {\n",
       "        vertical-align: top;\n",
       "    }\n",
       "\n",
       "    .dataframe thead th {\n",
       "        text-align: right;\n",
       "    }\n",
       "</style>\n",
       "<table border=\"1\" class=\"dataframe\">\n",
       "  <thead>\n",
       "    <tr style=\"text-align: right;\">\n",
       "      <th></th>\n",
       "      <th>Series_Title</th>\n",
       "      <th>score</th>\n",
       "      <th>Content_Rating</th>\n",
       "      <th>IMDB_Rating</th>\n",
       "      <th>Genre</th>\n",
       "      <th>No_of_Seasons</th>\n",
       "      <th>Streaming_Platform</th>\n",
       "    </tr>\n",
       "  </thead>\n",
       "  <tbody>\n",
       "    <tr>\n",
       "      <th>0</th>\n",
       "      <td>breaking bad</td>\n",
       "      <td>0.995402</td>\n",
       "      <td>18+</td>\n",
       "      <td>9.5</td>\n",
       "      <td>Crime,Drama</td>\n",
       "      <td>5</td>\n",
       "      <td>Netflix</td>\n",
       "    </tr>\n",
       "    <tr>\n",
       "      <th>1</th>\n",
       "      <td>game of thrones</td>\n",
       "      <td>0.979582</td>\n",
       "      <td>18+</td>\n",
       "      <td>9.3</td>\n",
       "      <td>Action &amp; Adventure,Drama</td>\n",
       "      <td>8</td>\n",
       "      <td>HBO MAX,HBO</td>\n",
       "    </tr>\n",
       "    <tr>\n",
       "      <th>2</th>\n",
       "      <td>rick and morty</td>\n",
       "      <td>0.959370</td>\n",
       "      <td>18+</td>\n",
       "      <td>9.2</td>\n",
       "      <td>Animation,Comedy</td>\n",
       "      <td>4</td>\n",
       "      <td>Free Services,HBO MAX,Hulu</td>\n",
       "    </tr>\n",
       "    <tr>\n",
       "      <th>6</th>\n",
       "      <td>chernobyl</td>\n",
       "      <td>0.950246</td>\n",
       "      <td>18+</td>\n",
       "      <td>9.4</td>\n",
       "      <td>Drama,History</td>\n",
       "      <td>1</td>\n",
       "      <td>HBO MAX,HBO</td>\n",
       "    </tr>\n",
       "    <tr>\n",
       "      <th>3</th>\n",
       "      <td>stranger things</td>\n",
       "      <td>0.936225</td>\n",
       "      <td>16+</td>\n",
       "      <td>8.8</td>\n",
       "      <td>Drama,Fantasy</td>\n",
       "      <td>3</td>\n",
       "      <td>Netflix</td>\n",
       "    </tr>\n",
       "  </tbody>\n",
       "</table>\n",
       "</div>"
      ],
      "text/plain": [
       "      Series_Title     score Content_Rating  IMDB_Rating  \\\n",
       "0     breaking bad  0.995402            18+          9.5   \n",
       "1  game of thrones  0.979582            18+          9.3   \n",
       "2   rick and morty  0.959370            18+          9.2   \n",
       "6        chernobyl  0.950246            18+          9.4   \n",
       "3  stranger things  0.936225            16+          8.8   \n",
       "\n",
       "                      Genre No_of_Seasons          Streaming_Platform  \n",
       "0               Crime,Drama             5                     Netflix  \n",
       "1  Action & Adventure,Drama             8                 HBO MAX,HBO  \n",
       "2          Animation,Comedy             4  Free Services,HBO MAX,Hulu  \n",
       "6             Drama,History             1                 HBO MAX,HBO  \n",
       "3             Drama,Fantasy             3                     Netflix  "
      ]
     },
     "execution_count": 67,
     "metadata": {},
     "output_type": "execute_result"
    }
   ],
   "source": [
    "series_scores['Series_Title'] = series_scores['Series_Title'].str.strip()\n",
    "series_scores.head()"
   ]
  },
  {
   "cell_type": "code",
   "execution_count": 68,
   "metadata": {},
   "outputs": [
    {
     "data": {
      "text/html": [
       "<div>\n",
       "<style scoped>\n",
       "    .dataframe tbody tr th:only-of-type {\n",
       "        vertical-align: middle;\n",
       "    }\n",
       "\n",
       "    .dataframe tbody tr th {\n",
       "        vertical-align: top;\n",
       "    }\n",
       "\n",
       "    .dataframe thead th {\n",
       "        text-align: right;\n",
       "    }\n",
       "</style>\n",
       "<table border=\"1\" class=\"dataframe\">\n",
       "  <thead>\n",
       "    <tr style=\"text-align: right;\">\n",
       "      <th></th>\n",
       "      <th>Series_Title</th>\n",
       "      <th>score</th>\n",
       "      <th>Content_Rating</th>\n",
       "      <th>IMDB_Rating</th>\n",
       "      <th>Genre</th>\n",
       "      <th>No_of_Seasons</th>\n",
       "      <th>Streaming_Platform</th>\n",
       "    </tr>\n",
       "  </thead>\n",
       "  <tbody>\n",
       "    <tr>\n",
       "      <th>0</th>\n",
       "      <td>breaking bad</td>\n",
       "      <td>0.995402</td>\n",
       "      <td>18+</td>\n",
       "      <td>9.5</td>\n",
       "      <td>Crime,Drama</td>\n",
       "      <td>5</td>\n",
       "      <td>Netflix</td>\n",
       "    </tr>\n",
       "    <tr>\n",
       "      <th>1</th>\n",
       "      <td>game of thrones</td>\n",
       "      <td>0.979582</td>\n",
       "      <td>18+</td>\n",
       "      <td>9.3</td>\n",
       "      <td>Action &amp; Adventure,Drama</td>\n",
       "      <td>8</td>\n",
       "      <td>HBO MAX,HBO</td>\n",
       "    </tr>\n",
       "    <tr>\n",
       "      <th>2</th>\n",
       "      <td>rick and morty</td>\n",
       "      <td>0.959370</td>\n",
       "      <td>18+</td>\n",
       "      <td>9.2</td>\n",
       "      <td>Animation,Comedy</td>\n",
       "      <td>4</td>\n",
       "      <td>Free Services,HBO MAX,Hulu</td>\n",
       "    </tr>\n",
       "    <tr>\n",
       "      <th>6</th>\n",
       "      <td>chernobyl</td>\n",
       "      <td>0.950246</td>\n",
       "      <td>18+</td>\n",
       "      <td>9.4</td>\n",
       "      <td>Drama,History</td>\n",
       "      <td>1</td>\n",
       "      <td>HBO MAX,HBO</td>\n",
       "    </tr>\n",
       "    <tr>\n",
       "      <th>3</th>\n",
       "      <td>stranger things</td>\n",
       "      <td>0.936225</td>\n",
       "      <td>16+</td>\n",
       "      <td>8.8</td>\n",
       "      <td>Drama,Fantasy</td>\n",
       "      <td>3</td>\n",
       "      <td>Netflix</td>\n",
       "    </tr>\n",
       "  </tbody>\n",
       "</table>\n",
       "</div>"
      ],
      "text/plain": [
       "      Series_Title     score Content_Rating  IMDB_Rating  \\\n",
       "0     breaking bad  0.995402            18+          9.5   \n",
       "1  game of thrones  0.979582            18+          9.3   \n",
       "2   rick and morty  0.959370            18+          9.2   \n",
       "6        chernobyl  0.950246            18+          9.4   \n",
       "3  stranger things  0.936225            16+          8.8   \n",
       "\n",
       "                      Genre No_of_Seasons          Streaming_Platform  \n",
       "0               Crime,Drama             5                     Netflix  \n",
       "1  Action & Adventure,Drama             8                 HBO MAX,HBO  \n",
       "2          Animation,Comedy             4  Free Services,HBO MAX,Hulu  \n",
       "6             Drama,History             1                 HBO MAX,HBO  \n",
       "3             Drama,Fantasy             3                     Netflix  "
      ]
     },
     "execution_count": 68,
     "metadata": {},
     "output_type": "execute_result"
    }
   ],
   "source": [
    "series_scores.head()"
   ]
  },
  {
   "cell_type": "code",
   "execution_count": 69,
   "metadata": {},
   "outputs": [
    {
     "name": "stdout",
     "output_type": "stream",
     "text": [
      "stranger things\n",
      "\n",
      "Best Recommended Series for you:-\n",
      "\n",
      "Name of the Series- avatar: the last airbender\n",
      "Content Rating- 7+\n",
      "IMDB Rating- 9.2\n",
      "Genre- Action & Adventure,Animation\n",
      "Streaming Platform- Netflix,CBS All Access,Hoopla\n",
      "\n",
      "Name of the Series- sherlock\n",
      "Content Rating- 16+\n",
      "IMDB Rating- 9.1\n",
      "Genre- Action & Adventure,Crime\n",
      "Streaming Platform- Netflix\n",
      "\n",
      "Name of the Series- the wire\n",
      "Content Rating- 18+\n",
      "IMDB Rating- 9.3\n",
      "Genre- Crime,Drama\n",
      "Streaming Platform- HBO MAX,HBO\n",
      "\n",
      "Name of the Series- dark\n",
      "Content Rating- 16+\n",
      "IMDB Rating- 8.8\n",
      "Genre- Crime,Drama\n",
      "Streaming Platform- Netflix\n",
      "\n",
      "Name of the Series- band of brothers\n",
      "Content Rating- 18+\n",
      "IMDB Rating- 9.4\n",
      "Genre- Action & Adventure,Drama\n",
      "Streaming Platform- HBO MAX,HBO\n",
      "\n"
     ]
    }
   ],
   "source": [
    "def get_rec(series_scores, n):\n",
    "    series_name = list(series_scores.Series_Title)\n",
    "    series_content_rating = list(series_scores.Content_Rating)\n",
    "    series_imdb_rating = list(series_scores.IMDB_Rating)\n",
    "    series_genre = list(series_scores.Genre)\n",
    "    series_streaming_platform = list(series_scores.Streaming_Platform)\n",
    "    if n in series_name:\n",
    "        a = series_name.index(n)\n",
    "        print()\n",
    "        print(\"Best Recommended Series for you:-\")\n",
    "        print()\n",
    "        for i in range(a+1, a+6):\n",
    "            print(\"Name of the Series- {}\".format(series_name[i]))\n",
    "            print(\"Content Rating- {}\".format(series_content_rating[i]))\n",
    "            print(\"IMDB Rating- {}\".format(series_imdb_rating[i]))\n",
    "            print(\"Genre- {}\".format(series_genre[i]))\n",
    "            print(\"Streaming Platform- {}\".format(series_streaming_platform[i]))\n",
    "            print()\n",
    "            if i == (len(series_name)-1):\n",
    "                break\n",
    "    else:\n",
    "        print()\n",
    "        print(\"This series is not in our data...\")\n",
    "        print(\"Search for another series.\")\n",
    "            \n",
    "get_rec(series_scores, input())"
   ]
  }
 ],
 "metadata": {
  "kernelspec": {
   "display_name": "Python 3",
   "language": "python",
   "name": "python3"
  },
  "language_info": {
   "codemirror_mode": {
    "name": "ipython",
    "version": 3
   },
   "file_extension": ".py",
   "mimetype": "text/x-python",
   "name": "python",
   "nbconvert_exporter": "python",
   "pygments_lexer": "ipython3",
   "version": "3.7.3"
  }
 },
 "nbformat": 4,
 "nbformat_minor": 2
}
